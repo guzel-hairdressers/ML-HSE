{
 "cells": [
  {
   "cell_type": "markdown",
   "metadata": {
    "id": "HcF9My_FhLuk"
   },
   "source": [
    "## Машинное обучение 1, ПМИ ФКН ВШЭ\n",
    "\n",
    "## Практическое домашнее задание 1\n",
    "\n",
    "### Общая информация\n",
    "\n",
    "Дата выдачи: 25.09.2024\n",
    "\n",
    "Мягкий дедлайн: 23:59MSK 06.10.2024\n",
    "\n",
    "Жесткий дедлайн: 23:59MSK 10.10.2024"
   ]
  },
  {
   "cell_type": "markdown",
   "metadata": {
    "id": "G64TptyJhLuo"
   },
   "source": [
    "### О задании\n",
    "\n",
    "Задание состоит из двух разделов, посвященных работе с табличными данными с помощью библиотеки `pandas` и визуализации с помощью `matplotlib`. В первом разделе вам предстоит выполнить базовые задания с помощью вышеуказанных библиотек, а во втором распределить студентов по курсам. Баллы даются за выполнение отдельных пунктов. Задачи в рамках одного раздела рекомендуется решать в том порядке, в котором они даны в задании.\n",
    "\n",
    "Задание направлено на освоение jupyter notebook (будет использоваться в дальнейших заданиях), библиотек pandas и matplotlib.\n",
    "\n",
    "### Оценивание и штрафы\n",
    "Каждая из задач имеет определенную «стоимость» (указана в скобках около задачи). Максимально допустимая оценка за работу — 10 баллов без учёта бонусов. Сдавать задание после жёсткого дедлайна нельзя.\n",
    "\n",
    "Задание выполняется самостоятельно. «Похожие» решения считаются плагиатом и все задействованные студенты (в том числе те, у кого списали) не могут получить за него больше 0 баллов (подробнее о плагиате см. на странице курса). Если вы нашли решение какого-то из заданий (или его часть) в открытом источнике, необходимо указать ссылку на этот источник (скорее всего вы будете не единственным, кто это нашел, поэтому чтобы исключить подозрение в плагиате, необходима ссылка на источник).\n",
    "\n",
    "### Формат сдачи\n",
    "Задания сдаются через систему Anytask. Инвайт можно получить у семинариста или ассистента. Присылать необходимо ноутбук с выполненным заданием. Сам ноутбук называйте в формате `homework-practice-01-pandas-Username.ipynb`, где Username — ваша фамилия.\n",
    "\n",
    "Для удобства проверки самостоятельно посчитайте свою максимальную оценку (исходя из набора решенных задач) и укажите ниже.\n",
    "\n",
    "Оценка: xx."
   ]
  },
  {
   "cell_type": "markdown",
   "metadata": {
    "id": "BaXlfHE_hLup"
   },
   "source": [
    "## 0. Введение"
   ]
  },
  {
   "cell_type": "markdown",
   "metadata": {
    "id": "wirAvJNxhLup"
   },
   "source": [
    "Сейчас мы находимся в jupyter-ноутбуке (или ipython-ноутбуке). Это удобная среда для написания кода, проведения экспериментов, изучения данных, построения визуализаций и других нужд, не связанных с написанием production-кода.\n",
    "\n",
    "Ноутбук состоит из ячеек, каждая из которых может быть либо ячейкой с кодом, либо ячейкой с текстом размеченным и неразмеченным. Текст поддерживает markdown-разметку и формулы в Latex.\n",
    "\n",
    "Для работы с содержимым ячейки используется *режим редактирования* (*Edit mode*, включается нажатием клавиши **Enter** после выбора ячейки), а для навигации между ячейками искользуется *командный режим* (*Command mode*, включается нажатием клавиши **Esc**). Тип ячейки можно задать в командном режиме либо с помощью горячих клавиш (**y** to code, **m** to markdown, **r** to edit raw text), либо в меню *Cell -> Cell type*.\n",
    "\n",
    "После заполнения ячейки нужно нажать *Shift + Enter*, эта команда обработает содержимое ячейки: проинтерпретирует код или сверстает размеченный текст."
   ]
  },
  {
   "cell_type": "code",
   "execution_count": null,
   "metadata": {
    "id": "aQ2_j3nkhLuq"
   },
   "outputs": [],
   "source": [
    "# ячейка с кодом, при выполнении которой появится output\n",
    "2 + 2"
   ]
  },
  {
   "cell_type": "markdown",
   "metadata": {
    "id": "ZlulCwVKhLur"
   },
   "source": [
    "Ячейка с неразмеченным текстом."
   ]
  },
  {
   "cell_type": "markdown",
   "metadata": {
    "id": "A4wkVlIehLur"
   },
   "source": [
    "Попробуйте создать свои ячейки, написать какой-нибудь код и текст какой-нибудь формулой."
   ]
  },
  {
   "cell_type": "code",
   "execution_count": 1,
   "metadata": {
    "id": "BIuaYSvqhLus"
   },
   "outputs": [
    {
     "data": {
      "text/plain": [
       "8"
      ]
     },
     "execution_count": 1,
     "metadata": {},
     "output_type": "execute_result"
    }
   ],
   "source": [
    "4+4"
   ]
  },
  {
   "cell_type": "markdown",
   "metadata": {
    "id": "iWs6ljrIhLus"
   },
   "source": [
    "[Здесь](https://athena.brynmawr.edu/jupyter/hub/dblank/public/Jupyter%20Notebook%20Users%20Manual.ipynb) находится <s>не</s>большая заметка о используемом языке разметки Markdown. Он позволяет:\n",
    "\n",
    "0. Составлять упорядоченные списки\n",
    "1. Выделять *текст* <s>при</s> **необходимости**\n",
    "2. Добавлять [ссылки](http://imgs.xkcd.com/comics/the_universal_label.png)\n",
    "\n",
    "\n",
    "* Составлять неупорядоченные списки\n",
    "\n",
    "Делать вставки с помощью LaTex:\n",
    "    \n",
    "$\n",
    "\\left\\{\n",
    "\\begin{array}{ll}\n",
    "x = 16 \\sin^3 (t) \\\\\n",
    "y = 13 \\cos (t) - 5 \\cos (2t) - 2 \\cos (3t) - \\cos (4t) \\\\\n",
    "t \\in [0, 2 \\pi]\n",
    "\\end{array}\n",
    "\\right.$"
   ]
  },
  {
   "cell_type": "markdown",
   "metadata": {
    "id": "6fmTGcXOhLus"
   },
   "source": [
    "А ещё можно вставлять картинки, или гифки, или что захотите:\n",
    "\n",
    "<img src=\"https://media1.tenor.com/images/9b8fbe9214504bcf6c60fe4e4f7e114e/tenor.gif?itemid=5416416\" style=\"width: 400px\">"
   ]
  },
  {
   "cell_type": "markdown",
   "metadata": {
    "id": "J_toGw7DhLut"
   },
   "source": [
    "### Google Colab"
   ]
  },
  {
   "cell_type": "markdown",
   "metadata": {
    "id": "jpkbCVjGhLut"
   },
   "source": [
    "Что за колаб?\n",
    "\n",
    "**Google Colab (Colaboratory)** это **Jupyter Notebook + Cloud + Google Drive.**\n",
    "\n",
    "Компания Google предоставляет возможность бесплатно запускать ноутбуки (предварительно загрузив их на свой гугл-диск) прямо в облаке. При этом вам не требуется установка никаких пакетов на свою машину, а работать можно прямиком из браузера. Вот ссылка:"
   ]
  },
  {
   "cell_type": "markdown",
   "metadata": {
    "id": "06MQog3yhLut"
   },
   "source": [
    "https://colab.research.google.com"
   ]
  },
  {
   "cell_type": "markdown",
   "metadata": {
    "id": "5_hfWXKPhLut"
   },
   "source": [
    "При использовании вы увидите много сходств с jupyter ноутбуком. Одним из преимуществ является доступность GPU, соответствующую опцию можно активировать в настройках сервиса. При желании вы сможете найти в интернете много туториалов по использованию или разобраться самостоятельно"
   ]
  },
  {
   "cell_type": "markdown",
   "metadata": {
    "id": "DcRcwHpG8pxB"
   },
   "source": [
    "### Kaggle\n",
    "\n",
    "Альтернативой является **Kaggle**, он же площадка для самых разных соревнований по машинному обучению\n",
    "\n",
    "Он, как и колаб, предоставляет бесплатный GPU, и даже не один, с чётким лимитом в 30 часов в неделю (colab может его внезапно отобрать, kaggle - нет) более мощные CPU с большим числом ядер, и больше Гб ОЗУ (раз так в 2.5)\n",
    "\n",
    "https://www.kaggle.com\n",
    "\n",
    "К сожалению мир не идеален, недостатки следующие:\n",
    "- необходимость загружать датасеты через специальную кнопочку\n",
    "- невозможность использовать свои скрипты и модули :(\n",
    "- нужно тыкать техподдержку, чтобы создать аккаунт из России"
   ]
  },
  {
   "cell_type": "markdown",
   "metadata": {
    "id": "sUe2vnFGhLuu"
   },
   "source": [
    "## 1. Табличные данные и Pandas"
   ]
  },
  {
   "cell_type": "markdown",
   "metadata": {
    "id": "DJQzjjqJhLuu"
   },
   "source": [
    "Pandas — удобная библиотека для работы с табличными данными в Python, если данных не слишком много и они помещаются в оперативную память вашего компьютера. Несмотря на неэффективность реализации и некоторые проблемы, библиотека стала стандартом в анализе данных.\n",
    "\n",
    "Основной объект в `pandas` — это `pd.DataFrame`, представляющий собой таблицу с именованными колонками различных типов, индексом (может быть многоуровневым). DataFrame можно создавать, считывая таблицу из файла или задавая вручную из других объектов.\n",
    "\n",
    "В этой части потребуется выполнить несколько небольших заданий. Можно пойти двумя путями: сначала изучить материалы, а потом приступить к заданиям, или же разбираться \"по ходу\". Выбирайте сами.\n",
    "\n",
    "Материалы:\n",
    "1. [Pandas за 10 минут из официального руководства](http://pandas.pydata.org/pandas-docs/stable/10min.html)\n",
    "2. [Документация](http://pandas.pydata.org/pandas-docs/stable/index.html) (стоит обращаться, если не понятно, как вызывать конкретный метод)\n",
    "3. [Примеры использования функционала](http://nbviewer.jupyter.org/github/justmarkham/pandas-videos/blob/master/pandas.ipynb)\n",
    "\n",
    "Многие из заданий можно выполнить несколькими способами. Не существуют единственно верного, но попробуйте максимально задействовать арсенал pandas и ориентируйтесь на простоту и понятность вашего кода. Мы не будем подсказывать, что нужно использовать для решения конкретной задачи, попробуйте находить необходимый функционал сами (название метода чаще всего очевидно). В помощь вам документация, поиск и StackOverflow."
   ]
  },
  {
   "cell_type": "code",
   "execution_count": 5,
   "metadata": {
    "id": "26zbFY25hLuv",
    "outputId": "404c22c6-2696-48ab-c71e-7a3ffbc36b18"
   },
   "outputs": [],
   "source": [
    "import pandas as pd\n",
    "import matplotlib.pyplot as plt\n",
    "\n",
    "%matplotlib inline"
   ]
  },
  {
   "cell_type": "markdown",
   "metadata": {
    "id": "QZmj3q3c8A8c"
   },
   "source": [
    "<span style=\"color:red\">Перед выполнением задания необходимо ознакомиться с первым семинаром (seminars/sem01-pandas.ipynb) </span>.\n",
    "\n",
    "Это поможет вам получить общее понимание происходяшего и успешнее справиться с заданием.\n",
    "\n",
    "Также успешному выполнению способствует внимательное чтение текста задания от начала до конца.\n",
    "\n",
    "Удачи!"
   ]
  },
  {
   "cell_type": "markdown",
   "metadata": {
    "id": "dneJl9TyhLuv"
   },
   "source": [
    "Скачаем подготовленные на семинаре данные:"
   ]
  },
  {
   "cell_type": "code",
   "execution_count": 12,
   "metadata": {
    "id": "rj_I0RslhLuw"
   },
   "outputs": [
    {
     "name": "stdout",
     "output_type": "stream",
     "text": [
      "  % Total    % Received % Xferd  Average Speed   Time    Time     Time  Current\n",
      "                                 Dload  Upload   Total   Spent    Left  Speed\n",
      "100   134  100   134    0     0    275      0 --:--:-- --:--:-- --:--:--   276\n",
      "100    17  100    17    0     0     14      0  0:00:01  0:00:01 --:--:--     0\n",
      "100   475    0   475    0     0    197      0 --:--:--  0:00:02 --:--:--     0\n",
      "100 50735  100 50735    0     0  15235      0  0:00:03  0:00:03 --:--:--  228k\n"
     ]
    }
   ],
   "source": [
    "# !wget  -O 'end_seminar.xlsx' -q 'https://www.dropbox.com/s/f4rm8sjc3v99p0m/_end_seminar.xlsx?dl=0'\n",
    "!curl -L -o end_seminar.xlsx 'https://www.dropbox.com/s/f4rm8sjc3v99p0m/_end_seminar.xlsx?dl=1'"
   ]
  },
  {
   "cell_type": "markdown",
   "metadata": {
    "id": "5hp7bn_ThLuw"
   },
   "source": [
    "Для пользователей Windows: скачайте файл самостоятельно и поместите его в папку с тетрадкой. Или попробуйте один из следующих вариантов:"
   ]
  },
  {
   "cell_type": "code",
   "execution_count": null,
   "metadata": {
    "id": "4h4_BaX8hLuw"
   },
   "outputs": [],
   "source": [
    "# !powershell iwr -outf somefile https://somesite/somefile"
   ]
  },
  {
   "cell_type": "code",
   "execution_count": null,
   "metadata": {
    "id": "7bHroLGChLuw"
   },
   "outputs": [],
   "source": [
    "# !pip install wget\n",
    "# import wget\n",
    "# wget.download('https://dropbox.com/s/f4rm8sjc3v99p0m/_end_seminar.xlsx?dl=1', 'end_seminar.xlsx')"
   ]
  },
  {
   "cell_type": "markdown",
   "metadata": {
    "id": "VFs_6IythLux"
   },
   "source": [
    "##### В первой части задания (до раздела \"Распределение студентов по курсам\") использование циклов запрещается и повлечет за собой снижение оценки. Использование <code>vectorize</code> и  <code>apply</code>, <code>apply_along_axis</code> и всего, где можно применить лямбда-функции (`assign`, `map`, ...) крайне нежелательно"
   ]
  },
  {
   "cell_type": "markdown",
   "metadata": {
    "id": "shFkfJkohLux"
   },
   "source": [
    "Для каждой задачи из этого раздела вы должны написать код для получения ответа, а также дать текстовый ответ, если он предполагается.\n",
    "\n",
    "На некоторые вопросы вы можете получить путём пристального взгляда на таблицу, но это не будет засчитываться. Вы в любом случае должны получить ответ с помощью кода."
   ]
  },
  {
   "cell_type": "markdown",
   "metadata": {
    "id": "gDD85M7bhLux"
   },
   "source": [
    "#### 1. [0.5 баллов] Откройте файл с таблицей (не забудьте про её формат). Выведите 3 последних строки.\n",
    "\n",
    "Посмотрите на данные и скажите, что они из себя представляют, сколько в таблице строк, какие столбцы? (на это не надо отвечать, просто подумайте об этом)"
   ]
  },
  {
   "cell_type": "code",
   "execution_count": 394,
   "metadata": {
    "id": "PKulur3LhLuy"
   },
   "outputs": [],
   "source": [
    "data = pd.read_excel('./end_seminar.xlsx')"
   ]
  },
  {
   "cell_type": "markdown",
   "metadata": {
    "id": "P6dOzc7e85Bs"
   },
   "source": [
    "### Ответьте на вопросы:\n",
    "1. Сколько было уникальных пользователей из групп 18-го года набора, а сколько из групп 17-го года?"
   ]
  },
  {
   "cell_type": "code",
   "execution_count": 26,
   "metadata": {
    "id": "ZLBcHvHf890B"
   },
   "outputs": [
    {
     "data": {
      "text/plain": [
       "9"
      ]
     },
     "execution_count": 26,
     "metadata": {},
     "output_type": "execute_result"
    }
   ],
   "source": [
    "data[\"18_group\"].unique().size"
   ]
  },
  {
   "cell_type": "code",
   "execution_count": 27,
   "metadata": {},
   "outputs": [
    {
     "data": {
      "text/plain": [
       "8"
      ]
     },
     "execution_count": 27,
     "metadata": {},
     "output_type": "execute_result"
    }
   ],
   "source": [
    "data[\"17_group\"].unique().size"
   ]
  },
  {
   "cell_type": "markdown",
   "metadata": {
    "id": "dt89P1sG88NN"
   },
   "source": [
    "2. Есть ли уникальные студенты с равными перцентилями?"
   ]
  },
  {
   "cell_type": "code",
   "execution_count": 30,
   "metadata": {
    "id": "NA8Yy9D98-Nv"
   },
   "outputs": [
    {
     "data": {
      "text/plain": [
       "array([181., 185., 182., 183., 187., 186., 184., 188.,  nan])"
      ]
     },
     "execution_count": 30,
     "metadata": {},
     "output_type": "execute_result"
    }
   ],
   "source": [
    "data[\"18_group\"].unique()"
   ]
  },
  {
   "cell_type": "code",
   "execution_count": 37,
   "metadata": {},
   "outputs": [
    {
     "data": {
      "text/plain": [
       "array([0.        , 0.20403587, 0.29347826, 0.33856502, 0.36995516,\n",
       "       0.51345291, 0.52690583, 0.54710145, 0.57623318, 0.76449275,\n",
       "       0.7735426 , 0.79596413, 0.80797101, 0.82286996, 0.93946188])"
      ]
     },
     "execution_count": 37,
     "metadata": {},
     "output_type": "execute_result"
    }
   ],
   "source": [
    "unique, counts = np.unique(data[\"percentile\"].values, return_counts=True)\n",
    "unique[counts>1]"
   ]
  },
  {
   "cell_type": "markdown",
   "metadata": {
    "id": "jPiMwyqHhLuy"
   },
   "source": [
    "#### 2. [0.5 балла] Есть ли в данных пропуски? В каких колонках? Сколько их в каждой из этих колонок?"
   ]
  },
  {
   "cell_type": "code",
   "execution_count": 41,
   "metadata": {
    "id": "edY1RrSOhLuy"
   },
   "outputs": [
    {
     "data": {
      "text/plain": [
       "timestamp          0\n",
       "id                 0\n",
       "rating             0\n",
       "18_group         138\n",
       "is_mi            343\n",
       "fall_1             0\n",
       "fall_2             0\n",
       "fall_3             0\n",
       "spring_1           0\n",
       "spring_2           0\n",
       "spring_3           0\n",
       "is_first_time      2\n",
       "percentile         0\n",
       "17_group         223\n",
       "blended          223\n",
       "is_ml_student    304\n",
       "dtype: int64"
      ]
     },
     "execution_count": 41,
     "metadata": {},
     "output_type": "execute_result"
    }
   ],
   "source": [
    "(data.isna()==True).sum(axis=0)"
   ]
  },
  {
   "cell_type": "code",
   "execution_count": 53,
   "metadata": {},
   "outputs": [
    {
     "data": {
      "text/plain": [
       "array([nan, 'DevOps', 'Введение в дифференциальную геометрию',\n",
       "       'Соревновательный анализ данных'], dtype=object)"
      ]
     },
     "execution_count": 53,
     "metadata": {},
     "output_type": "execute_result"
    }
   ],
   "source": [
    "data[\"blended\"].unique()"
   ]
  },
  {
   "cell_type": "markdown",
   "metadata": {
    "id": "B5ORhP2uhLuz"
   },
   "source": [
    "Заполните пропуски пустой строкой для строковых колонок, нулём для числовых и False для булевых (постарайтесь избежать перечисления названий всех столбцов)."
   ]
  },
  {
   "cell_type": "code",
   "execution_count": 396,
   "metadata": {
    "id": "TlF_JJ2ghLuz"
   },
   "outputs": [
    {
     "data": {
      "text/plain": [
       "(361, 16)"
      ]
     },
     "execution_count": 396,
     "metadata": {},
     "output_type": "execute_result"
    }
   ],
   "source": [
    "data_preprocessed = data.copy()\n",
    "data_preprocessed.loc[:, data.dtypes==\"int64\"] = data.loc[:, data.dtypes==\"int64\"].fillna(0).astype(int)\n",
    "data_preprocessed.loc[:, data.dtypes==\"float64\"] = data.loc[:, data.dtypes==\"float64\"].fillna(0.)\n",
    "data_preprocessed.loc[:, data.dtypes==\"object\"] = data.loc[:, data.dtypes==\"object\"].fillna(\"\")\n",
    "data_preprocessed[data.filter(regex=\"is\").columns] = data_preprocessed.filter(regex=\"is\").map(lambda x: x == 1 or x == \"Да\").astype(bool)\n",
    "\n",
    "data_preprocessed[\"17_group\"] = data_preprocessed[\"17_group\"].astype(int)\n",
    "data_preprocessed[\"18_group\"] = data_preprocessed[\"18_group\"].astype(int)"
   ]
  },
  {
   "cell_type": "markdown",
   "metadata": {
    "id": "w5ELhkT1hLuz"
   },
   "source": [
    "#### 3. [0.5 балла] Посмотрите повнимательнее на колонку 'is_first_time'.\n",
    "\n",
    "Каково процентное соотношение ответов? Сколько из них \"Нет\"?"
   ]
  },
  {
   "cell_type": "code",
   "execution_count": 401,
   "metadata": {
    "id": "VEfiNsyQhLuz"
   },
   "outputs": [
    {
     "data": {
      "text/plain": [
       "np.float64(15.273775216138327)"
      ]
     },
     "execution_count": 401,
     "metadata": {},
     "output_type": "execute_result"
    }
   ],
   "source": [
    "unique, counts = np.unique(data_preprocessed[\"is_first_time\"].to_numpy(), return_counts=True)\n",
    "counts[0] / (counts[0] + counts[1]) * 100"
   ]
  },
  {
   "cell_type": "markdown",
   "metadata": {
    "id": "7ufxpSDO9Hyc"
   },
   "source": [
    "Если вы найдете повторные обращения студентов, оставьте только самую позднюю версию. В дальнейших заданиях используйте версию данных без повторов.\n",
    "\n",
    "<i>Обращения со значением \"Нет\" в 'is_first_time' могут быть как повторными, так и первичными, поскольку поле заполняли сами студенты.</i>"
   ]
  },
  {
   "cell_type": "code",
   "execution_count": 402,
   "metadata": {
    "id": "M0Wx60oU9IkX"
   },
   "outputs": [],
   "source": [
    "data_preprocessed = data_preprocessed.sort_values(\"timestamp\").drop_duplicates(\"id\", keep=\"last\")"
   ]
  },
  {
   "cell_type": "markdown",
   "metadata": {
    "id": "IlzHp3HVhLuz"
   },
   "source": [
    "#### 4. [0.5 балла] Какие  blended-курсы для четверокурсников существуют? На какой blended-курс записалось наибольшее количество студентов? На каком из blended-курсов собрались студенты с самым высоким средним рейтингом (выведите этот курс и количество студентов на нем)?"
   ]
  },
  {
   "cell_type": "code",
   "execution_count": 403,
   "metadata": {
    "id": "bsn4vn8RhLuy"
   },
   "outputs": [
    {
     "name": "stdout",
     "output_type": "stream",
     "text": [
      "Blended курсы: DevOps(87), Введение в дифференциальную геометрию(15), Соревновательный анализ данных(32)\n",
      "Курс с наивысшим рейтингом студентов: Соревновательный анализ данных (0.54)\n"
     ]
    }
   ],
   "source": [
    "unique, counts = np.unique(data_preprocessed[\"blended\"].to_numpy(), return_counts=True)\n",
    "print(f\"Blended курсы: {', '.join(unique[unique != ''] + '(' + counts.astype(str)[unique != ''] + ')')}\")\n",
    "highest_score_courses = data_preprocessed.groupby('blended')['percentile'].mean().sort_values()\n",
    "print(f\"Курс с наивысшим рейтингом студентов: {highest_score_course.index[0]} ({highest_score_course.values[0]:.2f})\")"
   ]
  },
  {
   "cell_type": "markdown",
   "metadata": {
    "id": "IU_FLt8HhLu0"
   },
   "source": [
    "#### 5. [1 балл] Выясните, есть ли студенты с абсолютно одинаковыми предпочтениями по всем курсам.\n",
    "\n",
    "Для этого сформируйте таблицу, где для каждого возможного набора курсов посчитано количество студентов, выбравших такой набор, и оставьте только строки где это количество больше 1.\n",
    "\n",
    "В данном случае набор курсов задается упорядоченным множеством ('fall_1', 'fall_2', 'fall_3', 'spring_1', 'spring_2', 'spring_3', 'blended'). Элемент blended будет нулевым для 3-го курса."
   ]
  },
  {
   "cell_type": "code",
   "execution_count": 404,
   "metadata": {
    "id": "j_BRWerHhLu0"
   },
   "outputs": [
    {
     "name": "stderr",
     "output_type": "stream",
     "text": [
      "/var/folders/4b/m8ykh5795flg_b6s_rlsz5h40000gn/T/ipykernel_7415/3802661726.py:2: SettingWithCopyWarning: \n",
      "A value is trying to be set on a copy of a slice from a DataFrame.\n",
      "Try using .loc[row_indexer,col_indexer] = value instead\n",
      "\n",
      "See the caveats in the documentation: https://pandas.pydata.org/pandas-docs/stable/user_guide/indexing.html#returning-a-view-versus-a-copy\n",
      "  data_temp[data_temp['18_group'] == 0]['blended'] = ''\n"
     ]
    },
    {
     "data": {
      "text/html": [
       "<div>\n",
       "<style scoped>\n",
       "    .dataframe tbody tr th:only-of-type {\n",
       "        vertical-align: middle;\n",
       "    }\n",
       "\n",
       "    .dataframe tbody tr th {\n",
       "        vertical-align: top;\n",
       "    }\n",
       "\n",
       "    .dataframe thead th {\n",
       "        text-align: right;\n",
       "    }\n",
       "</style>\n",
       "<table border=\"1\" class=\"dataframe\">\n",
       "  <thead>\n",
       "    <tr style=\"text-align: right;\">\n",
       "      <th></th>\n",
       "      <th>timestamp</th>\n",
       "      <th>id</th>\n",
       "      <th>rating</th>\n",
       "      <th>18_group</th>\n",
       "      <th>is_mi</th>\n",
       "      <th>fall_1</th>\n",
       "      <th>fall_2</th>\n",
       "      <th>fall_3</th>\n",
       "      <th>spring_1</th>\n",
       "      <th>spring_2</th>\n",
       "      <th>spring_3</th>\n",
       "      <th>is_first_time</th>\n",
       "      <th>percentile</th>\n",
       "      <th>17_group</th>\n",
       "      <th>blended</th>\n",
       "      <th>is_ml_student</th>\n",
       "      <th>course_list</th>\n",
       "    </tr>\n",
       "  </thead>\n",
       "  <tbody>\n",
       "    <tr>\n",
       "      <th>227</th>\n",
       "      <td>2020-05-14 21:10:54.945</td>\n",
       "      <td>1bbbfae51794b83c769b634be8da7b8d</td>\n",
       "      <td>1078</td>\n",
       "      <td>0</td>\n",
       "      <td>False</td>\n",
       "      <td>Безопасность компьютерных систем</td>\n",
       "      <td>Высокопроизводительные вычисления</td>\n",
       "      <td>Анализ неструктурированных данных</td>\n",
       "      <td>Проектирование и разработка высоконагруженных ...</td>\n",
       "      <td>Методы сжатия и передачи медиаданных</td>\n",
       "      <td>Конфликты и кооперация</td>\n",
       "      <td>True</td>\n",
       "      <td>0.789855</td>\n",
       "      <td>176</td>\n",
       "      <td>DevOps</td>\n",
       "      <td>False</td>\n",
       "      <td>Безопасность компьютерных систем Высокопроизво...</td>\n",
       "    </tr>\n",
       "    <tr>\n",
       "      <th>228</th>\n",
       "      <td>2020-05-14 21:10:58.417</td>\n",
       "      <td>8c3aa7371731bef999519c3de2c47423</td>\n",
       "      <td>1101</td>\n",
       "      <td>0</td>\n",
       "      <td>False</td>\n",
       "      <td>Безопасность компьютерных систем</td>\n",
       "      <td>Высокопроизводительные вычисления</td>\n",
       "      <td>Анализ неструктурированных данных</td>\n",
       "      <td>Проектирование и разработка высоконагруженных ...</td>\n",
       "      <td>Методы сжатия и передачи медиаданных</td>\n",
       "      <td>Конфликты и кооперация</td>\n",
       "      <td>True</td>\n",
       "      <td>0.695652</td>\n",
       "      <td>176</td>\n",
       "      <td>DevOps</td>\n",
       "      <td>False</td>\n",
       "      <td>Безопасность компьютерных систем Высокопроизво...</td>\n",
       "    </tr>\n",
       "    <tr>\n",
       "      <th>229</th>\n",
       "      <td>2020-05-14 21:11:10.168</td>\n",
       "      <td>1b7e1b30238f393811a2b48c6f6a060f</td>\n",
       "      <td>1129</td>\n",
       "      <td>0</td>\n",
       "      <td>False</td>\n",
       "      <td>Высокопроизводительные вычисления</td>\n",
       "      <td>Безопасность компьютерных систем</td>\n",
       "      <td>Сбор и обработка данных с помощью краудсорсинга</td>\n",
       "      <td>Проектирование и разработка высоконагруженных ...</td>\n",
       "      <td>Методы сжатия и передачи медиаданных</td>\n",
       "      <td>Компьютерное зрение</td>\n",
       "      <td>True</td>\n",
       "      <td>0.594203</td>\n",
       "      <td>175</td>\n",
       "      <td>DevOps</td>\n",
       "      <td>False</td>\n",
       "      <td>Высокопроизводительные вычисления Безопасность...</td>\n",
       "    </tr>\n",
       "    <tr>\n",
       "      <th>16</th>\n",
       "      <td>2020-05-15 16:58:06.959</td>\n",
       "      <td>64173586abab6f7a172946c8c74bde0d</td>\n",
       "      <td>630</td>\n",
       "      <td>181</td>\n",
       "      <td>False</td>\n",
       "      <td>Безопасность компьютерных систем</td>\n",
       "      <td>Высокопроизводительные вычисления</td>\n",
       "      <td>Язык SQL</td>\n",
       "      <td>Компьютерные сети</td>\n",
       "      <td>Промышленное программирование на языке Java</td>\n",
       "      <td>Дискретная оптимизация</td>\n",
       "      <td>True</td>\n",
       "      <td>0.502242</td>\n",
       "      <td>0</td>\n",
       "      <td></td>\n",
       "      <td>False</td>\n",
       "      <td>Безопасность компьютерных систем Высокопроизво...</td>\n",
       "    </tr>\n",
       "    <tr>\n",
       "      <th>30</th>\n",
       "      <td>2020-05-16 15:01:06.274</td>\n",
       "      <td>b121e4d7d62387cd5199cca464a34a6d</td>\n",
       "      <td>694</td>\n",
       "      <td>185</td>\n",
       "      <td>False</td>\n",
       "      <td>Безопасность компьютерных систем</td>\n",
       "      <td>Теория баз данных</td>\n",
       "      <td>Язык SQL</td>\n",
       "      <td>Машинное обучение 2</td>\n",
       "      <td>Компьютерные сети</td>\n",
       "      <td>Промышленное программирование на языке Java</td>\n",
       "      <td>False</td>\n",
       "      <td>0.204036</td>\n",
       "      <td>0</td>\n",
       "      <td></td>\n",
       "      <td>False</td>\n",
       "      <td>Безопасность компьютерных систем Теория баз да...</td>\n",
       "    </tr>\n",
       "    <tr>\n",
       "      <th>40</th>\n",
       "      <td>2020-05-17 00:54:43.939</td>\n",
       "      <td>d38ebd0ba564ea88de8015e116f811c8</td>\n",
       "      <td>546</td>\n",
       "      <td>187</td>\n",
       "      <td>False</td>\n",
       "      <td>Безопасность компьютерных систем</td>\n",
       "      <td>Высокопроизводительные вычисления</td>\n",
       "      <td>Язык SQL</td>\n",
       "      <td>Компьютерные сети</td>\n",
       "      <td>Промышленное программирование на языке Java</td>\n",
       "      <td>Дискретная оптимизация</td>\n",
       "      <td>True</td>\n",
       "      <td>0.883408</td>\n",
       "      <td>0</td>\n",
       "      <td></td>\n",
       "      <td>False</td>\n",
       "      <td>Безопасность компьютерных систем Высокопроизво...</td>\n",
       "    </tr>\n",
       "    <tr>\n",
       "      <th>255</th>\n",
       "      <td>2020-05-17 14:54:06.245</td>\n",
       "      <td>674d6e333a907d65780e9618436f1952</td>\n",
       "      <td>1098</td>\n",
       "      <td>0</td>\n",
       "      <td>False</td>\n",
       "      <td>Байесовские методы машинного обучения</td>\n",
       "      <td>Анализ неструктурированных данных</td>\n",
       "      <td>Сбор и обработка данных с помощью краудсорсинга</td>\n",
       "      <td>Обучение с подкреплением</td>\n",
       "      <td>Компьютерное зрение</td>\n",
       "      <td>Генеративные модели в машинном обучении</td>\n",
       "      <td>True</td>\n",
       "      <td>0.710145</td>\n",
       "      <td>172</td>\n",
       "      <td>DevOps</td>\n",
       "      <td>False</td>\n",
       "      <td>Байесовские методы машинного обучения Анализ н...</td>\n",
       "    </tr>\n",
       "    <tr>\n",
       "      <th>266</th>\n",
       "      <td>2020-05-17 19:44:23.500</td>\n",
       "      <td>d028e00edda581b07bcbe6b841e6dc39</td>\n",
       "      <td>1242</td>\n",
       "      <td>0</td>\n",
       "      <td>False</td>\n",
       "      <td>Байесовские методы машинного обучения</td>\n",
       "      <td>Анализ неструктурированных данных</td>\n",
       "      <td>Глубинное обучение в обработке звука</td>\n",
       "      <td>Обучение с подкреплением</td>\n",
       "      <td>Генеративные модели в машинном обучении</td>\n",
       "      <td>Компьютерное зрение</td>\n",
       "      <td>True</td>\n",
       "      <td>0.166667</td>\n",
       "      <td>171</td>\n",
       "      <td>DevOps</td>\n",
       "      <td>False</td>\n",
       "      <td>Байесовские методы машинного обучения Анализ н...</td>\n",
       "    </tr>\n",
       "    <tr>\n",
       "      <th>64</th>\n",
       "      <td>2020-05-18 11:13:13.920</td>\n",
       "      <td>b8d4c538f6b47a1a692bec6c2f29152b</td>\n",
       "      <td>682</td>\n",
       "      <td>183</td>\n",
       "      <td>False</td>\n",
       "      <td>Безопасность компьютерных систем</td>\n",
       "      <td>Высокопроизводительные вычисления</td>\n",
       "      <td>Язык SQL</td>\n",
       "      <td>Промышленное программирование на языке Java</td>\n",
       "      <td>Компьютерные сети</td>\n",
       "      <td>Системы баз данных</td>\n",
       "      <td>True</td>\n",
       "      <td>0.260090</td>\n",
       "      <td>0</td>\n",
       "      <td></td>\n",
       "      <td>False</td>\n",
       "      <td>Безопасность компьютерных систем Высокопроизво...</td>\n",
       "    </tr>\n",
       "    <tr>\n",
       "      <th>273</th>\n",
       "      <td>2020-05-18 12:39:47.722</td>\n",
       "      <td>7fe7df0d207babbf30249b3063ac1f26</td>\n",
       "      <td>1365</td>\n",
       "      <td>0</td>\n",
       "      <td>False</td>\n",
       "      <td>Высокопроизводительные вычисления</td>\n",
       "      <td>Сбор и обработка данных с помощью краудсорсинга</td>\n",
       "      <td>Моделирование временных рядов</td>\n",
       "      <td>Проектирование и разработка высоконагруженных ...</td>\n",
       "      <td>Методы сжатия и передачи медиаданных</td>\n",
       "      <td>Методы сжатия и передачи медиаданных</td>\n",
       "      <td>True</td>\n",
       "      <td>0.007246</td>\n",
       "      <td>175</td>\n",
       "      <td>DevOps</td>\n",
       "      <td>False</td>\n",
       "      <td>Высокопроизводительные вычисления Сбор и обраб...</td>\n",
       "    </tr>\n",
       "    <tr>\n",
       "      <th>274</th>\n",
       "      <td>2020-05-18 12:40:49.066</td>\n",
       "      <td>5d76b97bcf684f8a1ec03057dd94d416</td>\n",
       "      <td>1257</td>\n",
       "      <td>0</td>\n",
       "      <td>False</td>\n",
       "      <td>Высокопроизводительные вычисления</td>\n",
       "      <td>Сбор и обработка данных с помощью краудсорсинга</td>\n",
       "      <td>Моделирование временных рядов</td>\n",
       "      <td>Проектирование и разработка высоконагруженных ...</td>\n",
       "      <td>Методы сжатия и передачи медиаданных</td>\n",
       "      <td>Методы сжатия и передачи медиаданных</td>\n",
       "      <td>True</td>\n",
       "      <td>0.137681</td>\n",
       "      <td>175</td>\n",
       "      <td>DevOps</td>\n",
       "      <td>False</td>\n",
       "      <td>Высокопроизводительные вычисления Сбор и обраб...</td>\n",
       "    </tr>\n",
       "    <tr>\n",
       "      <th>67</th>\n",
       "      <td>2020-05-18 12:41:04.520</td>\n",
       "      <td>348562c4a55053de25fdd4389b9f1181</td>\n",
       "      <td>650</td>\n",
       "      <td>186</td>\n",
       "      <td>False</td>\n",
       "      <td>Моделирование временных рядов</td>\n",
       "      <td>Сбор и обработка данных с помощью краудсорсинга</td>\n",
       "      <td>Безопасность компьютерных систем</td>\n",
       "      <td>Компьютерные сети</td>\n",
       "      <td>Дополнительные главы прикладной статистики</td>\n",
       "      <td>Системы баз данных</td>\n",
       "      <td>True</td>\n",
       "      <td>0.412556</td>\n",
       "      <td>0</td>\n",
       "      <td></td>\n",
       "      <td>True</td>\n",
       "      <td>Моделирование временных рядов Сбор и обработка...</td>\n",
       "    </tr>\n",
       "    <tr>\n",
       "      <th>278</th>\n",
       "      <td>2020-05-18 13:31:45.687</td>\n",
       "      <td>9775834d44b69d181c5fb0c0af57c783</td>\n",
       "      <td>1231</td>\n",
       "      <td>0</td>\n",
       "      <td>False</td>\n",
       "      <td>Байесовские методы машинного обучения</td>\n",
       "      <td>Анализ неструктурированных данных</td>\n",
       "      <td>Глубинное обучение в обработке звука</td>\n",
       "      <td>Обучение с подкреплением</td>\n",
       "      <td>Генеративные модели в машинном обучении</td>\n",
       "      <td>Компьютерное зрение</td>\n",
       "      <td>True</td>\n",
       "      <td>0.210145</td>\n",
       "      <td>171</td>\n",
       "      <td>DevOps</td>\n",
       "      <td>False</td>\n",
       "      <td>Байесовские методы машинного обучения Анализ н...</td>\n",
       "    </tr>\n",
       "    <tr>\n",
       "      <th>72</th>\n",
       "      <td>2020-05-18 14:44:19.586</td>\n",
       "      <td>fa4860bc719aadedbb00ba027067a8b7</td>\n",
       "      <td>642</td>\n",
       "      <td>187</td>\n",
       "      <td>False</td>\n",
       "      <td>Безопасность компьютерных систем</td>\n",
       "      <td>Высокопроизводительные вычисления</td>\n",
       "      <td>Язык SQL</td>\n",
       "      <td>Компьютерные сети</td>\n",
       "      <td>Промышленное программирование на языке Java</td>\n",
       "      <td>Дискретная оптимизация</td>\n",
       "      <td>True</td>\n",
       "      <td>0.448430</td>\n",
       "      <td>0</td>\n",
       "      <td></td>\n",
       "      <td>False</td>\n",
       "      <td>Безопасность компьютерных систем Высокопроизво...</td>\n",
       "    </tr>\n",
       "    <tr>\n",
       "      <th>80</th>\n",
       "      <td>2020-05-18 17:09:23.589</td>\n",
       "      <td>3e106aaef8b24dbb01319c73e14c2936</td>\n",
       "      <td>784</td>\n",
       "      <td>182</td>\n",
       "      <td>False</td>\n",
       "      <td>Безопасность компьютерных систем</td>\n",
       "      <td>Statistical Learning Theory</td>\n",
       "      <td>Матричные вычисления</td>\n",
       "      <td>Дискретная оптимизация</td>\n",
       "      <td>Промышленное программирование на языке Java</td>\n",
       "      <td>Дополнительные главы прикладной статистики</td>\n",
       "      <td>True</td>\n",
       "      <td>0.000000</td>\n",
       "      <td>0</td>\n",
       "      <td></td>\n",
       "      <td>True</td>\n",
       "      <td>Безопасность компьютерных систем Statistical L...</td>\n",
       "    </tr>\n",
       "    <tr>\n",
       "      <th>84</th>\n",
       "      <td>2020-05-18 17:22:56.786</td>\n",
       "      <td>bfe75c08c6b7e31d4e7d48c9c5fed69b</td>\n",
       "      <td>758</td>\n",
       "      <td>182</td>\n",
       "      <td>False</td>\n",
       "      <td>Безопасность компьютерных систем</td>\n",
       "      <td>Statistical Learning Theory</td>\n",
       "      <td>Матричные вычисления</td>\n",
       "      <td>Дискретная оптимизация</td>\n",
       "      <td>Промышленное программирование на языке Java</td>\n",
       "      <td>Дополнительные главы прикладной статистики</td>\n",
       "      <td>True</td>\n",
       "      <td>0.022422</td>\n",
       "      <td>0</td>\n",
       "      <td></td>\n",
       "      <td>True</td>\n",
       "      <td>Безопасность компьютерных систем Statistical L...</td>\n",
       "    </tr>\n",
       "    <tr>\n",
       "      <th>88</th>\n",
       "      <td>2020-05-18 17:56:00.688</td>\n",
       "      <td>044e038535ae5d2ff037150b77fdc6d1</td>\n",
       "      <td>710</td>\n",
       "      <td>182</td>\n",
       "      <td>False</td>\n",
       "      <td>Безопасность компьютерных систем</td>\n",
       "      <td>Statistical Learning Theory</td>\n",
       "      <td>Матричные вычисления</td>\n",
       "      <td>Дискретная оптимизация</td>\n",
       "      <td>Промышленное программирование на языке Java</td>\n",
       "      <td>Дополнительные главы прикладной статистики</td>\n",
       "      <td>True</td>\n",
       "      <td>0.139013</td>\n",
       "      <td>0</td>\n",
       "      <td></td>\n",
       "      <td>True</td>\n",
       "      <td>Безопасность компьютерных систем Statistical L...</td>\n",
       "    </tr>\n",
       "    <tr>\n",
       "      <th>291</th>\n",
       "      <td>2020-05-18 18:13:35.809</td>\n",
       "      <td>c976c868dd660e792ab82ba8d9e02506</td>\n",
       "      <td>1087</td>\n",
       "      <td>0</td>\n",
       "      <td>False</td>\n",
       "      <td>Высокопроизводительные вычисления</td>\n",
       "      <td>Безопасность компьютерных систем</td>\n",
       "      <td>Сбор и обработка данных с помощью краудсорсинга</td>\n",
       "      <td>Проектирование и разработка высоконагруженных ...</td>\n",
       "      <td>Методы сжатия и передачи медиаданных</td>\n",
       "      <td>Компьютерное зрение</td>\n",
       "      <td>True</td>\n",
       "      <td>0.753623</td>\n",
       "      <td>176</td>\n",
       "      <td>DevOps</td>\n",
       "      <td>False</td>\n",
       "      <td>Высокопроизводительные вычисления Безопасность...</td>\n",
       "    </tr>\n",
       "    <tr>\n",
       "      <th>105</th>\n",
       "      <td>2020-05-18 19:25:39.947</td>\n",
       "      <td>5a6f07c1f6186408b43f0f8e729168e9</td>\n",
       "      <td>632</td>\n",
       "      <td>186</td>\n",
       "      <td>False</td>\n",
       "      <td>Моделирование временных рядов</td>\n",
       "      <td>Сбор и обработка данных с помощью краудсорсинга</td>\n",
       "      <td>Безопасность компьютерных систем</td>\n",
       "      <td>Компьютерные сети</td>\n",
       "      <td>Дополнительные главы прикладной статистики</td>\n",
       "      <td>Системы баз данных</td>\n",
       "      <td>True</td>\n",
       "      <td>0.493274</td>\n",
       "      <td>0</td>\n",
       "      <td></td>\n",
       "      <td>True</td>\n",
       "      <td>Моделирование временных рядов Сбор и обработка...</td>\n",
       "    </tr>\n",
       "    <tr>\n",
       "      <th>108</th>\n",
       "      <td>2020-05-18 19:35:49.258</td>\n",
       "      <td>1c1623a037bd523d687245e6060e6c5b</td>\n",
       "      <td>595</td>\n",
       "      <td>187</td>\n",
       "      <td>False</td>\n",
       "      <td>Сбор и обработка данных с помощью краудсорсинга</td>\n",
       "      <td>Язык SQL</td>\n",
       "      <td>Теория баз данных</td>\n",
       "      <td>Промышленное программирование на языке Java</td>\n",
       "      <td>Машинное обучение 2</td>\n",
       "      <td>Компьютерные сети</td>\n",
       "      <td>True</td>\n",
       "      <td>0.672646</td>\n",
       "      <td>0</td>\n",
       "      <td></td>\n",
       "      <td>False</td>\n",
       "      <td>Сбор и обработка данных с помощью краудсорсинг...</td>\n",
       "    </tr>\n",
       "    <tr>\n",
       "      <th>110</th>\n",
       "      <td>2020-05-18 19:36:51.479</td>\n",
       "      <td>f5d9f99cb876ca0888d18b6e444fa1b1</td>\n",
       "      <td>516</td>\n",
       "      <td>187</td>\n",
       "      <td>False</td>\n",
       "      <td>Сбор и обработка данных с помощью краудсорсинга</td>\n",
       "      <td>Язык SQL</td>\n",
       "      <td>Теория баз данных</td>\n",
       "      <td>Промышленное программирование на языке Java</td>\n",
       "      <td>Машинное обучение 2</td>\n",
       "      <td>Компьютерные сети</td>\n",
       "      <td>False</td>\n",
       "      <td>0.982063</td>\n",
       "      <td>0</td>\n",
       "      <td></td>\n",
       "      <td>False</td>\n",
       "      <td>Сбор и обработка данных с помощью краудсорсинг...</td>\n",
       "    </tr>\n",
       "    <tr>\n",
       "      <th>111</th>\n",
       "      <td>2020-05-18 19:49:54.661</td>\n",
       "      <td>b3eb1cdc4beffbdd5b29a8d54d649bc0</td>\n",
       "      <td>731</td>\n",
       "      <td>185</td>\n",
       "      <td>False</td>\n",
       "      <td>Безопасность компьютерных систем</td>\n",
       "      <td>Матричные вычисления</td>\n",
       "      <td>Моделирование временных рядов</td>\n",
       "      <td>Промышленное программирование на языке Java</td>\n",
       "      <td>Компьютерные сети</td>\n",
       "      <td>Дискретная оптимизация</td>\n",
       "      <td>True</td>\n",
       "      <td>0.094170</td>\n",
       "      <td>0</td>\n",
       "      <td></td>\n",
       "      <td>True</td>\n",
       "      <td>Безопасность компьютерных систем Матричные выч...</td>\n",
       "    </tr>\n",
       "    <tr>\n",
       "      <th>301</th>\n",
       "      <td>2020-05-18 20:00:36.456</td>\n",
       "      <td>573e2218c3fe3ffc1894edc12432d315</td>\n",
       "      <td>1131</td>\n",
       "      <td>0</td>\n",
       "      <td>False</td>\n",
       "      <td>Statistical Learning Theory</td>\n",
       "      <td>Анализ неструктурированных данных</td>\n",
       "      <td>Сбор и обработка данных с помощью краудсорсинга</td>\n",
       "      <td>Обучение с подкреплением</td>\n",
       "      <td>Конфликты и кооперация</td>\n",
       "      <td>Компьютерное зрение</td>\n",
       "      <td>True</td>\n",
       "      <td>0.586957</td>\n",
       "      <td>172</td>\n",
       "      <td>DevOps</td>\n",
       "      <td>False</td>\n",
       "      <td>Statistical Learning Theory Анализ неструктури...</td>\n",
       "    </tr>\n",
       "    <tr>\n",
       "      <th>118</th>\n",
       "      <td>2020-05-18 20:26:39.021</td>\n",
       "      <td>2b0d7dd550bcca4c586cbb27d8478aa8</td>\n",
       "      <td>619</td>\n",
       "      <td>185</td>\n",
       "      <td>False</td>\n",
       "      <td>Безопасность компьютерных систем</td>\n",
       "      <td>Сбор и обработка данных с помощью краудсорсинга</td>\n",
       "      <td>Матричные вычисления</td>\n",
       "      <td>Компьютерные сети</td>\n",
       "      <td>Промышленное программирование на языке Java</td>\n",
       "      <td>Анализ данных в бизнесе</td>\n",
       "      <td>True</td>\n",
       "      <td>0.560538</td>\n",
       "      <td>0</td>\n",
       "      <td></td>\n",
       "      <td>False</td>\n",
       "      <td>Безопасность компьютерных систем Сбор и обрабо...</td>\n",
       "    </tr>\n",
       "    <tr>\n",
       "      <th>133</th>\n",
       "      <td>2020-05-18 21:15:58.617</td>\n",
       "      <td>a6ce02b12540bca3cdd15757f8a2e919</td>\n",
       "      <td>597</td>\n",
       "      <td>185</td>\n",
       "      <td>False</td>\n",
       "      <td>Безопасность компьютерных систем</td>\n",
       "      <td>Сбор и обработка данных с помощью краудсорсинга</td>\n",
       "      <td>Матричные вычисления</td>\n",
       "      <td>Компьютерные сети</td>\n",
       "      <td>Промышленное программирование на языке Java</td>\n",
       "      <td>Анализ данных в бизнесе</td>\n",
       "      <td>True</td>\n",
       "      <td>0.663677</td>\n",
       "      <td>0</td>\n",
       "      <td></td>\n",
       "      <td>False</td>\n",
       "      <td>Безопасность компьютерных систем Сбор и обрабо...</td>\n",
       "    </tr>\n",
       "    <tr>\n",
       "      <th>320</th>\n",
       "      <td>2020-05-18 22:14:40.670</td>\n",
       "      <td>f98ac9a12b43a53c0fa44491cb56890c</td>\n",
       "      <td>1147</td>\n",
       "      <td>0</td>\n",
       "      <td>False</td>\n",
       "      <td>Байесовские методы машинного обучения</td>\n",
       "      <td>Анализ неструктурированных данных</td>\n",
       "      <td>Сбор и обработка данных с помощью краудсорсинга</td>\n",
       "      <td>Обучение с подкреплением</td>\n",
       "      <td>Компьютерное зрение</td>\n",
       "      <td>Генеративные модели в машинном обучении</td>\n",
       "      <td>True</td>\n",
       "      <td>0.528986</td>\n",
       "      <td>171</td>\n",
       "      <td>DevOps</td>\n",
       "      <td>False</td>\n",
       "      <td>Байесовские методы машинного обучения Анализ н...</td>\n",
       "    </tr>\n",
       "    <tr>\n",
       "      <th>171</th>\n",
       "      <td>2020-05-18 22:32:20.002</td>\n",
       "      <td>851497aadac83e844753bb3b2163c79b</td>\n",
       "      <td>654</td>\n",
       "      <td>183</td>\n",
       "      <td>False</td>\n",
       "      <td>Безопасность компьютерных систем</td>\n",
       "      <td>Высокопроизводительные вычисления</td>\n",
       "      <td>Язык SQL</td>\n",
       "      <td>Промышленное программирование на языке Java</td>\n",
       "      <td>Компьютерные сети</td>\n",
       "      <td>Системы баз данных</td>\n",
       "      <td>True</td>\n",
       "      <td>0.394619</td>\n",
       "      <td>0</td>\n",
       "      <td></td>\n",
       "      <td>False</td>\n",
       "      <td>Безопасность компьютерных систем Высокопроизво...</td>\n",
       "    </tr>\n",
       "    <tr>\n",
       "      <th>178</th>\n",
       "      <td>2020-05-18 22:56:27.522</td>\n",
       "      <td>6388c7920a7d454d2db81430f1f231c4</td>\n",
       "      <td>599</td>\n",
       "      <td>183</td>\n",
       "      <td>False</td>\n",
       "      <td>Безопасность компьютерных систем</td>\n",
       "      <td>Матричные вычисления</td>\n",
       "      <td>Моделирование временных рядов</td>\n",
       "      <td>Промышленное программирование на языке Java</td>\n",
       "      <td>Компьютерные сети</td>\n",
       "      <td>Дискретная оптимизация</td>\n",
       "      <td>True</td>\n",
       "      <td>0.654709</td>\n",
       "      <td>0</td>\n",
       "      <td></td>\n",
       "      <td>False</td>\n",
       "      <td>Безопасность компьютерных систем Матричные выч...</td>\n",
       "    </tr>\n",
       "    <tr>\n",
       "      <th>182</th>\n",
       "      <td>2020-05-18 23:09:34.102</td>\n",
       "      <td>5a66e3b77559d14dd20fc4df99671688</td>\n",
       "      <td>564</td>\n",
       "      <td>183</td>\n",
       "      <td>False</td>\n",
       "      <td>Язык SQL</td>\n",
       "      <td>Высокопроизводительные вычисления</td>\n",
       "      <td>Теория баз данных</td>\n",
       "      <td>Компьютерные сети</td>\n",
       "      <td>Промышленное программирование на языке Java</td>\n",
       "      <td>Дискретная оптимизация</td>\n",
       "      <td>True</td>\n",
       "      <td>0.807175</td>\n",
       "      <td>0</td>\n",
       "      <td></td>\n",
       "      <td>False</td>\n",
       "      <td>Язык SQL Высокопроизводительные вычисления Тео...</td>\n",
       "    </tr>\n",
       "    <tr>\n",
       "      <th>185</th>\n",
       "      <td>2020-05-18 23:11:05.179</td>\n",
       "      <td>813663487952e66e7c39d29b0931206d</td>\n",
       "      <td>585</td>\n",
       "      <td>183</td>\n",
       "      <td>False</td>\n",
       "      <td>Язык SQL</td>\n",
       "      <td>Высокопроизводительные вычисления</td>\n",
       "      <td>Теория баз данных</td>\n",
       "      <td>Компьютерные сети</td>\n",
       "      <td>Промышленное программирование на языке Java</td>\n",
       "      <td>Дискретная оптимизация</td>\n",
       "      <td>True</td>\n",
       "      <td>0.717489</td>\n",
       "      <td>0</td>\n",
       "      <td></td>\n",
       "      <td>False</td>\n",
       "      <td>Язык SQL Высокопроизводительные вычисления Тео...</td>\n",
       "    </tr>\n",
       "    <tr>\n",
       "      <th>356</th>\n",
       "      <td>2020-05-19 19:04:17.873</td>\n",
       "      <td>c5870b37ee3f672e4259dfb2fc02ed8f</td>\n",
       "      <td>1029</td>\n",
       "      <td>0</td>\n",
       "      <td>False</td>\n",
       "      <td>Statistical Learning Theory</td>\n",
       "      <td>Анализ неструктурированных данных</td>\n",
       "      <td>Сбор и обработка данных с помощью краудсорсинга</td>\n",
       "      <td>Обучение с подкреплением</td>\n",
       "      <td>Конфликты и кооперация</td>\n",
       "      <td>Компьютерное зрение</td>\n",
       "      <td>True</td>\n",
       "      <td>0.920290</td>\n",
       "      <td>174</td>\n",
       "      <td>DevOps</td>\n",
       "      <td>False</td>\n",
       "      <td>Statistical Learning Theory Анализ неструктури...</td>\n",
       "    </tr>\n",
       "    <tr>\n",
       "      <th>218</th>\n",
       "      <td>2020-05-20 11:49:38.801</td>\n",
       "      <td>bd416140ecdb32b6dbd7f40820bf63b1</td>\n",
       "      <td>518</td>\n",
       "      <td>185</td>\n",
       "      <td>False</td>\n",
       "      <td>Безопасность компьютерных систем</td>\n",
       "      <td>Теория баз данных</td>\n",
       "      <td>Язык SQL</td>\n",
       "      <td>Машинное обучение 2</td>\n",
       "      <td>Компьютерные сети</td>\n",
       "      <td>Промышленное программирование на языке Java</td>\n",
       "      <td>True</td>\n",
       "      <td>0.977578</td>\n",
       "      <td>0</td>\n",
       "      <td></td>\n",
       "      <td>False</td>\n",
       "      <td>Безопасность компьютерных систем Теория баз да...</td>\n",
       "    </tr>\n",
       "  </tbody>\n",
       "</table>\n",
       "</div>"
      ],
      "text/plain": [
       "                  timestamp                                id  rating  \\\n",
       "227 2020-05-14 21:10:54.945  1bbbfae51794b83c769b634be8da7b8d    1078   \n",
       "228 2020-05-14 21:10:58.417  8c3aa7371731bef999519c3de2c47423    1101   \n",
       "229 2020-05-14 21:11:10.168  1b7e1b30238f393811a2b48c6f6a060f    1129   \n",
       "16  2020-05-15 16:58:06.959  64173586abab6f7a172946c8c74bde0d     630   \n",
       "30  2020-05-16 15:01:06.274  b121e4d7d62387cd5199cca464a34a6d     694   \n",
       "40  2020-05-17 00:54:43.939  d38ebd0ba564ea88de8015e116f811c8     546   \n",
       "255 2020-05-17 14:54:06.245  674d6e333a907d65780e9618436f1952    1098   \n",
       "266 2020-05-17 19:44:23.500  d028e00edda581b07bcbe6b841e6dc39    1242   \n",
       "64  2020-05-18 11:13:13.920  b8d4c538f6b47a1a692bec6c2f29152b     682   \n",
       "273 2020-05-18 12:39:47.722  7fe7df0d207babbf30249b3063ac1f26    1365   \n",
       "274 2020-05-18 12:40:49.066  5d76b97bcf684f8a1ec03057dd94d416    1257   \n",
       "67  2020-05-18 12:41:04.520  348562c4a55053de25fdd4389b9f1181     650   \n",
       "278 2020-05-18 13:31:45.687  9775834d44b69d181c5fb0c0af57c783    1231   \n",
       "72  2020-05-18 14:44:19.586  fa4860bc719aadedbb00ba027067a8b7     642   \n",
       "80  2020-05-18 17:09:23.589  3e106aaef8b24dbb01319c73e14c2936     784   \n",
       "84  2020-05-18 17:22:56.786  bfe75c08c6b7e31d4e7d48c9c5fed69b     758   \n",
       "88  2020-05-18 17:56:00.688  044e038535ae5d2ff037150b77fdc6d1     710   \n",
       "291 2020-05-18 18:13:35.809  c976c868dd660e792ab82ba8d9e02506    1087   \n",
       "105 2020-05-18 19:25:39.947  5a6f07c1f6186408b43f0f8e729168e9     632   \n",
       "108 2020-05-18 19:35:49.258  1c1623a037bd523d687245e6060e6c5b     595   \n",
       "110 2020-05-18 19:36:51.479  f5d9f99cb876ca0888d18b6e444fa1b1     516   \n",
       "111 2020-05-18 19:49:54.661  b3eb1cdc4beffbdd5b29a8d54d649bc0     731   \n",
       "301 2020-05-18 20:00:36.456  573e2218c3fe3ffc1894edc12432d315    1131   \n",
       "118 2020-05-18 20:26:39.021  2b0d7dd550bcca4c586cbb27d8478aa8     619   \n",
       "133 2020-05-18 21:15:58.617  a6ce02b12540bca3cdd15757f8a2e919     597   \n",
       "320 2020-05-18 22:14:40.670  f98ac9a12b43a53c0fa44491cb56890c    1147   \n",
       "171 2020-05-18 22:32:20.002  851497aadac83e844753bb3b2163c79b     654   \n",
       "178 2020-05-18 22:56:27.522  6388c7920a7d454d2db81430f1f231c4     599   \n",
       "182 2020-05-18 23:09:34.102  5a66e3b77559d14dd20fc4df99671688     564   \n",
       "185 2020-05-18 23:11:05.179  813663487952e66e7c39d29b0931206d     585   \n",
       "356 2020-05-19 19:04:17.873  c5870b37ee3f672e4259dfb2fc02ed8f    1029   \n",
       "218 2020-05-20 11:49:38.801  bd416140ecdb32b6dbd7f40820bf63b1     518   \n",
       "\n",
       "     18_group  is_mi                                           fall_1  \\\n",
       "227         0  False                 Безопасность компьютерных систем   \n",
       "228         0  False                 Безопасность компьютерных систем   \n",
       "229         0  False                Высокопроизводительные вычисления   \n",
       "16        181  False                 Безопасность компьютерных систем   \n",
       "30        185  False                 Безопасность компьютерных систем   \n",
       "40        187  False                 Безопасность компьютерных систем   \n",
       "255         0  False            Байесовские методы машинного обучения   \n",
       "266         0  False            Байесовские методы машинного обучения   \n",
       "64        183  False                 Безопасность компьютерных систем   \n",
       "273         0  False                Высокопроизводительные вычисления   \n",
       "274         0  False                Высокопроизводительные вычисления   \n",
       "67        186  False                    Моделирование временных рядов   \n",
       "278         0  False            Байесовские методы машинного обучения   \n",
       "72        187  False                 Безопасность компьютерных систем   \n",
       "80        182  False                 Безопасность компьютерных систем   \n",
       "84        182  False                 Безопасность компьютерных систем   \n",
       "88        182  False                 Безопасность компьютерных систем   \n",
       "291         0  False                Высокопроизводительные вычисления   \n",
       "105       186  False                    Моделирование временных рядов   \n",
       "108       187  False  Сбор и обработка данных с помощью краудсорсинга   \n",
       "110       187  False  Сбор и обработка данных с помощью краудсорсинга   \n",
       "111       185  False                 Безопасность компьютерных систем   \n",
       "301         0  False                      Statistical Learning Theory   \n",
       "118       185  False                 Безопасность компьютерных систем   \n",
       "133       185  False                 Безопасность компьютерных систем   \n",
       "320         0  False            Байесовские методы машинного обучения   \n",
       "171       183  False                 Безопасность компьютерных систем   \n",
       "178       183  False                 Безопасность компьютерных систем   \n",
       "182       183  False                                         Язык SQL   \n",
       "185       183  False                                         Язык SQL   \n",
       "356         0  False                      Statistical Learning Theory   \n",
       "218       185  False                 Безопасность компьютерных систем   \n",
       "\n",
       "                                              fall_2  \\\n",
       "227                Высокопроизводительные вычисления   \n",
       "228                Высокопроизводительные вычисления   \n",
       "229                 Безопасность компьютерных систем   \n",
       "16                 Высокопроизводительные вычисления   \n",
       "30                                 Теория баз данных   \n",
       "40                 Высокопроизводительные вычисления   \n",
       "255                Анализ неструктурированных данных   \n",
       "266                Анализ неструктурированных данных   \n",
       "64                 Высокопроизводительные вычисления   \n",
       "273  Сбор и обработка данных с помощью краудсорсинга   \n",
       "274  Сбор и обработка данных с помощью краудсорсинга   \n",
       "67   Сбор и обработка данных с помощью краудсорсинга   \n",
       "278                Анализ неструктурированных данных   \n",
       "72                 Высокопроизводительные вычисления   \n",
       "80                       Statistical Learning Theory   \n",
       "84                       Statistical Learning Theory   \n",
       "88                       Statistical Learning Theory   \n",
       "291                 Безопасность компьютерных систем   \n",
       "105  Сбор и обработка данных с помощью краудсорсинга   \n",
       "108                                         Язык SQL   \n",
       "110                                         Язык SQL   \n",
       "111                             Матричные вычисления   \n",
       "301                Анализ неструктурированных данных   \n",
       "118  Сбор и обработка данных с помощью краудсорсинга   \n",
       "133  Сбор и обработка данных с помощью краудсорсинга   \n",
       "320                Анализ неструктурированных данных   \n",
       "171                Высокопроизводительные вычисления   \n",
       "178                             Матричные вычисления   \n",
       "182                Высокопроизводительные вычисления   \n",
       "185                Высокопроизводительные вычисления   \n",
       "356                Анализ неструктурированных данных   \n",
       "218                                Теория баз данных   \n",
       "\n",
       "                                              fall_3  \\\n",
       "227                Анализ неструктурированных данных   \n",
       "228                Анализ неструктурированных данных   \n",
       "229  Сбор и обработка данных с помощью краудсорсинга   \n",
       "16                                          Язык SQL   \n",
       "30                                          Язык SQL   \n",
       "40                                          Язык SQL   \n",
       "255  Сбор и обработка данных с помощью краудсорсинга   \n",
       "266             Глубинное обучение в обработке звука   \n",
       "64                                          Язык SQL   \n",
       "273                    Моделирование временных рядов   \n",
       "274                    Моделирование временных рядов   \n",
       "67                  Безопасность компьютерных систем   \n",
       "278             Глубинное обучение в обработке звука   \n",
       "72                                          Язык SQL   \n",
       "80                              Матричные вычисления   \n",
       "84                              Матричные вычисления   \n",
       "88                              Матричные вычисления   \n",
       "291  Сбор и обработка данных с помощью краудсорсинга   \n",
       "105                 Безопасность компьютерных систем   \n",
       "108                                Теория баз данных   \n",
       "110                                Теория баз данных   \n",
       "111                    Моделирование временных рядов   \n",
       "301  Сбор и обработка данных с помощью краудсорсинга   \n",
       "118                             Матричные вычисления   \n",
       "133                             Матричные вычисления   \n",
       "320  Сбор и обработка данных с помощью краудсорсинга   \n",
       "171                                         Язык SQL   \n",
       "178                    Моделирование временных рядов   \n",
       "182                                Теория баз данных   \n",
       "185                                Теория баз данных   \n",
       "356  Сбор и обработка данных с помощью краудсорсинга   \n",
       "218                                         Язык SQL   \n",
       "\n",
       "                                              spring_1  \\\n",
       "227  Проектирование и разработка высоконагруженных ...   \n",
       "228  Проектирование и разработка высоконагруженных ...   \n",
       "229  Проектирование и разработка высоконагруженных ...   \n",
       "16                                   Компьютерные сети   \n",
       "30                                 Машинное обучение 2   \n",
       "40                                   Компьютерные сети   \n",
       "255                           Обучение с подкреплением   \n",
       "266                           Обучение с подкреплением   \n",
       "64         Промышленное программирование на языке Java   \n",
       "273  Проектирование и разработка высоконагруженных ...   \n",
       "274  Проектирование и разработка высоконагруженных ...   \n",
       "67                                   Компьютерные сети   \n",
       "278                           Обучение с подкреплением   \n",
       "72                                   Компьютерные сети   \n",
       "80                              Дискретная оптимизация   \n",
       "84                              Дискретная оптимизация   \n",
       "88                              Дискретная оптимизация   \n",
       "291  Проектирование и разработка высоконагруженных ...   \n",
       "105                                  Компьютерные сети   \n",
       "108        Промышленное программирование на языке Java   \n",
       "110        Промышленное программирование на языке Java   \n",
       "111        Промышленное программирование на языке Java   \n",
       "301                           Обучение с подкреплением   \n",
       "118                                  Компьютерные сети   \n",
       "133                                  Компьютерные сети   \n",
       "320                           Обучение с подкреплением   \n",
       "171        Промышленное программирование на языке Java   \n",
       "178        Промышленное программирование на языке Java   \n",
       "182                                  Компьютерные сети   \n",
       "185                                  Компьютерные сети   \n",
       "356                           Обучение с подкреплением   \n",
       "218                                Машинное обучение 2   \n",
       "\n",
       "                                        spring_2  \\\n",
       "227         Методы сжатия и передачи медиаданных   \n",
       "228         Методы сжатия и передачи медиаданных   \n",
       "229         Методы сжатия и передачи медиаданных   \n",
       "16   Промышленное программирование на языке Java   \n",
       "30                             Компьютерные сети   \n",
       "40   Промышленное программирование на языке Java   \n",
       "255                          Компьютерное зрение   \n",
       "266      Генеративные модели в машинном обучении   \n",
       "64                             Компьютерные сети   \n",
       "273         Методы сжатия и передачи медиаданных   \n",
       "274         Методы сжатия и передачи медиаданных   \n",
       "67    Дополнительные главы прикладной статистики   \n",
       "278      Генеративные модели в машинном обучении   \n",
       "72   Промышленное программирование на языке Java   \n",
       "80   Промышленное программирование на языке Java   \n",
       "84   Промышленное программирование на языке Java   \n",
       "88   Промышленное программирование на языке Java   \n",
       "291         Методы сжатия и передачи медиаданных   \n",
       "105   Дополнительные главы прикладной статистики   \n",
       "108                          Машинное обучение 2   \n",
       "110                          Машинное обучение 2   \n",
       "111                            Компьютерные сети   \n",
       "301                       Конфликты и кооперация   \n",
       "118  Промышленное программирование на языке Java   \n",
       "133  Промышленное программирование на языке Java   \n",
       "320                          Компьютерное зрение   \n",
       "171                            Компьютерные сети   \n",
       "178                            Компьютерные сети   \n",
       "182  Промышленное программирование на языке Java   \n",
       "185  Промышленное программирование на языке Java   \n",
       "356                       Конфликты и кооперация   \n",
       "218                            Компьютерные сети   \n",
       "\n",
       "                                        spring_3  is_first_time  percentile  \\\n",
       "227                       Конфликты и кооперация           True    0.789855   \n",
       "228                       Конфликты и кооперация           True    0.695652   \n",
       "229                          Компьютерное зрение           True    0.594203   \n",
       "16                        Дискретная оптимизация           True    0.502242   \n",
       "30   Промышленное программирование на языке Java          False    0.204036   \n",
       "40                        Дискретная оптимизация           True    0.883408   \n",
       "255      Генеративные модели в машинном обучении           True    0.710145   \n",
       "266                          Компьютерное зрение           True    0.166667   \n",
       "64                            Системы баз данных           True    0.260090   \n",
       "273         Методы сжатия и передачи медиаданных           True    0.007246   \n",
       "274         Методы сжатия и передачи медиаданных           True    0.137681   \n",
       "67                            Системы баз данных           True    0.412556   \n",
       "278                          Компьютерное зрение           True    0.210145   \n",
       "72                        Дискретная оптимизация           True    0.448430   \n",
       "80    Дополнительные главы прикладной статистики           True    0.000000   \n",
       "84    Дополнительные главы прикладной статистики           True    0.022422   \n",
       "88    Дополнительные главы прикладной статистики           True    0.139013   \n",
       "291                          Компьютерное зрение           True    0.753623   \n",
       "105                           Системы баз данных           True    0.493274   \n",
       "108                            Компьютерные сети           True    0.672646   \n",
       "110                            Компьютерные сети          False    0.982063   \n",
       "111                       Дискретная оптимизация           True    0.094170   \n",
       "301                          Компьютерное зрение           True    0.586957   \n",
       "118                      Анализ данных в бизнесе           True    0.560538   \n",
       "133                      Анализ данных в бизнесе           True    0.663677   \n",
       "320      Генеративные модели в машинном обучении           True    0.528986   \n",
       "171                           Системы баз данных           True    0.394619   \n",
       "178                       Дискретная оптимизация           True    0.654709   \n",
       "182                       Дискретная оптимизация           True    0.807175   \n",
       "185                       Дискретная оптимизация           True    0.717489   \n",
       "356                          Компьютерное зрение           True    0.920290   \n",
       "218  Промышленное программирование на языке Java           True    0.977578   \n",
       "\n",
       "     17_group blended  is_ml_student  \\\n",
       "227       176  DevOps          False   \n",
       "228       176  DevOps          False   \n",
       "229       175  DevOps          False   \n",
       "16          0                  False   \n",
       "30          0                  False   \n",
       "40          0                  False   \n",
       "255       172  DevOps          False   \n",
       "266       171  DevOps          False   \n",
       "64          0                  False   \n",
       "273       175  DevOps          False   \n",
       "274       175  DevOps          False   \n",
       "67          0                   True   \n",
       "278       171  DevOps          False   \n",
       "72          0                  False   \n",
       "80          0                   True   \n",
       "84          0                   True   \n",
       "88          0                   True   \n",
       "291       176  DevOps          False   \n",
       "105         0                   True   \n",
       "108         0                  False   \n",
       "110         0                  False   \n",
       "111         0                   True   \n",
       "301       172  DevOps          False   \n",
       "118         0                  False   \n",
       "133         0                  False   \n",
       "320       171  DevOps          False   \n",
       "171         0                  False   \n",
       "178         0                  False   \n",
       "182         0                  False   \n",
       "185         0                  False   \n",
       "356       174  DevOps          False   \n",
       "218         0                  False   \n",
       "\n",
       "                                           course_list  \n",
       "227  Безопасность компьютерных систем Высокопроизво...  \n",
       "228  Безопасность компьютерных систем Высокопроизво...  \n",
       "229  Высокопроизводительные вычисления Безопасность...  \n",
       "16   Безопасность компьютерных систем Высокопроизво...  \n",
       "30   Безопасность компьютерных систем Теория баз да...  \n",
       "40   Безопасность компьютерных систем Высокопроизво...  \n",
       "255  Байесовские методы машинного обучения Анализ н...  \n",
       "266  Байесовские методы машинного обучения Анализ н...  \n",
       "64   Безопасность компьютерных систем Высокопроизво...  \n",
       "273  Высокопроизводительные вычисления Сбор и обраб...  \n",
       "274  Высокопроизводительные вычисления Сбор и обраб...  \n",
       "67   Моделирование временных рядов Сбор и обработка...  \n",
       "278  Байесовские методы машинного обучения Анализ н...  \n",
       "72   Безопасность компьютерных систем Высокопроизво...  \n",
       "80   Безопасность компьютерных систем Statistical L...  \n",
       "84   Безопасность компьютерных систем Statistical L...  \n",
       "88   Безопасность компьютерных систем Statistical L...  \n",
       "291  Высокопроизводительные вычисления Безопасность...  \n",
       "105  Моделирование временных рядов Сбор и обработка...  \n",
       "108  Сбор и обработка данных с помощью краудсорсинг...  \n",
       "110  Сбор и обработка данных с помощью краудсорсинг...  \n",
       "111  Безопасность компьютерных систем Матричные выч...  \n",
       "301  Statistical Learning Theory Анализ неструктури...  \n",
       "118  Безопасность компьютерных систем Сбор и обрабо...  \n",
       "133  Безопасность компьютерных систем Сбор и обрабо...  \n",
       "320  Байесовские методы машинного обучения Анализ н...  \n",
       "171  Безопасность компьютерных систем Высокопроизво...  \n",
       "178  Безопасность компьютерных систем Матричные выч...  \n",
       "182  Язык SQL Высокопроизводительные вычисления Тео...  \n",
       "185  Язык SQL Высокопроизводительные вычисления Тео...  \n",
       "356  Statistical Learning Theory Анализ неструктури...  \n",
       "218  Безопасность компьютерных систем Теория баз да...  "
      ]
     },
     "execution_count": 404,
     "metadata": {},
     "output_type": "execute_result"
    }
   ],
   "source": [
    "data_temp = data_preprocessed.copy()\n",
    "data_temp[data_temp['18_group'] == 0]['blended'] = ''\n",
    "data_temp['course_list'] = data_temp[['fall_1', 'fall_2', 'fall_3', 'spring_1', 'spring_2', 'spring_3', 'blended']]\\\n",
    "    .astype(str).apply(lambda x: ' '.join(x), axis=1)\n",
    "unique, counts = np.unique(data_temp['course_list'].to_numpy(), return_counts=True)\n",
    "data_temp[data_temp['course_list'].isin(unique[counts > 1])]"
   ]
  },
  {
   "cell_type": "markdown",
   "metadata": {
    "id": "spu3r3vchLu0"
   },
   "source": [
    "#### 6. [0.5 балла] Найдите курсы по выбору, на которые записывались как студенты 18-го года набора, так и студенты 17-го года."
   ]
  },
  {
   "cell_type": "code",
   "execution_count": 405,
   "metadata": {
    "id": "t21fWi8ShLu0"
   },
   "outputs": [
    {
     "name": "stdout",
     "output_type": "stream",
     "text": [
      "Курсы, на которые записывались как студенты 18-го года набора, так и студенты 17-го года: Statistical Learning Theory, Безопасность компьютерных систем, Высокопроизводительные вычисления, Моделирование временных рядов, Принятие решений в условиях риска и неопределённости, Сбор и обработка данных с помощью краудсорсинга, Численные методы\n"
     ]
    }
   ],
   "source": [
    "courses_17 = np.unique(data_temp[data_temp['18_group'] == 0]\\\n",
    "    [['fall_1', 'fall_2', 'fall_3', 'spring_1', 'spring_2', 'spring_3', 'blended']]\\\n",
    "    .to_numpy().flatten())\n",
    "courses_18 = np.unique(data_temp[data_temp['17_group'] == 0]\\\n",
    "    [['fall_1', 'fall_2', 'fall_3', 'spring_1', 'spring_2', 'spring_3', 'blended']]\\\n",
    "    .to_numpy().flatten())\n",
    "courses_common = courses_17[np.isin(courses_17, courses_18)]\n",
    "print(f\"Курсы, на которые записывались как студенты 18-го года набора, так и студенты 17-го года: {', '.join(courses_common)}\")"
   ]
  },
  {
   "cell_type": "markdown",
   "metadata": {
    "id": "PYfX-Dr5hLu0"
   },
   "source": [
    "Методом исключения найдите курсы, которые предлагались только студентам 18-го года и только студентам 17-го года."
   ]
  },
  {
   "cell_type": "code",
   "execution_count": 406,
   "metadata": {
    "id": "G9SWBOpehLu1"
   },
   "outputs": [
    {
     "name": "stdout",
     "output_type": "stream",
     "text": [
      "Курсы, которые предлагались только студентам 17-го года: DevOps, Анализ неструктурированных данных, Байесовские методы машинного обучения, Введение в дифференциальную геометрию, Генеративные модели в машинном обучении, Глубинное обучение в обработке звука, Компьютерное зрение, Конфликты и кооперация, Методы сжатия и передачи медиаданных, Обучение с подкреплением, Проектирование и разработка высоконагруженных сервисов, Символьные вычисления, Соревновательный анализ данных\n",
      "\n",
      "Курсы, которые предлагались только студентам 18-го года: , Анализ данных в бизнесе, Дискретная оптимизация, Дополнительные главы прикладной статистики, Компьютерные сети, Матричные вычисления, Машинное обучение 2, Промышленное программирование на языке Java, Системы баз данных, Теория баз данных, Язык SQL\n"
     ]
    }
   ],
   "source": [
    "courses_17_only = courses_17[~np.isin(courses_17, courses_common)]\n",
    "courses_18_only = courses_18[~np.isin(courses_18, courses_common)]\n",
    "print(f\"Курсы, которые предлагались только студентам 17-го года: {', '.join(courses_17_only)}\\n\")\n",
    "print(f\"Курсы, которые предлагались только студентам 18-го года: {', '.join(courses_18_only)}\")"
   ]
  },
  {
   "cell_type": "markdown",
   "metadata": {
    "id": "uL45Tg5fhLu1"
   },
   "source": [
    "### Визуализации и matplotlib"
   ]
  },
  {
   "cell_type": "markdown",
   "metadata": {
    "id": "MY9lKmP2hLu1"
   },
   "source": [
    "При работе с данными часто неудобно делать какие-то выводы, если смотреть на таблицу и числа в частности, поэтому важно уметь визуализировать данные. Здесь будут описаны ключевые правила оформления графиков для **всех** домашних заданий.\n",
    "\n",
    "У matplotlib, конечно же, есть [документация](https://matplotlib.org/users/index.html) с большим количеством [примеров](https://matplotlib.org/examples/), но для начала достаточно знать про несколько основных типов графиков:\n",
    "- plot — обычный поточечный график, которым можно изображать кривые или отдельные точки;\n",
    "- hist — гистограмма, показывающая распределение некоторой величины;\n",
    "- scatter — график, показывающий взаимосвязь двух величин;\n",
    "- bar — столбцовый график, показывающий взаимосвязь количественной величины от категориальной.\n",
    "\n",
    "В этом задании вы попробуете построить один из них. Не забывайте про базовые принципы построения приличных графиков:\n",
    "- оси должны быть подписаны, причём не слишком мелко;\n",
    "- у графика должно быть название;\n",
    "- если изображено несколько графиков, то необходима поясняющая легенда;\n",
    "- все линии на графиках должны быть чётко видны (нет похожих цветов или цветов, сливающихся с фоном);\n",
    "- если отображена величина, имеющая очевидный диапазон значений (например, проценты могут быть от 0 до 100), то желательно масштабировать ось на весь диапазон значений (исключением является случай, когда вам необходимо показать малое отличие, которое незаметно в таких масштабах);\n",
    "- сетка на графике помогает оценить значения в точках на глаз, это обычно полезно, поэтому лучше ее отрисовывать;\n",
    "- если распределение на гистограмме имеет тяжёлые хвосты, лучше использовать логарифмическую шкалу.\n",
    "\n",
    "Еще одна билиотека для визуализации: [seaborn](https://jakevdp.github.io/PythonDataScienceHandbook/04.14-visualization-with-seaborn.html) (обычно сокращается до sns). Это настройка над matplotlib, иногда удобнее и красивее делать визуализации через неё.\n",
    "\n",
    "**5 пунктов после которых ваши графики не будут прежними:**\n",
    "- для красивой картинки <code>%config InlineBackend.figure_format = 'retina'</code>\n",
    "- задаем размер (почти) всех графиков (можно выбрать другие значения) <code>plt.rcParams['figure.figsize'] = 8, 5</code>\n",
    "- размер шрифта подписей графиков <code>plt.rcParams['font.size'] = 12</code>\n",
    "- формат в котором сохраняется изображение <code>mpl.rcParams['savefig.format'] = 'pdf'</code>\n",
    "- sns – seaborn, добавляет решетку <code>sns.set_style('darkgrid')</code>\n",
    "\n",
    "Добавьте эти функции в ячейку ниже. Каждый график все равно придется настраивать отдельно, но указанные строчки позволят значительно упростить процесс.  "
   ]
  },
  {
   "cell_type": "code",
   "execution_count": 407,
   "metadata": {
    "id": "na9doUOFhLu1"
   },
   "outputs": [],
   "source": [
    "import matplotlib.pyplot as plt\n",
    "import seaborn as sns\n",
    "\n",
    "%matplotlib inline\n",
    "%config InlineBackend.figure_format = 'retina'\n",
    "sns.set_style('darkgrid')"
   ]
  },
  {
   "cell_type": "markdown",
   "metadata": {
    "id": "kikwLpxfhLu1"
   },
   "source": [
    "#### 7. [0.5 балла] Постройте график средних рейтингов по дням получения ответов (bar plot)."
   ]
  },
  {
   "cell_type": "code",
   "execution_count": 408,
   "metadata": {
    "id": "UTPLVeQvhLu2"
   },
   "outputs": [
    {
     "data": {
      "image/png": "[encoded data removed]",
      "text/plain": [
       "<Figure size 800x500 with 1 Axes>"
      ]
     },
     "metadata": {
      "image/png": {
       "height": 427,
       "width": 680
      }
     },
     "output_type": "display_data"
    }
   ],
   "source": [
    "plt.bar(data_preprocessed.timestamp.map(lambda x: x.day), data_preprocessed.rating)\n",
    "plt.rcParams['figure.figsize'] = 8, 5\n",
    "plt.xticks(np.arange(14, 25, 1))\n",
    "plt.savefig(\"bar_figure.pdf\")\n",
    "plt.show()"
   ]
  },
  {
   "cell_type": "markdown",
   "metadata": {
    "id": "AmsQg9_xhLu2"
   },
   "source": [
    "Сохраните график в формате pdf (так он останется векторизованным)."
   ]
  },
  {
   "cell_type": "markdown",
   "metadata": {
    "id": "sCgWwjl0hLu2"
   },
   "source": [
    "### 2. Распределение студентов по курсам."
   ]
  },
  {
   "cell_type": "markdown",
   "metadata": {
    "id": "6rjOnzRN8A8l"
   },
   "source": [
    "<span style=\"color:red\">!!!ВНИМАТЕЛЬНО ИЗУЧИТЕ ТЕКСТ НИЖЕ!!!</span>.\n",
    "\n",
    "<span style=\"color:orange\">Если во время выполнения заданий у вас вознинут вопросы -- еще раз перечитайте текст целиком, скорее всего ответы уже содержатся в нем.</span>"
   ]
  },
  {
   "cell_type": "markdown",
   "metadata": {
    "id": "VNqXUpr4hLu3"
   },
   "source": [
    "Теперь вам нужно распределить студентов по осенним курсам по выбору, учитывая их предпочтения."
   ]
  },
  {
   "cell_type": "markdown",
   "metadata": {
    "id": "5cAR2FgphLu3"
   },
   "source": [
    "## 📌 **Алгоритм распределения студентов по курсам**:\n",
    "1. По умолчанию на каждой дисциплине по выбору у 3 и 4 курсов может учиться 1 группа (до 30 студентов). Исключения описаны ниже. На blended-дисциплинах для четверокурсников количество мест не ограничено.\n",
    "2. Проводится первая волна отбора. Для каждой дисциплины формируется список тех, кто указал её первым приоритетом (если студент должен выбрать два курса по выбору, то для него дисциплины, которые он указал первым и вторым приоритетом, рассматриваются как дисциплины первого приоритета). Если желающих больше, чем мест, то выбирается топ по перцентилю рейтинга.\n",
    "3. На дисциплинах, где остались места после первой волны, формируются списки тех, кто выбрал их вторым приоритетом, и места заполняются лучшими по перцентили рейтинга студентами. После этого проводится такая же процедура для дисциплин третьего приоритета.\n",
    "4. Если студент не попал на необходимое количество курсов по итогам трёх волн, с ним связывается учебный офис и решает вопрос в индивидуальном порядке."
   ]
  },
  {
   "cell_type": "markdown",
   "metadata": {
    "id": "BiNKVwS6hLu3"
   },
   "source": [
    "## ☝️ **Обращаем ваше внимание на следующие детали:**\n",
    "- Конкурс на каждый курс общий для 3-го и 4-го курса\n",
    "\n",
    "- По умолчанию студент выбирает один осенний и один весенний курс по выбору, а также четверокурсники выбирают один blended-курс. Студенты групп 17-го года специализаций МОП и ТИ выбирают по 2 осенних и 2 весенних курса по выбору, также студенты групп 18' специализации МИ выбирают 2 осенних курса. <i>Для студентов, которые выбирают 2 курса (например, осенних) первый приоритет — <code>fall_1</code> и <code>fall_2</code>, второй приоритет — <code>fall_3</code>. Такие студенты участвуют только в двух волнах отбора</i>.\n",
    "\n",
    "- Студенты специализации МОП не могут выбрать весенним курсом по выбору Машинное обучение 2. **Если студент специализации МОП выбрал Машинное обучение 2, то его приоритеты сдвигаются.** Из-за совпадений первого и второго курса по выбору двигать приоритеты не надо.\n",
    "\n",
    "- Blended-курсы не трогайте, по ним не надо распределять, на другие курсы они никак не влияют.\n",
    "\n",
    "- Заведомо известно, что в процессе распределения не возникнет ситуации, когда на одно место претендуют студенты с одинаковым перцентилем.\n",
    "\n",
    "- Постарайтесь воздержаться от использования циклов там, где это возможно. <i>Допустимо итерироваться по <b>курсам</b>, на которые проводится отбор, и по <b>волнам</b> отбора. Если вы придумаете, как обойтись и без этих циклов, то на усмотрение проверяющего могут быть добавлены бонусные баллы. <b>Дублирование кода не признается успешным избавлением от циклов</b></i>\n",
    "\n",
    "- На выходе ожидается файл res_fall.csv с результатами распределения на осенние курсы по выбору. Файл должен быть следующего формата:\n",
    "\n",
    "    * Три колонки: ID, course1, course2\n",
    "    \n",
    "    * Если студент не попал на курс, но должен был, то вместо названия курса в ячейке должна быть строка \"???\"\n",
    "    \n",
    "    * Если студент должен выбрать только один курс, то в колонке course2 для него должна стоять строка \"-\"\n",
    "    \n",
    "    * Если студент должен выбрать два курса по выбору, то порядок в колонках course1 и course2 не важен.\n",
    "    \n",
    "    * hint: для сохранения воспользуйтесь `df.to_csv('solution.csv', index=None)`\n",
    "    \n",
    "\n",
    "Для работы вам могут понадобиться следующие данные:\n",
    "\n",
    "- Результаты опроса (вы уже использовали этот файл в первой части задания, но на всякий случай ссылка: https://www.dropbox.com/s/f4rm8sjc3v99p0m/_end_seminar.xlsx?dl=0)\n",
    "\n",
    "- Соответствие номеров групп специализациям:\n",
    "\n",
    "    * 171, 172 - МОП; 173 - ТИ; 174 — АДИС; 175, 176 — РС; 177 — АПР\n",
    "    \n",
    "    * У студентов 18-го года номера групп соответствуют номерам до распределения по специализациям. Это означает, что по номеру группы 18* нельзя однозначно определить специализацию студента. При этом в рамках распределения важно знать информацию только о двух из них: МОП и МИ. Эти знание можно получить из колонок 'is_ml_student\n",
    "' и 'is_mi' соответственно.\n",
    "\n",
    "- Ограничения по количеству мест на курсах по выбору:\n",
    "\n",
    "    * Осенние: везде 30 мест, кроме Statistical Learning Theory (60 мест), Высокопроизводительных вычислений (60 мест), Анализа неструктурированных данных ($\\infty$ мест)\n",
    "\n",
    "    * Весенние: везде 30 мест, кроме Обучения с подкреплением (60 мест), Анализа данных в бизнесе (60 мест).\n",
    "\n",
    "\n",
    "Кстати, убедитесь, что в данных больше нет пропусков и повторных записей."
   ]
  },
  {
   "cell_type": "markdown",
   "metadata": {
    "id": "o5t55IcQhLu4"
   },
   "source": [
    "#### 0. Проверка\n",
    "\n",
    "Для начала давайте убедимся, что вы успешно выполнили задания первой части и проверим ваши данные на наличие пропусков и повторов:"
   ]
  },
  {
   "cell_type": "code",
   "execution_count": 470,
   "metadata": {
    "id": "34HWEdVdhLu4"
   },
   "outputs": [],
   "source": [
    "df = data_preprocessed.copy()\n",
    "\n",
    "assert df.shape[0] == 347, 'В таблице остались повторы или потеряны данные'\n",
    "\n",
    "assert df.isna().sum().sum() == 0, 'В таблице остались пропуски'"
   ]
  },
  {
   "cell_type": "markdown",
   "metadata": {
    "id": "_ImUFyG3hLu4"
   },
   "source": [
    "Если вы не получили AssertionError, то можете продолжать."
   ]
  },
  {
   "cell_type": "markdown",
   "metadata": {
    "id": "LTGSwwvAhLu4"
   },
   "source": [
    "#### 1. [1 балл] Создайте новый признак, обозначающий, сколько осенних курсов должен выбрать студент\n",
    "\n",
    "В этом вам может помочь информация о специализации и группе стундента."
   ]
  },
  {
   "cell_type": "code",
   "execution_count": 492,
   "metadata": {
    "id": "ouxo0kHFhLu4"
   },
   "outputs": [],
   "source": [
    "df['fall_courses_needed'] = 1\n",
    "df.loc[df['17_group'].isin([171, 172, 173]), 'fall_courses_needed'] = 2\n",
    "df.loc[(df['18_group'] != 0) & df['is_mi'], 'fall_courses_needed'] = 2"
   ]
  },
  {
   "cell_type": "markdown",
   "metadata": {
    "id": "S47aq1sQhLu4"
   },
   "source": [
    "Проверка:"
   ]
  },
  {
   "cell_type": "code",
   "execution_count": 493,
   "metadata": {
    "id": "OlOgzDKDhLu5"
   },
   "outputs": [],
   "source": [
    "col_name = 'fall_courses_needed'    # insert your new column name as str\n",
    "\n",
    "assert(df[df['id'] == '2662600c2c37e11e62f6ee0b88452f22'][col_name] == 2).all()\n",
    "assert(df[df['id'] == 'd555d2805e1d93d4f023e57dc4c8f403'][col_name] == 2).all()\n",
    "assert(df[df['id'] == '8fe79f84f36e3a5d2d6745621321302c'][col_name] == 1).all()\n",
    "assert(df[df['id'] == 'e4caca755ee0bdd711e18fb8084958b5'][col_name] == 1).all()"
   ]
  },
  {
   "cell_type": "markdown",
   "metadata": {
    "id": "VtQYhwuPhLu5"
   },
   "source": [
    "#### 2. [2 балла] Распределите студентов в соответствии с первым приоритетом"
   ]
  },
  {
   "cell_type": "code",
   "execution_count": 505,
   "metadata": {},
   "outputs": [],
   "source": [
    "fall_courses = pd.concat([df['fall_1'], df['fall_2'], df['fall_3']]).unique()\n",
    "courses_seats_left_fall = np.repeat(30, len(fall_courses))\n",
    "courses_seats_left_fall[(fall_courses == 'Statistical Learning Theory') + (fall_courses == 'Высокопроизводительные вычисления')] = 60\n",
    "courses_seats_left_fall[fall_courses == 'Анализ неструктурированных данных'] = 1e+10\n",
    "\n",
    "# матрицы соответствия курса и студента по приоритетам\n",
    "course_1_student_matrix_fall = (df['fall_1'].values == fall_courses.reshape(-1,1))\n",
    "course_2_student_matrix_fall = (df['fall_2'].values == fall_courses.reshape(-1,1))\n",
    "course_3_student_matrix_fall = (df['fall_3'].values == fall_courses.reshape(-1,1))\n",
    "\n",
    "# смещения приоритетов из-за студентов, выбирающих сразу 2 курса\n",
    "course_1_student_matrix_fall[:, df['fall_courses_needed']==2] += course_2_student_matrix_fall[:, df['fall_courses_needed']==2]\n",
    "course_2_student_matrix_fall[:, df['fall_courses_needed']==2] = course_3_student_matrix_fall[:, df['fall_courses_needed']==2]\n",
    "course_3_student_matrix_fall[:, df['fall_courses_needed']==2] = False\n",
    "\n",
    "# создание списков на первом приоритете на осенние курсы\n",
    "courses_students_list_fall = []\n",
    "df['is_first_place'] = False\n",
    "df['is_last_place'] = False\n",
    "df['assigned_fall_1'] = None\n",
    "df['assigned_fall_2'] = None\n",
    "df['first_priority_successfull'] = False\n",
    "df['second_priority_successfull'] = False\n",
    "df['third_priority_successfull'] = False\n",
    "\n",
    "\n",
    "for i, course in enumerate(fall_courses):\n",
    "    #1st Wave\n",
    "    course_students_1_wave = df[course_1_student_matrix_fall[i]].sort_values('percentile', ascending=False)[:courses_seats_left_fall[i]]\n",
    "    df.loc[course_students_1_wave.index, 'first_priority_successfull'] = True\n",
    "    courses_seats_left_fall[i] -= course_students_1_wave.shape[0]\n",
    "\n",
    "    #2nd Wave\n",
    "    if courses_seats_left_fall[i] > 0:\n",
    "        course_students_2_wave = df[course_2_student_matrix_fall[i]].sort_values('percentile', ascending=False)[:courses_seats_left_fall[i]]\n",
    "        df.loc[course_students_2_wave.index, 'second_priority_successfull'] = True\n",
    "        courses_seats_left_fall[i] -= course_students_2_wave.shape[0]\n",
    "\n",
    "    #3rd Wave\n",
    "    if courses_seats_left_fall[i]  > course_students.shape[0]:\n",
    "        course_students_3_wave = df[course_3_student_matrix_fall[i]].sort_values('percentile', ascending=False)[:courses_seats_left_fall[i]]\n",
    "        df.loc[course_students_3_wave.index, 'third_priority_successfull'] = True\n",
    "        # courses_seats_left_fall[i] -= course_students_3_wave.shape[0]\n",
    "        \n",
    "    courses_students_list_fall.append(course_students.index)"
   ]
  },
  {
   "cell_type": "code",
   "execution_count": 506,
   "metadata": {},
   "outputs": [],
   "source": [
    "df.loc[df['first_priority_successfull'], 'assigned_fall_1'] = df['fall_1']\n",
    "df.loc[df['second_priority_successfull'] & ~df['first_priority_successfull'], 'assigned_fall_1'] = df['fall_2']\n",
    "df.loc[df['third_priority_successfull'] & ~df['first_priority_successfull'], 'assigned_fall_1'] = df['fall_3']\n",
    "\n",
    "df.loc[(df['fall_courses_needed']==2) & df['second_priority_successfull'] & df['first_priority_successfull'], 'assigned_fall_2'] = df['fall_2']\n",
    "df.loc[(df['fall_courses_needed']==2) & df['third_priority_successfull'] & df['second_priority_successfull'] & df['first_priority_successfull'], 'assigned_fall_2'] = df['fall_3']"
   ]
  },
  {
   "cell_type": "markdown",
   "metadata": {
    "id": "vc5zXP5hhLu5"
   },
   "source": [
    "Здесь для проверки приведена таблица, в которой есть 2 дополнительные колонки:\n",
    "    \n",
    "    1) is_first_place - является ли студент лучшим по перцентили хотя бы на одном из курсов, куда он был зачислен\n",
    "    (True / NaN)\n",
    "    \n",
    "    2) is_last_place  - является ли студент худшим по перцентили хотя бы на одном из курсов, куда он был зачислен (True / NaN)"
   ]
  },
  {
   "cell_type": "code",
   "execution_count": 496,
   "metadata": {
    "id": "uZTkGEq5hLu5"
   },
   "outputs": [],
   "source": [
    "# !curl -L -o 2_task_check.csv 'https://www.dropbox.com/s/v8o2zzq3iz5gc9w/_2_task_check.csv?dl=0'\n",
    "# check_df = pd.read_csv('2_task_check.csv')"
   ]
  },
  {
   "cell_type": "code",
   "execution_count": 501,
   "metadata": {},
   "outputs": [
    {
     "data": {
      "text/html": [
       "<div>\n",
       "<style scoped>\n",
       "    .dataframe tbody tr th:only-of-type {\n",
       "        vertical-align: middle;\n",
       "    }\n",
       "\n",
       "    .dataframe tbody tr th {\n",
       "        vertical-align: top;\n",
       "    }\n",
       "\n",
       "    .dataframe thead th {\n",
       "        text-align: right;\n",
       "    }\n",
       "</style>\n",
       "<table border=\"1\" class=\"dataframe\">\n",
       "  <thead>\n",
       "    <tr style=\"text-align: right;\">\n",
       "      <th></th>\n",
       "      <th>timestamp</th>\n",
       "      <th>id</th>\n",
       "      <th>rating</th>\n",
       "      <th>18_group</th>\n",
       "      <th>is_mi</th>\n",
       "      <th>fall_1</th>\n",
       "      <th>fall_2</th>\n",
       "      <th>fall_3</th>\n",
       "      <th>spring_1</th>\n",
       "      <th>spring_2</th>\n",
       "      <th>...</th>\n",
       "      <th>blended</th>\n",
       "      <th>is_ml_student</th>\n",
       "      <th>fall_courses_needed</th>\n",
       "      <th>is_first_place</th>\n",
       "      <th>is_last_place</th>\n",
       "      <th>assigned_fall_1</th>\n",
       "      <th>assigned_fall_2</th>\n",
       "      <th>first_priority_successfull</th>\n",
       "      <th>second_priority_successfull</th>\n",
       "      <th>third_priority_successfull</th>\n",
       "    </tr>\n",
       "  </thead>\n",
       "  <tbody>\n",
       "    <tr>\n",
       "      <th>223</th>\n",
       "      <td>2020-05-14 20:23:21.662</td>\n",
       "      <td>d555d2805e1d93d4f023e57dc4c8f403</td>\n",
       "      <td>996</td>\n",
       "      <td>0</td>\n",
       "      <td>False</td>\n",
       "      <td>Безопасность компьютерных систем</td>\n",
       "      <td>Глубинное обучение в обработке звука</td>\n",
       "      <td>Байесовские методы машинного обучения</td>\n",
       "      <td>Компьютерное зрение</td>\n",
       "      <td>Обучение с подкреплением</td>\n",
       "      <td>...</td>\n",
       "      <td>DevOps</td>\n",
       "      <td>False</td>\n",
       "      <td>2</td>\n",
       "      <td>False</td>\n",
       "      <td>False</td>\n",
       "      <td>Безопасность компьютерных систем</td>\n",
       "      <td>Глубинное обучение в обработке звука</td>\n",
       "      <td>True</td>\n",
       "      <td>True</td>\n",
       "      <td>False</td>\n",
       "    </tr>\n",
       "    <tr>\n",
       "      <th>224</th>\n",
       "      <td>2020-05-14 20:47:13.833</td>\n",
       "      <td>253bbe1a2021d0404712a1e4acd22939</td>\n",
       "      <td>1106</td>\n",
       "      <td>0</td>\n",
       "      <td>False</td>\n",
       "      <td>Безопасность компьютерных систем</td>\n",
       "      <td>Моделирование временных рядов</td>\n",
       "      <td>Statistical Learning Theory</td>\n",
       "      <td>Проектирование и разработка высоконагруженных ...</td>\n",
       "      <td>Численные методы</td>\n",
       "      <td>...</td>\n",
       "      <td>DevOps</td>\n",
       "      <td>False</td>\n",
       "      <td>1</td>\n",
       "      <td>False</td>\n",
       "      <td>False</td>\n",
       "      <td>None</td>\n",
       "      <td>None</td>\n",
       "      <td>False</td>\n",
       "      <td>False</td>\n",
       "      <td>False</td>\n",
       "    </tr>\n",
       "    <tr>\n",
       "      <th>225</th>\n",
       "      <td>2020-05-14 20:52:42.734</td>\n",
       "      <td>881b1a6fda195b354ae2edb396a69f5d</td>\n",
       "      <td>1084</td>\n",
       "      <td>0</td>\n",
       "      <td>False</td>\n",
       "      <td>Безопасность компьютерных систем</td>\n",
       "      <td>Анализ неструктурированных данных</td>\n",
       "      <td>Глубинное обучение в обработке звука</td>\n",
       "      <td>Компьютерное зрение</td>\n",
       "      <td>Проектирование и разработка высоконагруженных ...</td>\n",
       "      <td>...</td>\n",
       "      <td>DevOps</td>\n",
       "      <td>False</td>\n",
       "      <td>2</td>\n",
       "      <td>False</td>\n",
       "      <td>False</td>\n",
       "      <td>Безопасность компьютерных систем</td>\n",
       "      <td>Анализ неструктурированных данных</td>\n",
       "      <td>True</td>\n",
       "      <td>True</td>\n",
       "      <td>False</td>\n",
       "    </tr>\n",
       "    <tr>\n",
       "      <th>226</th>\n",
       "      <td>2020-05-14 21:03:02.916</td>\n",
       "      <td>5a9b8ac11ad05b39a58b0e04a263bf4c</td>\n",
       "      <td>1170</td>\n",
       "      <td>0</td>\n",
       "      <td>False</td>\n",
       "      <td>Глубинное обучение в обработке звука</td>\n",
       "      <td>Statistical Learning Theory</td>\n",
       "      <td>Сбор и обработка данных с помощью краудсорсинга</td>\n",
       "      <td>Конфликты и кооперация</td>\n",
       "      <td>Обучение с подкреплением</td>\n",
       "      <td>...</td>\n",
       "      <td>DevOps</td>\n",
       "      <td>False</td>\n",
       "      <td>2</td>\n",
       "      <td>False</td>\n",
       "      <td>False</td>\n",
       "      <td>Глубинное обучение в обработке звука</td>\n",
       "      <td>None</td>\n",
       "      <td>True</td>\n",
       "      <td>False</td>\n",
       "      <td>False</td>\n",
       "    </tr>\n",
       "    <tr>\n",
       "      <th>227</th>\n",
       "      <td>2020-05-14 21:10:54.945</td>\n",
       "      <td>1bbbfae51794b83c769b634be8da7b8d</td>\n",
       "      <td>1078</td>\n",
       "      <td>0</td>\n",
       "      <td>False</td>\n",
       "      <td>Безопасность компьютерных систем</td>\n",
       "      <td>Высокопроизводительные вычисления</td>\n",
       "      <td>Анализ неструктурированных данных</td>\n",
       "      <td>Проектирование и разработка высоконагруженных ...</td>\n",
       "      <td>Методы сжатия и передачи медиаданных</td>\n",
       "      <td>...</td>\n",
       "      <td>DevOps</td>\n",
       "      <td>False</td>\n",
       "      <td>1</td>\n",
       "      <td>False</td>\n",
       "      <td>False</td>\n",
       "      <td>Безопасность компьютерных систем</td>\n",
       "      <td>None</td>\n",
       "      <td>True</td>\n",
       "      <td>True</td>\n",
       "      <td>True</td>\n",
       "    </tr>\n",
       "    <tr>\n",
       "      <th>...</th>\n",
       "      <td>...</td>\n",
       "      <td>...</td>\n",
       "      <td>...</td>\n",
       "      <td>...</td>\n",
       "      <td>...</td>\n",
       "      <td>...</td>\n",
       "      <td>...</td>\n",
       "      <td>...</td>\n",
       "      <td>...</td>\n",
       "      <td>...</td>\n",
       "      <td>...</td>\n",
       "      <td>...</td>\n",
       "      <td>...</td>\n",
       "      <td>...</td>\n",
       "      <td>...</td>\n",
       "      <td>...</td>\n",
       "      <td>...</td>\n",
       "      <td>...</td>\n",
       "      <td>...</td>\n",
       "      <td>...</td>\n",
       "      <td>...</td>\n",
       "    </tr>\n",
       "    <tr>\n",
       "      <th>220</th>\n",
       "      <td>2020-05-21 16:33:15.899</td>\n",
       "      <td>1341f488fae5f1ccf164960fd6506cd0</td>\n",
       "      <td>584</td>\n",
       "      <td>188</td>\n",
       "      <td>False</td>\n",
       "      <td>Язык SQL</td>\n",
       "      <td>Теория баз данных</td>\n",
       "      <td>Безопасность компьютерных систем</td>\n",
       "      <td>Промышленное программирование на языке Java</td>\n",
       "      <td>Компьютерные сети</td>\n",
       "      <td>...</td>\n",
       "      <td></td>\n",
       "      <td>False</td>\n",
       "      <td>1</td>\n",
       "      <td>False</td>\n",
       "      <td>False</td>\n",
       "      <td>Язык SQL</td>\n",
       "      <td>None</td>\n",
       "      <td>True</td>\n",
       "      <td>True</td>\n",
       "      <td>False</td>\n",
       "    </tr>\n",
       "    <tr>\n",
       "      <th>360</th>\n",
       "      <td>2020-05-23 21:16:40.916</td>\n",
       "      <td>f2d210ace25a841e1e58036b257d5d47</td>\n",
       "      <td>1195</td>\n",
       "      <td>0</td>\n",
       "      <td>False</td>\n",
       "      <td>Анализ неструктурированных данных</td>\n",
       "      <td>Моделирование временных рядов</td>\n",
       "      <td>Высокопроизводительные вычисления</td>\n",
       "      <td>Обучение с подкреплением</td>\n",
       "      <td>Компьютерное зрение</td>\n",
       "      <td>...</td>\n",
       "      <td>Соревновательный анализ данных</td>\n",
       "      <td>False</td>\n",
       "      <td>1</td>\n",
       "      <td>False</td>\n",
       "      <td>False</td>\n",
       "      <td>Анализ неструктурированных данных</td>\n",
       "      <td>None</td>\n",
       "      <td>True</td>\n",
       "      <td>False</td>\n",
       "      <td>False</td>\n",
       "    </tr>\n",
       "    <tr>\n",
       "      <th>359</th>\n",
       "      <td>2020-05-23 21:16:40.916</td>\n",
       "      <td>79d14db48e4737af731960ae212d5134</td>\n",
       "      <td>966</td>\n",
       "      <td>0</td>\n",
       "      <td>False</td>\n",
       "      <td>Безопасность компьютерных систем</td>\n",
       "      <td>Принятие решений в условиях риска и неопределё...</td>\n",
       "      <td>Анализ неструктурированных данных</td>\n",
       "      <td>Проектирование и разработка высоконагруженных ...</td>\n",
       "      <td>Методы сжатия и передачи медиаданных</td>\n",
       "      <td>...</td>\n",
       "      <td>DevOps</td>\n",
       "      <td>False</td>\n",
       "      <td>2</td>\n",
       "      <td>False</td>\n",
       "      <td>False</td>\n",
       "      <td>Безопасность компьютерных систем</td>\n",
       "      <td>Принятие решений в условиях риска и неопределё...</td>\n",
       "      <td>True</td>\n",
       "      <td>True</td>\n",
       "      <td>False</td>\n",
       "    </tr>\n",
       "    <tr>\n",
       "      <th>221</th>\n",
       "      <td>2020-05-24 01:21:31.946</td>\n",
       "      <td>04bcb5c9d23813ffa940e1febb27fadc</td>\n",
       "      <td>646</td>\n",
       "      <td>186</td>\n",
       "      <td>False</td>\n",
       "      <td>Теория баз данных</td>\n",
       "      <td>Высокопроизводительные вычисления</td>\n",
       "      <td>Безопасность компьютерных систем</td>\n",
       "      <td>Компьютерные сети</td>\n",
       "      <td>Дискретная оптимизация</td>\n",
       "      <td>...</td>\n",
       "      <td></td>\n",
       "      <td>False</td>\n",
       "      <td>1</td>\n",
       "      <td>False</td>\n",
       "      <td>False</td>\n",
       "      <td>Теория баз данных</td>\n",
       "      <td>None</td>\n",
       "      <td>True</td>\n",
       "      <td>False</td>\n",
       "      <td>False</td>\n",
       "    </tr>\n",
       "    <tr>\n",
       "      <th>222</th>\n",
       "      <td>2020-05-24 01:23:31.946</td>\n",
       "      <td>9d19b0d5f4fc8d7edc2258406f872c4e</td>\n",
       "      <td>695</td>\n",
       "      <td>188</td>\n",
       "      <td>False</td>\n",
       "      <td>Безопасность компьютерных систем</td>\n",
       "      <td>Язык SQL</td>\n",
       "      <td>Высокопроизводительные вычисления</td>\n",
       "      <td>Компьютерные сети</td>\n",
       "      <td>Дискретная оптимизация</td>\n",
       "      <td>...</td>\n",
       "      <td></td>\n",
       "      <td>False</td>\n",
       "      <td>1</td>\n",
       "      <td>False</td>\n",
       "      <td>False</td>\n",
       "      <td>None</td>\n",
       "      <td>None</td>\n",
       "      <td>False</td>\n",
       "      <td>False</td>\n",
       "      <td>False</td>\n",
       "    </tr>\n",
       "  </tbody>\n",
       "</table>\n",
       "<p>347 rows × 24 columns</p>\n",
       "</div>"
      ],
      "text/plain": [
       "                  timestamp                                id  rating  \\\n",
       "223 2020-05-14 20:23:21.662  d555d2805e1d93d4f023e57dc4c8f403     996   \n",
       "224 2020-05-14 20:47:13.833  253bbe1a2021d0404712a1e4acd22939    1106   \n",
       "225 2020-05-14 20:52:42.734  881b1a6fda195b354ae2edb396a69f5d    1084   \n",
       "226 2020-05-14 21:03:02.916  5a9b8ac11ad05b39a58b0e04a263bf4c    1170   \n",
       "227 2020-05-14 21:10:54.945  1bbbfae51794b83c769b634be8da7b8d    1078   \n",
       "..                      ...                               ...     ...   \n",
       "220 2020-05-21 16:33:15.899  1341f488fae5f1ccf164960fd6506cd0     584   \n",
       "360 2020-05-23 21:16:40.916  f2d210ace25a841e1e58036b257d5d47    1195   \n",
       "359 2020-05-23 21:16:40.916  79d14db48e4737af731960ae212d5134     966   \n",
       "221 2020-05-24 01:21:31.946  04bcb5c9d23813ffa940e1febb27fadc     646   \n",
       "222 2020-05-24 01:23:31.946  9d19b0d5f4fc8d7edc2258406f872c4e     695   \n",
       "\n",
       "     18_group  is_mi                                fall_1  \\\n",
       "223         0  False      Безопасность компьютерных систем   \n",
       "224         0  False      Безопасность компьютерных систем   \n",
       "225         0  False      Безопасность компьютерных систем   \n",
       "226         0  False  Глубинное обучение в обработке звука   \n",
       "227         0  False      Безопасность компьютерных систем   \n",
       "..        ...    ...                                   ...   \n",
       "220       188  False                              Язык SQL   \n",
       "360         0  False     Анализ неструктурированных данных   \n",
       "359         0  False      Безопасность компьютерных систем   \n",
       "221       186  False                     Теория баз данных   \n",
       "222       188  False      Безопасность компьютерных систем   \n",
       "\n",
       "                                                fall_2  \\\n",
       "223               Глубинное обучение в обработке звука   \n",
       "224                      Моделирование временных рядов   \n",
       "225                  Анализ неструктурированных данных   \n",
       "226                        Statistical Learning Theory   \n",
       "227                  Высокопроизводительные вычисления   \n",
       "..                                                 ...   \n",
       "220                                  Теория баз данных   \n",
       "360                      Моделирование временных рядов   \n",
       "359  Принятие решений в условиях риска и неопределё...   \n",
       "221                  Высокопроизводительные вычисления   \n",
       "222                                           Язык SQL   \n",
       "\n",
       "                                              fall_3  \\\n",
       "223            Байесовские методы машинного обучения   \n",
       "224                      Statistical Learning Theory   \n",
       "225             Глубинное обучение в обработке звука   \n",
       "226  Сбор и обработка данных с помощью краудсорсинга   \n",
       "227                Анализ неструктурированных данных   \n",
       "..                                               ...   \n",
       "220                 Безопасность компьютерных систем   \n",
       "360                Высокопроизводительные вычисления   \n",
       "359                Анализ неструктурированных данных   \n",
       "221                 Безопасность компьютерных систем   \n",
       "222                Высокопроизводительные вычисления   \n",
       "\n",
       "                                              spring_1  \\\n",
       "223                                Компьютерное зрение   \n",
       "224  Проектирование и разработка высоконагруженных ...   \n",
       "225                                Компьютерное зрение   \n",
       "226                             Конфликты и кооперация   \n",
       "227  Проектирование и разработка высоконагруженных ...   \n",
       "..                                                 ...   \n",
       "220        Промышленное программирование на языке Java   \n",
       "360                           Обучение с подкреплением   \n",
       "359  Проектирование и разработка высоконагруженных ...   \n",
       "221                                  Компьютерные сети   \n",
       "222                                  Компьютерные сети   \n",
       "\n",
       "                                              spring_2  ...  \\\n",
       "223                           Обучение с подкреплением  ...   \n",
       "224                                   Численные методы  ...   \n",
       "225  Проектирование и разработка высоконагруженных ...  ...   \n",
       "226                           Обучение с подкреплением  ...   \n",
       "227               Методы сжатия и передачи медиаданных  ...   \n",
       "..                                                 ...  ...   \n",
       "220                                  Компьютерные сети  ...   \n",
       "360                                Компьютерное зрение  ...   \n",
       "359               Методы сжатия и передачи медиаданных  ...   \n",
       "221                             Дискретная оптимизация  ...   \n",
       "222                             Дискретная оптимизация  ...   \n",
       "\n",
       "                            blended  is_ml_student  fall_courses_needed  \\\n",
       "223                          DevOps          False                    2   \n",
       "224                          DevOps          False                    1   \n",
       "225                          DevOps          False                    2   \n",
       "226                          DevOps          False                    2   \n",
       "227                          DevOps          False                    1   \n",
       "..                              ...            ...                  ...   \n",
       "220                                          False                    1   \n",
       "360  Соревновательный анализ данных          False                    1   \n",
       "359                          DevOps          False                    2   \n",
       "221                                          False                    1   \n",
       "222                                          False                    1   \n",
       "\n",
       "     is_first_place is_last_place                       assigned_fall_1  \\\n",
       "223           False         False      Безопасность компьютерных систем   \n",
       "224           False         False                                  None   \n",
       "225           False         False      Безопасность компьютерных систем   \n",
       "226           False         False  Глубинное обучение в обработке звука   \n",
       "227           False         False      Безопасность компьютерных систем   \n",
       "..              ...           ...                                   ...   \n",
       "220           False         False                              Язык SQL   \n",
       "360           False         False     Анализ неструктурированных данных   \n",
       "359           False         False      Безопасность компьютерных систем   \n",
       "221           False         False                     Теория баз данных   \n",
       "222           False         False                                  None   \n",
       "\n",
       "                                       assigned_fall_2  \\\n",
       "223               Глубинное обучение в обработке звука   \n",
       "224                                               None   \n",
       "225                  Анализ неструктурированных данных   \n",
       "226                                               None   \n",
       "227                                               None   \n",
       "..                                                 ...   \n",
       "220                                               None   \n",
       "360                                               None   \n",
       "359  Принятие решений в условиях риска и неопределё...   \n",
       "221                                               None   \n",
       "222                                               None   \n",
       "\n",
       "     first_priority_successfull  second_priority_successfull  \\\n",
       "223                        True                         True   \n",
       "224                       False                        False   \n",
       "225                        True                         True   \n",
       "226                        True                        False   \n",
       "227                        True                         True   \n",
       "..                          ...                          ...   \n",
       "220                        True                         True   \n",
       "360                        True                        False   \n",
       "359                        True                         True   \n",
       "221                        True                        False   \n",
       "222                       False                        False   \n",
       "\n",
       "    third_priority_successfull  \n",
       "223                      False  \n",
       "224                      False  \n",
       "225                      False  \n",
       "226                      False  \n",
       "227                       True  \n",
       "..                         ...  \n",
       "220                      False  \n",
       "360                      False  \n",
       "359                      False  \n",
       "221                      False  \n",
       "222                      False  \n",
       "\n",
       "[347 rows x 24 columns]"
      ]
     },
     "execution_count": 501,
     "metadata": {},
     "output_type": "execute_result"
    }
   ],
   "source": [
    "df"
   ]
  },
  {
   "cell_type": "markdown",
   "metadata": {
    "id": "E_fbyB9qhLu5"
   },
   "source": [
    "После распределения студентов в соответствии с первым приоритетом добавьте в свой датафрейм аналогичные признаки и запустите проверку:"
   ]
  },
  {
   "cell_type": "code",
   "execution_count": 507,
   "metadata": {
    "id": "GOAzQeYehLu6"
   },
   "outputs": [],
   "source": [
    "fir_col_name = 'assigned_fall_1'\n",
    "last_col_name = 'assigned_fall_2'\n",
    "\n",
    "# assert((df[df[fir_col_name].isna() == False][['id']].sort_values('id').reset_index(drop=True)\n",
    "#         ==\n",
    "#         check_df[check_df['is_first_place'].isna() == False][['id']].sort_values('id').reset_index(drop=True)\n",
    "#        ).id.values).all()\n",
    "\n",
    "\n",
    "# assert((df[df[last_col_name].isna() == False][['id']].sort_values('id').reset_index(drop=True)\n",
    "#        ==\n",
    "#        check_df[check_df['is_last_place'].isna() == False][['id']].sort_values('id').reset_index(drop=True)\n",
    "#       ).id.values).all()"
   ]
  },
  {
   "cell_type": "markdown",
   "metadata": {
    "id": "RO6DwNNFhLu6"
   },
   "source": [
    "#### 3. [2 балла] Проведите все три волны отбора студентов на курсы по выбору"
   ]
  },
  {
   "cell_type": "code",
   "execution_count": 508,
   "metadata": {
    "id": "jn2OOrLjhLu6"
   },
   "outputs": [],
   "source": [
    "# сделано"
   ]
  },
  {
   "cell_type": "markdown",
   "metadata": {
    "id": "1xQjV9BuhLu6"
   },
   "source": [
    "**Отправьте свой файл res_fall.csv в контест (будет в ближайшее время, следите за новостями) и прикрепите/укажите ниже ваш никнейм и ссылку на успешную посылку.**"
   ]
  },
  {
   "cell_type": "markdown",
   "metadata": {
    "id": "QRTbPrgbhLu6"
   },
   "source": [
    "*Дисклеймер:*\n",
    "\n",
    "Успешная посылка в контесте является **обязательным** условием получения полного балла за этот (и следующий) пункт. Если добиться успешной посылки не удастся, баллы будут выставляться на усмотрение проверяюшего.\n",
    "\n",
    "При этом ОК в контесте не гарантирует полный балл. Оценка всё равно может быть снижена в случае обнаружения неэффективностей или ошибок в коде. Если вы сдадите в AnyTask очевидно неработающий код или ноутбук без кода, но при этом в контест будет сдан корректный файл, то это будет расцениваться как плагиат."
   ]
  },
  {
   "cell_type": "markdown",
   "metadata": {
    "id": "1IkQa_gdhLu6"
   },
   "source": [
    "На всякий случай просим вас сдать вместе с ноутбуком файл res_fall.csv в anytask"
   ]
  },
  {
   "cell_type": "markdown",
   "metadata": {
    "id": "k8d711qGhLu7"
   },
   "source": [
    "### 4. [1 балла] Распределите таким же образом студентов еще и на весенние курсы по выбору.\n",
    "\n",
    "Если ваш код был хорошо структурирован, то это не составит проблем.\n",
    "\n",
    "Если вы выполнили это задание, сдайте среди прочего файл res_spring.csv в таком же формате, как и res_fall.csv."
   ]
  },
  {
   "cell_type": "code",
   "execution_count": 512,
   "metadata": {
    "id": "hwmusOGThLu7"
   },
   "outputs": [],
   "source": [
    "df['spring_courses_needed'] = 1\n",
    "df.loc[df['17_group'].isin([171, 172, 173]), 'spring_courses_needed'] = 2\n",
    "\n",
    "spring_courses = pd.concat([df['spring_1'], df['spring_2'], df['spring_3']]).unique()\n",
    "courses_seats_left_spring = np.repeat(30, len(spring_courses))\n",
    "courses_seats_left_spring[(spring_courses == 'Обучение с подкреплением') + (spring_courses == 'Анализ данных в бизнесе')] = 60\n",
    "\n",
    "\n",
    "# матрицы соответствия курса и студента по приоритетам\n",
    "course_1_student_matrix_spring = (df['spring_1'].values == spring_courses.reshape(-1,1))\n",
    "course_2_student_matrix_spring = (df['spring_2'].values == spring_courses.reshape(-1,1))\n",
    "course_3_student_matrix_spring = (df['spring_3'].values == spring_courses.reshape(-1,1))\n",
    "\n",
    "# смещения приоритетов из-за студентов, выбирающих сразу 2 курса\n",
    "course_1_student_matrix_spring[:, df['spring_courses_needed']==2] += course_2_student_matrix_spring[:, df['spring_courses_needed']==2]\n",
    "course_2_student_matrix_spring[:, df['spring_courses_needed']==2] = course_3_student_matrix_spring[:, df['spring_courses_needed']==2]\n",
    "course_3_student_matrix_spring[:, df['spring_courses_needed']==2] = False\n",
    "\n",
    "# создание списков на первом приоритете на осенние курсы\n",
    "courses_students_list_spring = []\n",
    "df['assigned_spring_1'] = None\n",
    "df['assigned_spring_2'] = None\n",
    "df['first_priority_successfull'] = False\n",
    "df['second_priority_successfull'] = False\n",
    "df['third_priority_successfull'] = False\n",
    "\n",
    "\n",
    "for i, course in enumerate(spring_courses):\n",
    "    #1st Wave\n",
    "    course_students_1_wave = df[course_1_student_matrix_spring[i]].sort_values('percentile', ascending=False)[:courses_seats_left_spring[i]]\n",
    "    df.loc[course_students_1_wave.index, 'first_priority_successfull'] = True\n",
    "    courses_seats_left_spring[i] -= course_students_1_wave.shape[0]\n",
    "\n",
    "    #2nd Wave\n",
    "    if courses_seats_left_spring[i] > 0:\n",
    "        course_students_2_wave = df[course_2_student_matrix_spring[i]].sort_values('percentile', ascending=False)[:courses_seats_left_spring[i]]\n",
    "        df.loc[course_students_2_wave.index, 'second_priority_successfull'] = True\n",
    "        courses_seats_left_spring[i] -= course_students_2_wave.shape[0]\n",
    "\n",
    "    #3rd Wave\n",
    "    if courses_seats_left_spring[i]  > course_students.shape[0]:\n",
    "        course_students_3_wave = df[course_3_student_matrix_spring[i]].sort_values('percentile', ascending=False)[:courses_seats_left_spring[i]]\n",
    "        df.loc[course_students_3_wave.index, 'third_priority_successfull'] = True\n",
    "        # courses_seats_left_spring[i] -= course_students_3_wave.shape[0]\n",
    "        \n",
    "    courses_students_list_spring.append(course_students.index)\n",
    "\n",
    "\n",
    "df.loc[df['first_priority_successfull'], 'assigned_srping_1'] = df['spring_1']\n",
    "df.loc[df['second_priority_successfull'] & ~df['first_priority_successfull'], 'assigned_spring_1'] = df['spring_2']\n",
    "df.loc[df['third_priority_successfull'] & ~df['first_priority_successfull'], 'assigned_spring_1'] = df['spring_3']\n",
    "\n",
    "df.loc[(df['spring_courses_needed']==2) & df['second_priority_successfull'] & df['first_priority_successfull'], 'assigned_spring_2'] = df['spring_2']\n",
    "df.loc[(df['spring_courses_needed']==2) & df['third_priority_successfull'] & df['second_priority_successfull'] & df['first_priority_successfull'], 'assigned_spring_2'] = df['spring_3']"
   ]
  },
  {
   "cell_type": "markdown",
   "metadata": {
    "id": "It7QQZLYhLu7"
   },
   "source": [
    "**Отправьте свой файл res_spring.csv в контест (будет в ближайшее время, следите за новостями) и прикрепите/укажите ниже ваш никнейм и ссылку на успешную посылку.**"
   ]
  },
  {
   "cell_type": "markdown",
   "metadata": {
    "id": "1YcouVTihLu7"
   },
   "source": [
    "На всякий случай просим вас сдать вместе с ноутбуком файл res_spring.csv в anytask"
   ]
  },
  {
   "cell_type": "markdown",
   "metadata": {
    "id": "uY_OY6inhLu7"
   },
   "source": [
    "Вставьте картинку, описывающую ваш опыт выполнения этого задания:"
   ]
  },
  {
   "cell_type": "code",
   "execution_count": null,
   "metadata": {
    "id": "R9_7CnSFhLu7"
   },
   "outputs": [],
   "source": []
  }
 ],
 "metadata": {
  "colab": {
   "provenance": []
  },
  "kernelspec": {
   "display_name": "Python 3 (ipykernel)",
   "language": "python",
   "name": "python3"
  },
  "language_info": {
   "codemirror_mode": {
    "name": "ipython",
    "version": 3
   },
   "file_extension": ".py",
   "mimetype": "text/x-python",
   "name": "python",
   "nbconvert_exporter": "python",
   "pygments_lexer": "ipython3",
   "version": "3.9.6"
  },
  "varInspector": {
   "cols": {
    "lenName": 16,
    "lenType": 16,
    "lenVar": 40
   },
   "kernels_config": {
    "python": {
     "delete_cmd_postfix": "",
     "delete_cmd_prefix": "del ",
     "library": "var_list.py",
     "varRefreshCmd": "print(var_dic_list())"
    },
    "r": {
     "delete_cmd_postfix": ") ",
     "delete_cmd_prefix": "rm(",
     "library": "var_list.r",
     "varRefreshCmd": "cat(var_dic_list()) "
    }
   },
   "types_to_exclude": [
    "module",
    "function",
    "builtin_function_or_method",
    "instance",
    "_Feature"
   ],
   "window_display": false
  },
  "vscode": {
   "interpreter": {
    "hash": "e7370f93d1d0cde622a1f8e1c04877d8463912d04d973331ad4851f04de6915a"
   }
  }
 },
 "nbformat": 4,
 "nbformat_minor": 4
}
