{
 "cells": [
  {
   "cell_type": "markdown",
   "metadata": {
    "id": "7EowSrjCoUyN",
    "pycharm": {
     "name": "#%% md\n"
    }
   },
   "source": [
    "# Машинное обучение, ФКН ВШЭ\n",
    "\n",
    "# Практическое задание 6. Бустинговое\n",
    "\n",
    "## Общая информация\n",
    "\n",
    "Дата выдачи: 12.12.2024\n",
    "\n",
    "Мягкий дедлайн: 22.12.2024 23:59 MSK\n",
    "\n",
    "Жёсткий дедлайн: 22.12.2024 23:59 MSK\n",
    "\n",
    "## Оценивание и штрафы\n",
    "\n",
    "Каждая из задач имеет определенную «стоимость» (указана в скобках около задачи). Максимально допустимая оценка за работу — 10 баллов.\n",
    "\n",
    "Задание выполняется самостоятельно. «Похожие» решения считаются плагиатом и все задействованные студенты (в том числе те, у кого списали) не могут получить за него больше 0 баллов (подробнее о плагиате см. на странице курса). Если вы нашли решение какого-то из заданий (или его часть) в открытом источнике, необходимо указать ссылку на этот источник в отдельном блоке в конце вашей работы (скорее всего вы будете не единственным, кто это нашел, поэтому чтобы исключить подозрение в плагиате, необходима ссылка на источник).\n",
    "\n",
    "Неэффективная реализация кода может негативно отразиться на оценке.\n",
    "\n",
    "## Формат сдачи\n",
    "Задания сдаются через систему anytask. Посылка должна содержать:\n",
    "* Ноутбук homework-practice-06-Username.ipynb\n",
    "\n",
    "Username — ваша фамилия на латинице"
   ]
  },
  {
   "cell_type": "markdown",
   "metadata": {
    "id": "KrDlbgTtoUyP",
    "pycharm": {
     "name": "#%% md\n"
    }
   },
   "source": [
    "## О задании\n",
    "\n",
    "В этом задании вам предстоит вручную запрограммировать один из самых мощных алгоритмов машинного обучения — бустинг. Однако с большой силой приходит и большая ответственность, так что заодно научимся, как его правильно готовить"
   ]
  },
  {
   "cell_type": "code",
   "execution_count": 1,
   "metadata": {
    "id": "yWktQHZQoUyQ",
    "pycharm": {
     "name": "#%%\n"
    }
   },
   "outputs": [],
   "source": [
    "from warnings import filterwarnings\n",
    "\n",
    "import matplotlib.pyplot as plt\n",
    "import numpy as np\n",
    "import seaborn as sns\n",
    "from scipy.sparse import load_npz\n",
    "from sklearn.model_selection import train_test_split\n",
    "\n",
    "sns.set_theme(style='darkgrid')\n",
    "filterwarnings('ignore')"
   ]
  },
  {
   "cell_type": "code",
   "execution_count": 2,
   "metadata": {
    "id": "n0zcZqIZoUyR",
    "pycharm": {
     "name": "#%%\n"
    }
   },
   "outputs": [],
   "source": [
    "X = load_npz('x.npz')\n",
    "y = np.load('y.npy')"
   ]
  },
  {
   "cell_type": "markdown",
   "metadata": {
    "id": "zOIxzg1joUyR",
    "pycharm": {
     "name": "#%% md\n"
    }
   },
   "source": [
    "Разделим на обучающую, валидационную и тестовую выборки (оставьте `random_state=1337` для воспроизводимости)."
   ]
  },
  {
   "cell_type": "code",
   "execution_count": 3,
   "metadata": {
    "id": "D_DAsR6roUyS",
    "pycharm": {
     "name": "#%%\n"
    }
   },
   "outputs": [
    {
     "data": {
      "text/plain": [
       "((18825, 169), (2354, 169), (2353, 169))"
      ]
     },
     "execution_count": 3,
     "metadata": {},
     "output_type": "execute_result"
    }
   ],
   "source": [
    "X_train, X_test, y_train, y_test = train_test_split(X, y, test_size=0.2, random_state=1337)\n",
    "X_test, X_val, y_test, y_val = train_test_split(X_test, y_test, test_size=0.5, random_state=1337)\n",
    "\n",
    "X_train.shape, X_val.shape, X_test.shape"
   ]
  },
  {
   "cell_type": "markdown",
   "metadata": {
    "id": "shCFxbqroUyS",
    "pycharm": {
     "name": "#%% md\n"
    }
   },
   "source": [
    "---\n",
    "\n",
    "## Задание 1. Базовый градиентный бустинг (4 балла)\n",
    "\n",
    "Первая часть посвящена реализации собственного градиентного бустинга. Обращаем внимание, что пользоваться готовыми реализациями <font color='lightcoral'>**нельзя**</font>, если специально не оговорено. На все <font color='plum'>**вопросы**</font> должен быть <font color='plum'>**ответ**</font>. В заданиях есть референсы для параметров, которые нужно сделать, на случай, если объяснение из ноутбука непонятно, тогда советуем обратиться к соответствующей документации\n",
    "\n",
    "Вам нужно дописать код в файлике `boosting.py`. Для вас уже подготовлен шаблон класса `Boosting`, вы можете менять его по своему усмотрению.\n",
    "\n",
    "### Инструкции для функций:\n",
    "\n",
    "#### `__init__`\n",
    "\n",
    "Обязательные параметры:\n",
    " — `base_model_class` — класс базовой модели нашего бустинга\n",
    " — `base_model_params` — словарь с гиперпараметрами для базовой модели\n",
    " — `n_estimators` — какое количество базовых моделей нужно обучить\n",
    " — `learning_rate` — темп обучения, должен быть из полуинтервала $(0, 1]$\n",
    "\n",
    "#### `fit`\n",
    "\n",
    "В `fit` приходит выборка, на которой мы обучаем новые базовые модели\n",
    "\n",
    "Сначала нам нужно сделать какую-то нулевую модель, сделать предсказания (в шаблоне это нулевая модель, соответственно предсказания это просто `np.zeros`). После этого нужно обучить `n_estimators` базовых моделей (как и на что обучаются базовые модели смотрите в лекциях и семинарах). После каждой обученной базовой модели мы должны обновить текущие предсказания, посчитать ошибку на выборке (используем `loss_fn` для этого) и найти новую оптимальную гамму\n",
    "\n",
    "После всего цикла обучения надо нарисовать график (если `plot=True`).\n",
    "\n",
    "#### `partial_fit`\n",
    "\n",
    "В `partial_fit` приходит обучающая выборка, на которую обучается новая базовая модель\n",
    "\n",
    "#### `predict_proba`\n",
    "\n",
    "В `predict_proba` приходит любая выборка, нужно предсказать вероятности для неё. Суммируем предсказания базовых моделей на этой выборке (не забываем про гаммы) и накидываем сигмоиду\n",
    "\n",
    "#### `plot_history`\n",
    "\n",
    "В `plot_history` приходит любая выборка, для которой последовательно считаются значения функции потерь и/или любой метрики, которую вы хотите посчитать, путем последовательного применения базовых моделей. Можно делать сразу во время обучения, можно делать иначе"
   ]
  },
  {
   "cell_type": "code",
   "execution_count": 4,
   "metadata": {
    "id": "3Xm_ImHDoUyT",
    "pycharm": {
     "name": "#%%\n"
    }
   },
   "outputs": [],
   "source": [
    "%load_ext autoreload\n",
    "%autoreload 2\n",
    "\n",
    "from boosting import Boosting"
   ]
  },
  {
   "cell_type": "markdown",
   "metadata": {
    "id": "y7UHXk1UoUyT",
    "pycharm": {
     "name": "#%% md\n"
    }
   },
   "source": [
    "### Проверка кода"
   ]
  },
  {
   "cell_type": "code",
   "execution_count": 5,
   "metadata": {},
   "outputs": [],
   "source": [
    "X_train = X_train.toarray() if hasattr(X_train, \"toarray\") else np.asarray(X_train) #densify\n",
    "X_val = X_val.toarray() if hasattr(X_val, \"toarray\") else np.asarray(X_val)         #densify\n",
    "X_test = X_test.toarray() if hasattr(X_test, \"toarray\") else np.asarray(X_test)     #densify"
   ]
  },
  {
   "cell_type": "code",
   "execution_count": 17,
   "metadata": {
    "id": "ahY_-dDAoUyT",
    "pycharm": {
     "name": "#%%\n"
    }
   },
   "outputs": [
    {
     "name": "stdout",
     "output_type": "stream",
     "text": [
      "10/100, ROC AUC: 0.9998, Loss: 0.4830, Time: 14.52\n",
      "20/100, ROC AUC: 0.9998, Loss: 0.3678, Time: 21.15\n",
      "30/100, ROC AUC: 0.9998, Loss: 0.2928, Time: 26.52\n",
      "40/100, ROC AUC: 0.9998, Loss: 0.2416, Time: 32.23\n",
      "50/100, ROC AUC: 0.9998, Loss: 0.2050, Time: 37.20\n",
      "60/100, ROC AUC: 0.9998, Loss: 0.1777, Time: 43.94\n",
      "70/100, ROC AUC: 0.9998, Loss: 0.1568, Time: 50.23\n",
      "80/100, ROC AUC: 0.9998, Loss: 0.1404, Time: 55.70\n",
      "90/100, ROC AUC: 0.9998, Loss: 0.1272, Time: 62.28\n"
     ]
    },
    {
     "data": {
      "image/png": "[encoded data removed]",
      "text/plain": [
       "<Figure size 640x480 with 1 Axes>"
      ]
     },
     "metadata": {},
     "output_type": "display_data"
    },
    {
     "name": "stdout",
     "output_type": "stream",
     "text": [
      "Train ROC-AUC 0.9998\n",
      "Valid ROC-AUC 0.9135\n",
      "Test ROC-AUC 0.9110\n"
     ]
    }
   ],
   "source": [
    "boosting = Boosting(n_estimators=100)\n",
    "\n",
    "boosting.fit(X_train, y_train)\n",
    "boosting.plot_history()\n",
    "\n",
    "assert len(boosting.models) == boosting.n_estimators\n",
    "assert len(boosting.gammas) == boosting.n_estimators\n",
    "\n",
    "assert boosting.predict_proba(X_test).shape == (X_test.shape[0], 2)\n",
    "\n",
    "print(f'Train ROC-AUC {boosting.score(X_train, y_train):.4f}')\n",
    "print(f'Valid ROC-AUC {boosting.score(X_val, y_val):.4f}')\n",
    "print(f'Test ROC-AUC {boosting.score(X_test, y_test):.4f}')"
   ]
  },
  {
   "cell_type": "markdown",
   "metadata": {
    "id": "2Ua0qKX9oUyV"
   },
   "source": [
    "---\n",
    "\n",
    "## Задание 2. Имплементация гиперпараметров (2.5 балла + 3.5 бонус)\n",
    "\n",
    "Бустинг, как метод агрегации, предлагает несколько вариантов регуляризации безотносительно базовой модели. В этом пункте предлагается имплементировать часть из них. При необходимости можете обратиться к реализациям в вашей любимой библиотеке, там могут быть дополнительные пояснения и/или ссылки на оригинальные статьи\n",
    "\n",
    "<font color='lightcoral'>**Важно!**</font> После добавления каждого параметра проверьте, как это повлияет на качество. Специально крутить параметры не нужно, но важно увидеть, что перформанс модели изменился, в худшую или в лучшую сторону, для этого какие-то параметры нужны, пусть и от балды, <font color='lightcoral'>**дефолтные параметры не подойдут**</font>, они скорее для референса. Лучше всего это видно по графикам обучения <font color='lightcoral'>**на трейне и валидации**</font>, рекомендуется смотрить именно на них\n",
    "\n",
    "### 2.1. Борьба с переобучением (0.5 балла)\n",
    "\n",
    "Как известно, бустинги бывают склонны к переобучению. Чтобы этого не допустить, можно контролировать процесс обучения и проверять критерий останова на валидации. Реализуйте такую процедуру, не забудьте, что всю предобработку, что вы будете делать для трейна, нужно будет повторить на валидации\n",
    "\n",
    "| <font color='lightblue'>XGBoost</font> | <font color='lightgreen'>LightGBM</font> | <font color='palegoldenrod'>CatBoost</font> |\n",
    "| --- | --- | --- |\n",
    "| <td colspan=3>`early_stopping_rounds`, `eval_set` |\n",
    "\n",
    "Добавьте параметры:\n",
    "- `early_stopping_rounds: int | None = 0` — число раундов для критерия останова. Если качество ухудшается на протяжении всех раундов подряд, останавливаем обучение\n",
    "- `X_val`, `y_val` или `eval_set: Tuple[np.ndarray] | None = None` — валидацонная выборка, на которой будем проверять переобучение"
   ]
  },
  {
   "cell_type": "code",
   "execution_count": 19,
   "metadata": {},
   "outputs": [
    {
     "name": "stdout",
     "output_type": "stream",
     "text": [
      "10/100, ROC AUC: 0.9332, Loss: 0.5662, Time: 8.70\n",
      "20/100, ROC AUC: 0.9391, Loss: 0.4944, Time: 13.93\n",
      "30/100, ROC AUC: 0.9421, Loss: 0.4460, Time: 20.08\n",
      "40/100, ROC AUC: 0.9451, Loss: 0.4118, Time: 25.72\n",
      "50/100, ROC AUC: 0.9471, Loss: 0.3864, Time: 30.92\n",
      "60/100, ROC AUC: 0.9486, Loss: 0.3673, Time: 37.17\n",
      "70/100, ROC AUC: 0.9502, Loss: 0.3518, Time: 42.61\n",
      "80/100, ROC AUC: 0.9515, Loss: 0.3394, Time: 48.16\n",
      "90/100, ROC AUC: 0.9526, Loss: 0.3292, Time: 54.50\n"
     ]
    },
    {
     "data": {
      "image/png": "[encoded data removed]",
      "text/plain": [
       "<Figure size 640x480 with 1 Axes>"
      ]
     },
     "metadata": {},
     "output_type": "display_data"
    },
    {
     "name": "stdout",
     "output_type": "stream",
     "text": [
      "Train ROC-AUC 0.9534\n",
      "Valid ROC-AUC 0.9288\n",
      "Test ROC-AUC 0.9274\n"
     ]
    }
   ],
   "source": [
    "boosting = Boosting(\n",
    "    early_stopping_rounds=10,\n",
    "    n_estimators=100,\n",
    "    base_model_params={'max_depth': 3, 'min_samples_split': 10, 'min_samples_leaf': 5},\n",
    ")\n",
    "\n",
    "boosting.fit(X_train, y_train, X_val, y_val)\n",
    "boosting.plot_history()\n",
    "\n",
    "assert len(boosting.models) == boosting.n_estimators\n",
    "assert len(boosting.gammas) == boosting.n_estimators\n",
    "\n",
    "assert boosting.predict_proba(X_test).shape == (X_test.shape[0], 2)\n",
    "\n",
    "print(f'Train ROC-AUC {boosting.score(X_train, y_train):.4f}')\n",
    "print(f'Valid ROC-AUC {boosting.score(X_val, y_val):.4f}')\n",
    "print(f'Test ROC-AUC {boosting.score(X_test, y_test):.4f}')"
   ]
  },
  {
   "cell_type": "markdown",
   "metadata": {
    "id": "B9yIlKgsv2Nf"
   },
   "source": [
    "### Бонус. Бустинг линейных моделей (0.5 балла)\n",
    "\n",
    "**<font color='plum'>Вопрос:** что произойдет при ансамблировании линейных моделей? Имеет ли это смысл?</font>\n",
    "\n",
    "<font color='plum'>**Ответ:** ...</font>\n",
    "\n",
    "Давайте убедимся. Обучите бустинг, где в качестве базовой модели будет линейная регрессия. Обязательно сохраните историю функции потерь и зафиксируйте время обучения. Можно взять уже готовый из <font color='lightblue'>**XGBoost**</font>, но будьте готовы разобраться с тем, как оттуда достать историю обучения\n",
    "\n",
    "| <font color='lightblue'>XGBoost</font> | <font color='lightgreen'>LightGBM</font> | <font color='palegoldenrod'>CatBoost</font> |\n",
    "| --- | --- | --- |\n",
    "| `XGBClassifier(booster=\"gblinear\")` | — | — |"
   ]
  },
  {
   "cell_type": "code",
   "execution_count": 12,
   "metadata": {
    "id": "Bi6xczmawD5E"
   },
   "outputs": [
    {
     "name": "stdout",
     "output_type": "stream",
     "text": [
      "Time taken for XGBoost: 0.23 seconds\n",
      "Time taken for SGDClassifier: 0.63 seconds\n"
     ]
    },
    {
     "data": {
      "image/png": "[encoded data removed]",
      "text/plain": [
       "<Figure size 640x480 with 1 Axes>"
      ]
     },
     "metadata": {},
     "output_type": "display_data"
    }
   ],
   "source": [
    "import xgboost as xgb\n",
    "from sklearn.metrics import roc_auc_score\n",
    "from datetime import datetime\n",
    "\n",
    "time_then = datetime.now()\n",
    "xgb_model = xgb.XGBClassifier(\n",
    "    booster='gblinear',\n",
    "    n_estimators=100,\n",
    "    # learning_rate=0.1,\n",
    "    random_state=42,\n",
    "    eval_metric='auc',\n",
    ")\n",
    "xgb_model.fit(X_train, y_train, eval_set=[(X_val, y_val), (X_train, y_train)], verbose=False)\n",
    "scores = roc_auc_score(y_test, xgb_model.predict_proba(X_test)[:, 1])\n",
    "history = xgb_model.evals_result()\n",
    "\n",
    "plt.plot(history['validation_0']['auc'], label='XGBoost (Validation)')\n",
    "plt.plot(history['validation_1']['auc'], label='XGBoost (Train)')\n",
    "print(f'Time taken for XGBoost: {(datetime.now() - time_then).total_seconds():.2f} seconds')\n",
    "\n",
    "from sklearn.linear_model import SGDClassifier\n",
    "\n",
    "time_then = datetime.now()\n",
    "sgd_model = SGDClassifier(\n",
    "    loss='log_loss',\n",
    "    random_state=42,\n",
    "    warm_start=True,\n",
    ")\n",
    "\n",
    "losses_train = []\n",
    "losses_validation = []\n",
    "epochs = 100\n",
    "for _ in range(epochs):\n",
    "    sgd_model.partial_fit(X_train, y_train, classes=np.unique(y_train))\n",
    "    losses_train.append(roc_auc_score(y_train, sgd_model.predict_proba(X_train)[:, 1]))\n",
    "    losses_validation.append(roc_auc_score(y_val, sgd_model.predict_proba(X_val)[:, 1]))\n",
    "\n",
    "plt.plot(losses_validation, label='SGDClassifier (Validation)')\n",
    "plt.plot(losses_train, label='SGDClassifier (Train)')\n",
    "print(f'Time taken for SGDClassifier: {(datetime.now() - time_then).total_seconds():.2f} seconds')\n",
    "\n",
    "plt.xlabel('Epochs')\n",
    "plt.ylabel('ROC-AUC')\n",
    "plt.title('ROC-AUC over epochs')\n",
    "plt.legend()\n",
    "plt.show()"
   ]
  },
  {
   "cell_type": "markdown",
   "metadata": {
    "id": "gxyini7Wv5AX"
   },
   "source": [
    "Теперь возьмите `sklearn.linear_model.SGDClassifier` иобучите на тех же данных. Не забудьте вытащить историю функции потерь"
   ]
  },
  {
   "cell_type": "markdown",
   "metadata": {
    "id": "bEXHU0Fcv66l"
   },
   "source": [
    "Покажите на одном графике изменение функции потерь для бустинга и SGD классификатора. Сравните следующие детали у бустинга и линейной модели:\n",
    "\n",
    "- время обучения\n",
    "- сходимость (как быстро, как стабильно и прочее)\n",
    "- графики функции потерь на трейне и на валидации"
   ]
  },
  {
   "cell_type": "markdown",
   "metadata": {
    "id": "Sk6UUnfEwNye"
   },
   "source": [
    "<font color='plum'>**Вопрос:** Какой вывод вы можете сделать?</font>\n",
    "\n",
    "<font color='plum'>**Ответ:** ...</font>"
   ]
  },
  {
   "cell_type": "markdown",
   "metadata": {
    "id": "A0mRuav_oUyV"
   },
   "source": [
    "### 2.2. Бутстрап (0.5 балла)\n",
    "Как известно, при обучении базовых алгоритмов в беггинге, используется бутстрапированная выборка. Звучит хайпово, почему бы не попробовать сделать то же самое в бустинге?\n",
    "\n",
    "| <font color='lightblue'>XGBoost</font> | <font color='lightgreen'>LightGBM</font> | <font color='palegoldenrod'>CatBoost</font> |\n",
    "| --- | --- | --- |\n",
    "| `subsample`, — | `subsample`, `bagging`| `subsample`, `bootstrap_type`|\n",
    "\n",
    "Вам нужно реализовать параметры:\n",
    "- `subsample: float | int = 1.0` — доля или число объектов, на которой будет обучаться базовая модель (какую часть составляет бутстрапная выборка от исходной обучающей). Соответствует бутстрапу типа `Bernoulli`. Каждый объект либо входит в подвыборку, либо нет\n",
    "- `bagging_temperature: float | int = 1.0` — веса объектов, которые попадают в выборку. Соответствует бутстрапу типа `Bayesian`. Каждый объект имеет определенный вес $t$, на который впоследствии домножается по формуле $w = (-\\log(X))^t$, где $X \\sim {U[0, 1]}$, после чего попадает в выборку. Таким образом можно сделать симуляцию повторений\n",
    "- `bootstrap_type: str | None = 'Bernoulli'` — тип бутстрапа\n",
    "\n",
    "<font color='plum'>**Вопрос:** как бутстрап может помочь в обучении с точки зрения смещения, разброса и вообще?</font>\n",
    "\n",
    "<font color='plum'>**Ответ:** уменьшит разброс </font>"
   ]
  },
  {
   "cell_type": "code",
   "execution_count": 15,
   "metadata": {
    "id": "OfZyYsEb33hM"
   },
   "outputs": [
    {
     "name": "stdout",
     "output_type": "stream",
     "text": [
      "10/100, ROC AUC: 0.9369, Loss: 0.5661, Time: 1.42\n",
      "20/100, ROC AUC: 0.9409, Loss: 0.4940, Time: 2.35\n",
      "30/100, ROC AUC: 0.9438, Loss: 0.4453, Time: 3.45\n",
      "40/100, ROC AUC: 0.9457, Loss: 0.4110, Time: 4.64\n",
      "50/100, ROC AUC: 0.9475, Loss: 0.3857, Time: 5.61\n",
      "60/100, ROC AUC: 0.9490, Loss: 0.3662, Time: 6.62\n",
      "70/100, ROC AUC: 0.9506, Loss: 0.3506, Time: 7.68\n",
      "80/100, ROC AUC: 0.9519, Loss: 0.3382, Time: 8.69\n",
      "90/100, ROC AUC: 0.9530, Loss: 0.3281, Time: 9.81\n"
     ]
    },
    {
     "data": {
      "image/png": "[encoded data removed]",
      "text/plain": [
       "<Figure size 640x480 with 1 Axes>"
      ]
     },
     "metadata": {},
     "output_type": "display_data"
    },
    {
     "name": "stdout",
     "output_type": "stream",
     "text": [
      "Train ROC-AUC 0.9538\n",
      "Valid ROC-AUC 0.9290\n",
      "Test ROC-AUC 0.9286\n"
     ]
    }
   ],
   "source": [
    "boosting = Boosting(\n",
    "    early_stopping_rounds=10,\n",
    "    n_estimators=100,\n",
    "    base_model_params={'max_depth': 3, 'min_samples_split': 10, 'min_samples_leaf': 5},\n",
    "    bagging_temperature=.5,\n",
    "    bootstrap_type='Bernoulli',\n",
    ")\n",
    "\n",
    "boosting.fit(X_train, y_train, X_val, y_val)\n",
    "boosting.plot_history()\n",
    "\n",
    "assert len(boosting.models) == boosting.n_estimators\n",
    "assert len(boosting.gammas) == boosting.n_estimators\n",
    "\n",
    "assert boosting.predict_proba(X_test).shape == (X_test.shape[0], 2)\n",
    "\n",
    "print(f'Train ROC-AUC {boosting.score(X_train, y_train):.4f}')\n",
    "print(f'Valid ROC-AUC {boosting.score(X_val, y_val):.4f}')\n",
    "print(f'Test ROC-AUC {boosting.score(X_test, y_test):.4f}')"
   ]
  },
  {
   "cell_type": "markdown",
   "metadata": {
    "id": "9QSvbPGf37Y8"
   },
   "source": [
    "### Бонус. GOSS (0.5 балла)\n",
    "\n",
    "Заметим, что во время обучения не все объекты одинаково важны. Один из вариантов это исправить — ввести какие-то веса на объекты, однако можно пойти чуть хитрее. В <font color='lightgreen'>**LightGBM**</font> придумали подход [Gradient-based One-side Sampling](https://www.microsoft.com/en-us/research/wp-content/uploads/2017/11/lightgbm.pdf)\n",
    "\n",
    "Давайте оценивать важность объектов в отдельный момент обучения нового дерева. Будем считать, какой антиградиент привносит каждый объект. Далее разобъем градиенты на 2 группы. Объекты с большими градиентами берутся все, с маленькими — только часть, по аналогии с бутстрапом, с отрицательными — выкидываются. И не забываем домножить на фактор, чтобы учесть выкинутые объекты. Подробнее в статье\n",
    "\n",
    "| <font color='lightblue'>XGBoost</font> | <font color='lightgreen'>LightGBM</font> | <font color='palegoldenrod'>CatBoost</font> |\n",
    "| --- | --- | --- |\n",
    "| — | `bagging='goss'`| `bootstrap_type='MVS'`|\n",
    "\n",
    "Параметры, которые нужно сделать:\n",
    "\n",
    "- `goss: bool | None = False` — GOSS бустинг или нет\n",
    "- `goss_k: float | int = 0.2` — доля объектов, градиенты которых будем считать большими. Все остальное — маленькими\n",
    "- `subsample: float | int = 0.3` — параметры сэмплинга для маленьких градиентов из пункта 2.1"
   ]
  },
  {
   "cell_type": "code",
   "execution_count": null,
   "metadata": {
    "id": "NRQHhAcH38yM"
   },
   "outputs": [],
   "source": [
    "# *𖣂♱𖠰𖣂↟*𖠰ᨒ↟*𖥧˚"
   ]
  },
  {
   "cell_type": "markdown",
   "metadata": {
    "id": "5FG0J-cvoUyV"
   },
   "source": [
    "### 2.3. Работа с признаками (1 балл)\n",
    "\n",
    "1. Помимо выбора случайных объектов, есть идея выбирать случайное подмножество признаков, заложенная в Random Forest. Мотивация это делать точно та же самая, что и в бутстрапировании, за это будет отвечать `rsm`\n",
    "\n",
    "2. С другой стороны, вместо того, чтобы выкидывать признаки, можно попробовать проредить их множество значений, применив бинаризацию. В идеале это стоит делать с датасетом до обучения модели, но не обязательно, можно, например, на этапе `fit`, а в `partial_fit` приходит уже квантизованный датасет. Для этого существует множество алгоритмов, мы предлагаем сделать два наиболее простых:\n",
    "\n",
    "- $\\text{Uniform}$. Значения признака $[\\min f_i, \\max f_i]$ отображаются в `nbins` отрезков одинаковой длины, которые полностью покрывают интервал\n",
    "- $\\text{Quantile}$. Тот же самый отрезок сортируется и бьется на `nbins` квантилей от 0 до 1\n",
    "\n",
    "| <font color='lightblue'>XGBoost</font> | <font color='lightgreen'>LightGBM</font> | <font color='palegoldenrod'>CatBoost</font> |\n",
    "| --- | --- | --- |\n",
    "| `colsample_bytree`, `tree_method` | `colsample_bytree`, `max_bin`| `rsm`, `quantize(...)`|\n",
    "\n",
    "Нужно добавить параметры:\n",
    "- `rsm: float | int = 1.0` — доля или число признаков, участвующих в обучении модели. Каждый признак либо входит, либо не входит в пул, на котором обучается базовый алгоритм, по аналогии с бутстрапом Бернулли\n",
    "- `quantization_type: str | None = None` — тип квантизации, если она есть\n",
    "- `nbins: int = 255` — число бинов для квантизации. Игнорируем, если тип квантизации не указан\n",
    "\n",
    "<font color='plum'>**Вопрос**: как квантизация поможет в обработке выбросов и нанов?</font>\n",
    "\n",
    "<font color='plum'>**Ответ**: ... </font>\n",
    "\n",
    "<font color='plum'>**Вопрос**: можно ли просто заполнить наны каким-то числом? Имеет ли значение, что это за число (-1, -100, -1e32)?</font>\n",
    "\n",
    "<font color='plum'>**Ответ**: ... </font>"
   ]
  },
  {
   "cell_type": "code",
   "execution_count": 16,
   "metadata": {},
   "outputs": [
    {
     "name": "stdout",
     "output_type": "stream",
     "text": [
      "10/100, ROC AUC: 0.9463, Loss: 0.5815, Time: 1.91\n",
      "20/100, ROC AUC: 0.9492, Loss: 0.5122, Time: 2.78\n",
      "30/100, ROC AUC: 0.9503, Loss: 0.4631, Time: 3.84\n",
      "Early stopping at iteration 38, best model depth: 29\n"
     ]
    },
    {
     "data": {
      "image/png": "[encoded data removed]",
      "text/plain": [
       "<Figure size 640x480 with 1 Axes>"
      ]
     },
     "metadata": {},
     "output_type": "display_data"
    },
    {
     "name": "stdout",
     "output_type": "stream",
     "text": [
      "Train ROC-AUC 0.9504\n",
      "Valid ROC-AUC 0.9261\n",
      "Test ROC-AUC 0.9271\n"
     ]
    }
   ],
   "source": [
    "boosting = Boosting(\n",
    "    early_stopping_rounds=10,\n",
    "    n_estimators=100,\n",
    "    base_model_params={'max_depth': 3, 'min_samples_split': 10, 'min_samples_leaf': 5},\n",
    "    bagging_temperature=1.0,\n",
    "    bootstrap_type='Bayesian',\n",
    "    rsm=.75,\n",
    "    quantization_type='quantile',\n",
    "    nbins=64\n",
    ")\n",
    "\n",
    "boosting.fit(X_train, y_train, X_val, y_val)\n",
    "boosting.plot_history()\n",
    "\n",
    "print(f'Train ROC-AUC {boosting.score(X_train, y_train):.4f}')\n",
    "print(f'Valid ROC-AUC {boosting.score(X_val, y_val):.4f}')\n",
    "print(f'Test ROC-AUC {boosting.score(X_test, y_test):.4f}')"
   ]
  },
  {
   "cell_type": "markdown",
   "metadata": {
    "id": "p_sfjI1poUyV"
   },
   "source": [
    "### Бонус. Квантизация (1.5 балл)\n",
    "\n",
    "В текущих имплементациях бустинга используются более сложные методы квантизации. К сожалению, способы выше страдают либо от неравноправности бинов — в каких-то объектов больше, в каких-то меньше, либо от того, что целевая переменная от бинов зависит опосредованно. Предлагается это исправить следующими способами:\n",
    "\n",
    "1. $\\text{MinEntropy}$. Это [один из методов](https://catboost.ai/docs/en/concepts/quantization), который используется для бинаризации в <font color='palegoldenrod'>**CatBoost**</font>, остальные на него очень похожи. Будем жадно набирать бины так, чтобы энтропия объектов внутри ($\\sum_{i \\in \\text{bin}} x_i\\log(x_i)$) была как можно меньше. Сделать такое разбиение руками непросто, но вам эта задача должна что-то напоминать\n",
    "   \n",
    "2. $\\text{PiecewiseEncoding}$. Это относительно свежий метод для [табличных трансформеров](https://arxiv.org/pdf/2203.05556). Суть заключается в том, что бины для квантизации будем брать не с потолка, а именно те, что нужны для разбиения таргета. (В статье делается кодирование в вектор длины $T$, где $T$ число бинов, в нашем случае это излишне, бинов можно оставить столько же, но взять лмшь закодированную по формуле часть)\n",
    "\n",
    "| <font color='lightblue'>XGBoost</font> | <font color='lightgreen'>LightGBM</font> | <font color='palegoldenrod'>CatBoost</font> |\n",
    "| --- | --- | --- |\n",
    "| — | — | `feature_border_type=\"Piecewise\"` |\n",
    "\n",
    "Нужно добавить опцию:\n",
    "\n",
    "- `'MinEntropy'` для `quantization_type` — какую квантизацию используем\n",
    "\n",
    "Реализуйте оба способа подсчета (или один, но тогда балл неполный) и сравните, удалось ли улучшить качество?"
   ]
  },
  {
   "cell_type": "code",
   "execution_count": null,
   "metadata": {
    "id": "W4l96Q1OoUyV"
   },
   "outputs": [],
   "source": [
    "# *𖣂♱𖠰𖣂↟*𖠰ᨒ↟*𖥧˚"
   ]
  },
  {
   "cell_type": "markdown",
   "metadata": {
    "id": "rVVJUN_yoUyV"
   },
   "source": [
    "### 2.4. Важность признаков (0.5 балла)\n",
    "\n",
    "Поскольку наша базовая модель — это дерево из `sklearn`, мы можем вычислить важность признака отдельно для каждого дерева и усреднить (воспользуйтесь `feature_importances_` у `DecisionTreeRegressor`), после этого нормировать значения, чтобы они суммировались в единицу (обратите внимание, что они должны быть неотрицательными — иначе вы что-то сделали не так). Разумеется, способ не единственный, если хочется, посмотрите в документации\n",
    "\n",
    "| <font color='lightblue'>XGBoost</font> | <font color='lightgreen'>LightGBM</font> | <font color='palegoldenrod'>CatBoost</font> |\n",
    "| --- | --- | --- |\n",
    "| `model.get_score()` | `lightgbm.importance()` | `model.get_feature_importance()` |\n",
    "\n",
    "Допишите к бустингу:\n",
    "- `feature_importances_` — атрибут, который возвращает важность признаков, согласно методу выше"
   ]
  },
  {
   "cell_type": "code",
   "execution_count": 17,
   "metadata": {
    "id": "MvJbIISHoUyV"
   },
   "outputs": [
    {
     "name": "stdout",
     "output_type": "stream",
     "text": [
      "10/100, ROC AUC: 0.9376, Loss: 0.5659, Time: 1.45\n",
      "20/100, ROC AUC: 0.9417, Loss: 0.4938, Time: 2.36\n",
      "30/100, ROC AUC: 0.9439, Loss: 0.4451, Time: 3.42\n",
      "40/100, ROC AUC: 0.9455, Loss: 0.4105, Time: 4.53\n",
      "50/100, ROC AUC: 0.9476, Loss: 0.3852, Time: 5.61\n",
      "60/100, ROC AUC: 0.9489, Loss: 0.3660, Time: 6.53\n",
      "70/100, ROC AUC: 0.9505, Loss: 0.3504, Time: 7.73\n",
      "80/100, ROC AUC: 0.9518, Loss: 0.3382, Time: 8.75\n",
      "90/100, ROC AUC: 0.9528, Loss: 0.3278, Time: 9.79\n"
     ]
    },
    {
     "data": {
      "image/png": "[encoded data removed]",
      "text/plain": [
       "<Figure size 640x480 with 1 Axes>"
      ]
     },
     "metadata": {},
     "output_type": "display_data"
    },
    {
     "name": "stdout",
     "output_type": "stream",
     "text": [
      "Train ROC-AUC 0.9536\n",
      "Valid ROC-AUC 0.9285\n",
      "Test ROC-AUC 0.9286\n"
     ]
    }
   ],
   "source": [
    "boosting = Boosting(\n",
    "    early_stopping_rounds=10,\n",
    "    n_estimators=100,\n",
    "    base_model_params={'max_depth': 3, 'min_samples_split': 10, 'min_samples_leaf': 5},\n",
    "    bagging_temperature=1.0,\n",
    "    bootstrap_type='Bernoulli',\n",
    "    quantization_type=None,\n",
    ")\n",
    "\n",
    "boosting.fit(X_train, y_train, X_val, y_val)\n",
    "boosting.plot_history()\n",
    "\n",
    "print(f'Train ROC-AUC {boosting.score(X_train, y_train):.4f}')\n",
    "print(f'Valid ROC-AUC {boosting.score(X_val, y_val):.4f}')\n",
    "print(f'Test ROC-AUC {boosting.score(X_test, y_test):.4f}')"
   ]
  },
  {
   "cell_type": "markdown",
   "metadata": {
    "id": "ojXppDXEoUyV"
   },
   "source": [
    "Покажите, какие признаки оказались самыми важными"
   ]
  },
  {
   "cell_type": "code",
   "execution_count": 18,
   "metadata": {
    "id": "aklJJMFOoUyV"
   },
   "outputs": [
    {
     "data": {
      "text/plain": [
       "Index([166, 164, 168, 158, 165, 142, 36, 71, 161, 163], dtype='int64')"
      ]
     },
     "execution_count": 18,
     "metadata": {},
     "output_type": "execute_result"
    }
   ],
   "source": [
    "import pandas as pd\n",
    "\n",
    "pd.DataFrame.sparse.from_spmatrix(X).columns[pd.Series(boosting.feature_importances_).sort_values(ascending=False).index[:10]]"
   ]
  },
  {
   "cell_type": "markdown",
   "metadata": {
    "id": "u9ZsXqV6oUyW"
   },
   "source": [
    "### Бонус. DART (1.5 балла)\n",
    "\n",
    "Ранее мы обсуждали, что каждый базовый алгоритм пытается исправить ошибки всего предыдущего ансамбля. Из-за этого возникает неравноправие — каждая новая модель вносит все меньший и меньший вклад. Уверенные обучатели нейросетей знают, что это может привести к переобучению. Но выход есть, и выход этот [DART](https://arxiv.org/pdf/1505.01866)!\n",
    "\n",
    "В DL есть такой вид регуляризации, как dropout, когда некоторые узлы нейросети со случайным шансом отключаются. Можно попробовать обобщить этот подход на случай бустингов и случайно выкидывать деревья из композиции во время обучения\n",
    "\n",
    "1. Выбираем, какие деревья убрать. При подсчете антиградиента берем не весь ансамбль, а только ту часть, что осталась\n",
    "2. Домножаем выходы дерева на $1/k$, где $k$ — число удаленных деревьев, чтобы учесть тот факт, что ансамбль был не весь. Тогда вклад отдельного дерева будет не настолько большим\n",
    "3. Домножаем выходы выкинутых деревьев на $k/(k+1)$, чтобы масштабы выходов примерно совпадали\n",
    "\n",
    "| <font color='lightblue'>XGBoost</font> | <font color='lightgreen'>LightGBM</font> | <font color='palegoldenrod'>CatBoost</font> |\n",
    "| --- | --- | --- |\n",
    "| `XGBClassifier(booster=\"dart\")` | `LGBMClassifier(boosting_type=\"dart\")` | — |\n",
    "\n",
    "Параметры, которые нужно добавить:\n",
    "\n",
    "- `dart: bool | None = False` — DART бустинг или нет\n",
    "- `dropout_rate: int | float = 0.05` — доля деревьев, которую выкидываем во время обучения DART"
   ]
  },
  {
   "cell_type": "code",
   "execution_count": null,
   "metadata": {
    "id": "RJHEF1odoUyW"
   },
   "outputs": [],
   "source": [
    "# *𖣂♱𖠰𖣂↟*𖠰ᨒ↟*𖥧˚"
   ]
  },
  {
   "cell_type": "markdown",
   "metadata": {
    "id": "yGiFCx4-oUyW",
    "pycharm": {
     "name": "#%% md\n"
    }
   },
   "source": [
    "------\n",
    "\n",
    "## Задание 3. Оптимизация (3.5 балла + 0.5 бонус)\n",
    "\n",
    "Теперь давайте подумаем, как же правильно применять бустинги. Нас интересует: какие бустинги вообще бывают, как их правильно тюнить, и как интерпретировать\n",
    "\n",
    "Оптимизация моделей с большим числом гиперпараметров это сложное дело. Нетрудно догадаться, что в случае, когда параметров $m$, сложность перебора в самом худшем случае будет порядка $n^m$. У бустингов, хотя на самом деле не только, эта проблема стоит особенно остро. Подумаем, как это делать умнее\n",
    "\n",
    "### 3.1. Знакомство с optuna (1 балл)\n",
    "\n",
    "Для эффективного подбора гиперпараметров существует несколько решений, основанных на байесовской оптимизации. В этом задании предлагается познакомиться с библиотекой [optuna](https://optuna.org/), которая делает перебор гиперпараметров легким и приятным, а также сохраняет всю историю экспериментов в одно место за вас\n",
    "\n",
    "Подберите на валидации оптимальные значения следующих гиперпараметров для вашей реализации бустинга:\n",
    "- `max_depth`\n",
    "- `n_estimators`\n",
    "- `learning_rate`\n",
    "- любые другие параметры, которые вам понравились\n",
    "\n",
    "Заметим, что оптуна это крайне гибкая библиотека, в которой можно реализовать абсолютно любую логику, которую пожелаете. За вас там есть лишь выбор модели. Чтобы не плодить несколько `objective`, можно слегка менять тело функции, например, добавить опциональные параметры, но шаблоном пользоваться не обязательно, как обычно\n",
    "\n",
    "Подберите диапазон параметров самостоятельно, не забывайте фиксировать сид (нет, его не нужно перебирать). Сохраните и покажите оптимальный набор параметров. Сравните графики функций потерь для оптимального и дефолтного бустингов. Покажите, какие параметры дали наибольший прирост (для этого придется почитать документацию оптуны)"
   ]
  },
  {
   "cell_type": "code",
   "execution_count": 7,
   "metadata": {},
   "outputs": [],
   "source": [
    "import optuna"
   ]
  },
  {
   "cell_type": "code",
   "execution_count": null,
   "metadata": {
    "id": "wAaz6-fFoUyW",
    "pycharm": {
     "is_executing": true,
     "name": "#%%\n"
    }
   },
   "outputs": [
    {
     "name": "stderr",
     "output_type": "stream",
     "text": [
      "[I 2025-05-26 23:35:40,480] A new study created in memory with name: no-name-562c4ffa-d0c9-4f30-a5b5-76a2752ee5fa\n"
     ]
    },
    {
     "name": "stdout",
     "output_type": "stream",
     "text": [
      "10/121, ROC AUC: 0.9627, Loss: 0.6468, Time: 3.05\n",
      "20/121, ROC AUC: 0.9637, Loss: 0.6109, Time: 3.93\n",
      "30/121, ROC AUC: 0.9642, Loss: 0.5785, Time: 5.27\n",
      "40/121, ROC AUC: 0.9645, Loss: 0.5496, Time: 6.65\n"
     ]
    },
    {
     "name": "stderr",
     "output_type": "stream",
     "text": [
      "[I 2025-05-26 23:36:01,701] Trial 0 finished with value: 0.9343906969244903 and parameters: {'max_depth': 8, 'min_samples_split': 136, 'min_samples_leaf': 34, 'learning_rate': 0.02616352118095068, 'n_estimators': 121, 'bagging_temperature': 0.3517236215012376, 'bootstrap_type': 'Bayesian', 'rsm': 0.937559153869503, 'quantization_type': 'uniform', 'nbins': 113}. Best is trial 0 with value: 0.9343906969244903.\n"
     ]
    },
    {
     "name": "stdout",
     "output_type": "stream",
     "text": [
      "Early stopping at iteration 43, best model depth: 34\n",
      "10/110, ROC AUC: 0.9677, Loss: 0.5225, Time: 2.23\n",
      "20/110, ROC AUC: 0.9696, Loss: 0.4359, Time: 3.37\n",
      "30/110, ROC AUC: 0.9708, Loss: 0.3784, Time: 4.88\n",
      "40/110, ROC AUC: 0.9720, Loss: 0.3420, Time: 6.14\n",
      "50/110, ROC AUC: 0.9729, Loss: 0.3143, Time: 7.55\n",
      "60/110, ROC AUC: 0.9738, Loss: 0.2943, Time: 8.86\n",
      "70/110, ROC AUC: 0.9745, Loss: 0.2781, Time: 10.12\n",
      "80/110, ROC AUC: 0.9752, Loss: 0.2662, Time: 11.46\n",
      "90/110, ROC AUC: 0.9758, Loss: 0.2558, Time: 13.05\n",
      "100/110, ROC AUC: 0.9764, Loss: 0.2472, Time: 14.05\n"
     ]
    },
    {
     "name": "stderr",
     "output_type": "stream",
     "text": [
      "[I 2025-05-26 23:37:37,315] Trial 1 finished with value: 0.9409701851723254 and parameters: {'max_depth': 9, 'min_samples_split': 49, 'min_samples_leaf': 42, 'learning_rate': 0.12190018548336186, 'n_estimators': 110, 'bagging_temperature': 0.7883103591448792, 'bootstrap_type': 'Bayesian', 'rsm': 0.9036952677276011, 'quantization_type': None, 'nbins': 37}. Best is trial 1 with value: 0.9409701851723254.\n"
     ]
    },
    {
     "name": "stdout",
     "output_type": "stream",
     "text": [
      "10/103, ROC AUC: 0.9658, Loss: 0.3894, Time: 2.45\n",
      "20/103, ROC AUC: 0.9691, Loss: 0.3137, Time: 3.44\n",
      "30/103, ROC AUC: 0.9709, Loss: 0.2749, Time: 4.52\n",
      "40/103, ROC AUC: 0.9722, Loss: 0.2528, Time: 5.68\n",
      "50/103, ROC AUC: 0.9731, Loss: 0.2395, Time: 7.04\n"
     ]
    },
    {
     "name": "stderr",
     "output_type": "stream",
     "text": [
      "[I 2025-05-26 23:38:05,874] Trial 2 finished with value: 0.941173723872216 and parameters: {'max_depth': 8, 'min_samples_split': 71, 'min_samples_leaf': 81, 'learning_rate': 0.3678791741269263, 'n_estimators': 103, 'bagging_temperature': 0.6325247461743592, 'bootstrap_type': 'Bayesian', 'rsm': 0.7470025699904799, 'quantization_type': 'uniform', 'nbins': 107}. Best is trial 2 with value: 0.941173723872216.\n"
     ]
    },
    {
     "name": "stdout",
     "output_type": "stream",
     "text": [
      "Early stopping at iteration 57, best model depth: 48\n",
      "10/112, ROC AUC: 0.9588, Loss: 0.6599, Time: 1.69\n",
      "20/112, ROC AUC: 0.9603, Loss: 0.6352, Time: 2.68\n"
     ]
    },
    {
     "name": "stderr",
     "output_type": "stream",
     "text": [
      "[I 2025-05-26 23:38:12,803] Trial 3 finished with value: 0.9321709278092133 and parameters: {'max_depth': 6, 'min_samples_split': 140, 'min_samples_leaf': 80, 'learning_rate': 0.021194846681330964, 'n_estimators': 112, 'bagging_temperature': 0.96903192791924, 'bootstrap_type': 'Bernoulli', 'rsm': 0.7074882299593312, 'quantization_type': None, 'nbins': 118}. Best is trial 2 with value: 0.941173723872216.\n"
     ]
    },
    {
     "name": "stdout",
     "output_type": "stream",
     "text": [
      "Early stopping at iteration 27, best model depth: 18\n",
      "10/129, ROC AUC: 0.9627, Loss: 0.6578, Time: 2.47\n",
      "20/129, ROC AUC: 0.9649, Loss: 0.6296, Time: 3.43\n"
     ]
    },
    {
     "name": "stderr",
     "output_type": "stream",
     "text": [
      "[I 2025-05-26 23:38:19,530] Trial 4 finished with value: 0.9375950346135519 and parameters: {'max_depth': 9, 'min_samples_split': 41, 'min_samples_leaf': 71, 'learning_rate': 0.02164927670432224, 'n_estimators': 129, 'bagging_temperature': 0.6780444692747701, 'bootstrap_type': 'Bayesian', 'rsm': 0.7554481728581264, 'quantization_type': 'uniform', 'nbins': 57}. Best is trial 2 with value: 0.941173723872216.\n"
     ]
    },
    {
     "name": "stdout",
     "output_type": "stream",
     "text": [
      "Early stopping at iteration 22, best model depth: 13\n",
      "10/114, ROC AUC: 0.9439, Loss: 0.6295, Time: 1.79\n",
      "20/114, ROC AUC: 0.9515, Loss: 0.5832, Time: 2.48\n",
      "30/114, ROC AUC: 0.9544, Loss: 0.5460, Time: 3.33\n",
      "40/114, ROC AUC: 0.9561, Loss: 0.5151, Time: 4.19\n",
      "50/114, ROC AUC: 0.9567, Loss: 0.4920, Time: 5.07\n",
      "60/114, ROC AUC: 0.9574, Loss: 0.4724, Time: 6.07\n",
      "70/114, ROC AUC: 0.9580, Loss: 0.4523, Time: 6.92\n",
      "80/114, ROC AUC: 0.9588, Loss: 0.4366, Time: 7.82\n"
     ]
    },
    {
     "name": "stderr",
     "output_type": "stream",
     "text": [
      "[I 2025-05-26 23:39:04,073] Trial 5 finished with value: 0.9328198570759231 and parameters: {'max_depth': 4, 'min_samples_split': 199, 'min_samples_leaf': 40, 'learning_rate': 0.04955989531641226, 'n_estimators': 114, 'bagging_temperature': 0.8425279121778019, 'bootstrap_type': 'Bernoulli', 'rsm': 0.5566828043284698, 'quantization_type': 'quantile', 'nbins': 83}. Best is trial 2 with value: 0.941173723872216.\n"
     ]
    },
    {
     "name": "stdout",
     "output_type": "stream",
     "text": [
      "Early stopping at iteration 88, best model depth: 79\n",
      "10/129, ROC AUC: 0.9547, Loss: 0.6639, Time: 1.95\n",
      "20/129, ROC AUC: 0.9573, Loss: 0.6410, Time: 2.74\n",
      "30/129, ROC AUC: 0.9581, Loss: 0.6198, Time: 3.76\n",
      "40/129, ROC AUC: 0.9585, Loss: 0.6011, Time: 4.75\n"
     ]
    },
    {
     "name": "stderr",
     "output_type": "stream",
     "text": [
      "[I 2025-05-26 23:39:20,687] Trial 6 finished with value: 0.9325420866148959 and parameters: {'max_depth': 5, 'min_samples_split': 77, 'min_samples_leaf': 97, 'learning_rate': 0.019652708384855114, 'n_estimators': 129, 'bagging_temperature': 0.8074605883213063, 'bootstrap_type': 'Bayesian', 'rsm': 0.6594002876046128, 'quantization_type': 'quantile', 'nbins': 98}. Best is trial 2 with value: 0.941173723872216.\n"
     ]
    },
    {
     "name": "stdout",
     "output_type": "stream",
     "text": [
      "Early stopping at iteration 46, best model depth: 37\n",
      "10/114, ROC AUC: 0.9526, Loss: 0.4965, Time: 2.27\n",
      "20/114, ROC AUC: 0.9557, Loss: 0.4127, Time: 3.23\n",
      "30/114, ROC AUC: 0.9579, Loss: 0.3637, Time: 4.32\n",
      "40/114, ROC AUC: 0.9602, Loss: 0.3364, Time: 5.44\n",
      "50/114, ROC AUC: 0.9617, Loss: 0.3153, Time: 6.56\n",
      "60/114, ROC AUC: 0.9629, Loss: 0.3000, Time: 7.56\n",
      "70/114, ROC AUC: 0.9639, Loss: 0.2872, Time: 8.80\n",
      "80/114, ROC AUC: 0.9649, Loss: 0.2781, Time: 9.53\n",
      "90/114, ROC AUC: 0.9657, Loss: 0.2704, Time: 10.70\n",
      "100/114, ROC AUC: 0.9665, Loss: 0.2639, Time: 11.66\n",
      "110/114, ROC AUC: 0.9671, Loss: 0.2582, Time: 12.81\n"
     ]
    },
    {
     "name": "stderr",
     "output_type": "stream",
     "text": [
      "[I 2025-05-26 23:40:47,686] Trial 7 finished with value: 0.9386725924365019 and parameters: {'max_depth': 4, 'min_samples_split': 181, 'min_samples_leaf': 4, 'learning_rate': 0.1861906876600295, 'n_estimators': 114, 'bagging_temperature': 0.6246081964215087, 'bootstrap_type': 'Bernoulli', 'rsm': 0.734944979087248, 'quantization_type': 'uniform', 'nbins': 80}. Best is trial 2 with value: 0.941173723872216.\n"
     ]
    },
    {
     "name": "stdout",
     "output_type": "stream",
     "text": [
      "10/127, ROC AUC: 0.9488, Loss: 0.4470, Time: 1.25\n",
      "20/127, ROC AUC: 0.9548, Loss: 0.3663, Time: 2.11\n",
      "30/127, ROC AUC: 0.9578, Loss: 0.3315, Time: 2.81\n",
      "40/127, ROC AUC: 0.9599, Loss: 0.3060, Time: 3.60\n",
      "50/127, ROC AUC: 0.9617, Loss: 0.2899, Time: 4.40\n",
      "60/127, ROC AUC: 0.9634, Loss: 0.2774, Time: 5.23\n",
      "70/127, ROC AUC: 0.9644, Loss: 0.2662, Time: 6.05\n",
      "80/127, ROC AUC: 0.9656, Loss: 0.2583, Time: 6.75\n",
      "90/127, ROC AUC: 0.9667, Loss: 0.2527, Time: 7.57\n",
      "100/127, ROC AUC: 0.9672, Loss: 0.2467, Time: 8.42\n",
      "110/127, ROC AUC: 0.9679, Loss: 0.2420, Time: 9.29\n",
      "120/127, ROC AUC: 0.9685, Loss: 0.2383, Time: 9.91\n"
     ]
    },
    {
     "name": "stderr",
     "output_type": "stream",
     "text": [
      "[I 2025-05-26 23:42:01,524] Trial 8 finished with value: 0.9410408250740523 and parameters: {'max_depth': 3, 'min_samples_split': 6, 'min_samples_leaf': 8, 'learning_rate': 0.37950457096458395, 'n_estimators': 127, 'bagging_temperature': 0.21514389972176473, 'bootstrap_type': 'Bernoulli', 'rsm': 0.5073521706846871, 'quantization_type': None, 'nbins': 75}. Best is trial 2 with value: 0.941173723872216.\n"
     ]
    },
    {
     "name": "stdout",
     "output_type": "stream",
     "text": [
      "10/142, ROC AUC: 0.9441, Loss: 0.6792, Time: 1.97\n"
     ]
    },
    {
     "name": "stderr",
     "output_type": "stream",
     "text": [
      "[I 2025-05-26 23:42:04,585] Trial 9 finished with value: 0.9199977171737973 and parameters: {'max_depth': 3, 'min_samples_split': 81, 'min_samples_leaf': 40, 'learning_rate': 0.010445818367933487, 'n_estimators': 142, 'bagging_temperature': 0.8646947237440586, 'bootstrap_type': 'Bernoulli', 'rsm': 0.7512004217358914, 'quantization_type': 'quantile', 'nbins': 47}. Best is trial 2 with value: 0.941173723872216.\n"
     ]
    },
    {
     "name": "stdout",
     "output_type": "stream",
     "text": [
      "Early stopping at iteration 14, best model depth: 5\n",
      "10/92, ROC AUC: 0.9624, Loss: 0.3954, Time: 2.59\n",
      "20/92, ROC AUC: 0.9678, Loss: 0.3053, Time: 3.59\n",
      "30/92, ROC AUC: 0.9703, Loss: 0.2683, Time: 4.73\n",
      "40/92, ROC AUC: 0.9720, Loss: 0.2466, Time: 5.97\n",
      "50/92, ROC AUC: 0.9732, Loss: 0.2343, Time: 7.18\n",
      "60/92, ROC AUC: 0.9742, Loss: 0.2251, Time: 8.46\n",
      "70/92, ROC AUC: 0.9749, Loss: 0.2181, Time: 9.72\n",
      "80/92, ROC AUC: 0.9756, Loss: 0.2122, Time: 10.79\n",
      "90/92, ROC AUC: 0.9763, Loss: 0.2074, Time: 12.07\n"
     ]
    },
    {
     "name": "stderr",
     "output_type": "stream",
     "text": [
      "[I 2025-05-26 23:43:11,097] Trial 10 finished with value: 0.9422436988808565 and parameters: {'max_depth': 7, 'min_samples_split': 118, 'min_samples_leaf': 66, 'learning_rate': 0.4003664937576365, 'n_estimators': 92, 'bagging_temperature': 0.45094473353202724, 'bootstrap_type': 'Bayesian', 'rsm': 0.8239046285390297, 'quantization_type': 'uniform', 'nbins': 126}. Best is trial 10 with value: 0.9422436988808565.\n"
     ]
    },
    {
     "name": "stdout",
     "output_type": "stream",
     "text": [
      "10/88, ROC AUC: 0.9663, Loss: 0.3719, Time: 2.64\n",
      "20/88, ROC AUC: 0.9690, Loss: 0.2928, Time: 3.73\n",
      "30/88, ROC AUC: 0.9711, Loss: 0.2605, Time: 5.00\n",
      "40/88, ROC AUC: 0.9729, Loss: 0.2406, Time: 6.17\n",
      "50/88, ROC AUC: 0.9739, Loss: 0.2288, Time: 7.40\n",
      "60/88, ROC AUC: 0.9748, Loss: 0.2202, Time: 8.65\n",
      "70/88, ROC AUC: 0.9756, Loss: 0.2133, Time: 9.69\n",
      "80/88, ROC AUC: 0.9762, Loss: 0.2077, Time: 10.95\n"
     ]
    },
    {
     "name": "stderr",
     "output_type": "stream",
     "text": [
      "[I 2025-05-26 23:44:13,821] Trial 11 finished with value: 0.9420804688254539 and parameters: {'max_depth': 7, 'min_samples_split': 120, 'min_samples_leaf': 67, 'learning_rate': 0.4475491808208621, 'n_estimators': 88, 'bagging_temperature': 0.4419805514519093, 'bootstrap_type': 'Bayesian', 'rsm': 0.8370851234840537, 'quantization_type': 'uniform', 'nbins': 128}. Best is trial 10 with value: 0.9422436988808565.\n"
     ]
    },
    {
     "name": "stdout",
     "output_type": "stream",
     "text": [
      "10/82, ROC AUC: 0.9656, Loss: 0.3410, Time: 2.72\n",
      "20/82, ROC AUC: 0.9693, Loss: 0.2747, Time: 3.70\n",
      "30/82, ROC AUC: 0.9721, Loss: 0.2464, Time: 5.05\n",
      "40/82, ROC AUC: 0.9735, Loss: 0.2301, Time: 6.34\n",
      "50/82, ROC AUC: 0.9749, Loss: 0.2192, Time: 7.57\n",
      "60/82, ROC AUC: 0.9759, Loss: 0.2115, Time: 8.64\n",
      "70/82, ROC AUC: 0.9767, Loss: 0.2054, Time: 9.89\n",
      "80/82, ROC AUC: 0.9773, Loss: 0.2009, Time: 11.08\n"
     ]
    },
    {
     "name": "stderr",
     "output_type": "stream",
     "text": [
      "[I 2025-05-26 23:45:10,105] Trial 12 finished with value: 0.94281719909996 and parameters: {'max_depth': 7, 'min_samples_split': 128, 'min_samples_leaf': 60, 'learning_rate': 0.4955567251220977, 'n_estimators': 82, 'bagging_temperature': 0.3892686755730589, 'bootstrap_type': 'Bayesian', 'rsm': 0.8520663805727804, 'quantization_type': 'uniform', 'nbins': 128}. Best is trial 12 with value: 0.94281719909996.\n"
     ]
    },
    {
     "name": "stdout",
     "output_type": "stream",
     "text": [
      "10/80, ROC AUC: 0.9615, Loss: 0.4747, Time: 2.55\n",
      "20/80, ROC AUC: 0.9635, Loss: 0.3861, Time: 3.76\n",
      "30/80, ROC AUC: 0.9652, Loss: 0.3380, Time: 5.10\n",
      "40/80, ROC AUC: 0.9664, Loss: 0.3085, Time: 6.23\n",
      "50/80, ROC AUC: 0.9676, Loss: 0.2876, Time: 7.46\n",
      "60/80, ROC AUC: 0.9686, Loss: 0.2731, Time: 8.53\n",
      "70/80, ROC AUC: 0.9696, Loss: 0.2613, Time: 9.79\n"
     ]
    },
    {
     "name": "stderr",
     "output_type": "stream",
     "text": [
      "[I 2025-05-26 23:46:03,470] Trial 13 finished with value: 0.9402138992188106 and parameters: {'max_depth': 6, 'min_samples_split': 161, 'min_samples_leaf': 55, 'learning_rate': 0.19759484280586384, 'n_estimators': 80, 'bagging_temperature': 0.10705174557400077, 'bootstrap_type': 'Bayesian', 'rsm': 0.8500376810883867, 'quantization_type': 'uniform', 'nbins': 128}. Best is trial 12 with value: 0.94281719909996.\n"
     ]
    },
    {
     "name": "stdout",
     "output_type": "stream",
     "text": [
      "10/95, ROC AUC: 0.9666, Loss: 0.4383, Time: 2.99\n",
      "20/95, ROC AUC: 0.9687, Loss: 0.3490, Time: 4.29\n",
      "30/95, ROC AUC: 0.9710, Loss: 0.3027, Time: 5.71\n",
      "40/95, ROC AUC: 0.9726, Loss: 0.2756, Time: 7.16\n",
      "50/95, ROC AUC: 0.9740, Loss: 0.2562, Time: 8.65\n",
      "60/95, ROC AUC: 0.9751, Loss: 0.2424, Time: 9.90\n"
     ]
    },
    {
     "name": "stderr",
     "output_type": "stream",
     "text": [
      "[I 2025-05-26 23:46:46,760] Trial 14 finished with value: 0.9401300891659143 and parameters: {'max_depth': 10, 'min_samples_split': 106, 'min_samples_leaf': 58, 'learning_rate': 0.22155716994181618, 'n_estimators': 95, 'bagging_temperature': 0.4564371793224357, 'bootstrap_type': 'Bayesian', 'rsm': 0.9749349981973767, 'quantization_type': 'uniform', 'nbins': 98}. Best is trial 12 with value: 0.94281719909996.\n"
     ]
    },
    {
     "name": "stdout",
     "output_type": "stream",
     "text": [
      "Early stopping at iteration 64, best model depth: 55\n",
      "10/80, ROC AUC: 0.9629, Loss: 0.5903, Time: 2.68\n",
      "20/80, ROC AUC: 0.9651, Loss: 0.5215, Time: 3.82\n",
      "30/80, ROC AUC: 0.9658, Loss: 0.4656, Time: 4.81\n",
      "40/80, ROC AUC: 0.9665, Loss: 0.4248, Time: 6.30\n",
      "50/80, ROC AUC: 0.9672, Loss: 0.3945, Time: 7.58\n",
      "60/80, ROC AUC: 0.9680, Loss: 0.3713, Time: 8.64\n",
      "70/80, ROC AUC: 0.9686, Loss: 0.3516, Time: 9.82\n"
     ]
    },
    {
     "name": "stderr",
     "output_type": "stream",
     "text": [
      "[I 2025-05-26 23:47:40,510] Trial 15 finished with value: 0.9386043471077149 and parameters: {'max_depth': 7, 'min_samples_split': 152, 'min_samples_leaf': 24, 'learning_rate': 0.0717375706795875, 'n_estimators': 80, 'bagging_temperature': 0.3514898897892161, 'bootstrap_type': 'Bayesian', 'rsm': 0.8452764263882138, 'quantization_type': 'uniform', 'nbins': 98}. Best is trial 12 with value: 0.94281719909996.\n"
     ]
    },
    {
     "name": "stdout",
     "output_type": "stream",
     "text": [
      "10/94, ROC AUC: 0.9634, Loss: 0.4117, Time: 2.62\n",
      "20/94, ROC AUC: 0.9657, Loss: 0.3280, Time: 3.79\n",
      "30/94, ROC AUC: 0.9683, Loss: 0.2887, Time: 4.85\n",
      "40/94, ROC AUC: 0.9700, Loss: 0.2660, Time: 6.12\n",
      "50/94, ROC AUC: 0.9711, Loss: 0.2512, Time: 7.31\n",
      "60/94, ROC AUC: 0.9722, Loss: 0.2400, Time: 8.51\n",
      "70/94, ROC AUC: 0.9730, Loss: 0.2321, Time: 9.74\n",
      "80/94, ROC AUC: 0.9737, Loss: 0.2252, Time: 10.87\n",
      "90/94, ROC AUC: 0.9743, Loss: 0.2201, Time: 12.16\n"
     ]
    },
    {
     "name": "stderr",
     "output_type": "stream",
     "text": [
      "[I 2025-05-26 23:48:50,478] Trial 16 finished with value: 0.9417288656987803 and parameters: {'max_depth': 8, 'min_samples_split': 112, 'min_samples_leaf': 97, 'learning_rate': 0.290716581712832, 'n_estimators': 94, 'bagging_temperature': 0.5315989022840282, 'bootstrap_type': 'Bayesian', 'rsm': 0.8256910945747181, 'quantization_type': 'uniform', 'nbins': 119}. Best is trial 12 with value: 0.94281719909996.\n"
     ]
    },
    {
     "name": "stdout",
     "output_type": "stream",
     "text": [
      "10/91, ROC AUC: 0.9534, Loss: 0.5318, Time: 2.51\n",
      "20/91, ROC AUC: 0.9557, Loss: 0.4495, Time: 3.69\n",
      "30/91, ROC AUC: 0.9581, Loss: 0.3984, Time: 4.96\n",
      "40/91, ROC AUC: 0.9599, Loss: 0.3642, Time: 6.40\n",
      "50/91, ROC AUC: 0.9609, Loss: 0.3398, Time: 7.60\n",
      "60/91, ROC AUC: 0.9620, Loss: 0.3210, Time: 9.07\n",
      "70/91, ROC AUC: 0.9629, Loss: 0.3070, Time: 10.06\n",
      "80/91, ROC AUC: 0.9638, Loss: 0.2953, Time: 11.35\n"
     ]
    },
    {
     "name": "stderr",
     "output_type": "stream",
     "text": [
      "[I 2025-05-26 23:49:58,824] Trial 17 finished with value: 0.9364332676422156 and parameters: {'max_depth': 5, 'min_samples_split': 127, 'min_samples_leaf': 64, 'learning_rate': 0.12332314702018353, 'n_estimators': 91, 'bagging_temperature': 0.28363283371965164, 'bootstrap_type': 'Bayesian', 'rsm': 0.8973395158164096, 'quantization_type': 'uniform', 'nbins': 65}. Best is trial 12 with value: 0.94281719909996.\n"
     ]
    },
    {
     "name": "stdout",
     "output_type": "stream",
     "text": [
      "90/91, ROC AUC: 0.9644, Loss: 0.2860, Time: 12.59\n",
      "10/102, ROC AUC: 0.9617, Loss: 0.5548, Time: 1.66\n",
      "20/102, ROC AUC: 0.9627, Loss: 0.4756, Time: 2.57\n",
      "30/102, ROC AUC: 0.9648, Loss: 0.4254, Time: 3.63\n",
      "40/102, ROC AUC: 0.9655, Loss: 0.3851, Time: 4.85\n",
      "50/102, ROC AUC: 0.9664, Loss: 0.3567, Time: 5.76\n",
      "60/102, ROC AUC: 0.9673, Loss: 0.3366, Time: 6.83\n",
      "70/102, ROC AUC: 0.9681, Loss: 0.3218, Time: 7.89\n",
      "80/102, ROC AUC: 0.9687, Loss: 0.3097, Time: 8.90\n",
      "90/102, ROC AUC: 0.9691, Loss: 0.2975, Time: 9.89\n",
      "100/102, ROC AUC: 0.9696, Loss: 0.2877, Time: 11.09\n"
     ]
    },
    {
     "name": "stderr",
     "output_type": "stream",
     "text": [
      "[I 2025-05-26 23:51:03,114] Trial 18 finished with value: 0.940570690586854 and parameters: {'max_depth': 7, 'min_samples_split': 94, 'min_samples_leaf': 80, 'learning_rate': 0.10480541319951073, 'n_estimators': 102, 'bagging_temperature': 0.503143779867038, 'bootstrap_type': 'Bayesian', 'rsm': 0.6582833288193688, 'quantization_type': None, 'nbins': 88}. Best is trial 12 with value: 0.94281719909996.\n"
     ]
    },
    {
     "name": "stdout",
     "output_type": "stream",
     "text": [
      "10/86, ROC AUC: 0.9626, Loss: 0.3406, Time: 2.58\n",
      "20/86, ROC AUC: 0.9675, Loss: 0.2780, Time: 3.89\n",
      "30/86, ROC AUC: 0.9701, Loss: 0.2509, Time: 5.33\n",
      "40/86, ROC AUC: 0.9717, Loss: 0.2354, Time: 6.74\n",
      "50/86, ROC AUC: 0.9732, Loss: 0.2251, Time: 8.27\n",
      "60/86, ROC AUC: 0.9743, Loss: 0.2172, Time: 9.51\n",
      "70/86, ROC AUC: 0.9752, Loss: 0.2113, Time: 10.99\n",
      "80/86, ROC AUC: 0.9761, Loss: 0.2060, Time: 12.37\n"
     ]
    },
    {
     "name": "stderr",
     "output_type": "stream",
     "text": [
      "[I 2025-05-26 23:52:09,568] Trial 19 finished with value: 0.9423921624031294 and parameters: {'max_depth': 6, 'min_samples_split': 176, 'min_samples_leaf': 52, 'learning_rate': 0.4970473275558212, 'n_estimators': 86, 'bagging_temperature': 0.18890800096901367, 'bootstrap_type': 'Bayesian', 'rsm': 0.9914308465127428, 'quantization_type': 'quantile', 'nbins': 106}. Best is trial 12 with value: 0.94281719909996.\n"
     ]
    }
   ],
   "source": [
    "def objective(trial):\n",
    "    # параметры, общие для всех бустингов\n",
    "    common_params = {\n",
    "        'max_depth': trial.suggest_int('max_depth', 3, 10),\n",
    "        'min_samples_split': trial.suggest_int('min_samples_split', 2, 200),\n",
    "        'min_samples_leaf': trial.suggest_int('min_samples_leaf', 1, 100)\n",
    "        }\n",
    "    # параметры для конкретной имплементации бустинга\n",
    "    optional_params = {\n",
    "        'learning_rate': trial.suggest_loguniform('learning_rate', 1e-2, 5e-1),\n",
    "        'n_estimators': trial.suggest_int('n_estimators', 80, 150),\n",
    "        'bagging_temperature': trial.suggest_float('bagging_temperature', 0.1, 1.0),\n",
    "        'bootstrap_type': trial.suggest_categorical('bootstrap_type', ['Bernoulli', 'Bayesian']),\n",
    "        'rsm': trial.suggest_float('rsm', 0.5, 1.0),\n",
    "        'quantization_type': trial.suggest_categorical('quantization_type', [None, 'uniform', 'quantile']),\n",
    "        'nbins': trial.suggest_int('nbins', 32, 128)\n",
    "    }\n",
    "    boosting = Boosting(\n",
    "        early_stopping_rounds=10,\n",
    "        base_model_params=common_params,\n",
    "        **optional_params\n",
    "    )\n",
    "    boosting.fit(X_train, y_train, X_val, y_val)\n",
    "    return boosting.score(X_val, y_val)\n",
    "\n",
    "study = optuna.create_study(direction='maximize', sampler=optuna.samplers.TPESampler(seed=42))\n",
    "study.optimize(objective, n_trials=20)"
   ]
  },
  {
   "cell_type": "code",
   "execution_count": 14,
   "metadata": {},
   "outputs": [
    {
     "name": "stdout",
     "output_type": "stream",
     "text": [
      "Best params: {'max_depth': 7, 'min_samples_split': 128, 'min_samples_leaf': 60, 'learning_rate': 0.4955567251220977, 'n_estimators': 82, 'bagging_temperature': 0.3892686755730589, 'bootstrap_type': 'Bayesian', 'rsm': 0.8520663805727804, 'quantization_type': 'uniform', 'nbins': 128}\n",
      "Best validation ROC AUC: 0.94281719909996\n",
      "Hyperparameter importances: {'learning_rate': np.float64(0.3980827702410114), 'bagging_temperature': np.float64(0.23419374919222155), 'n_estimators': np.float64(0.1652558898955015), 'max_depth': np.float64(0.11094041126734427), 'quantization_type': np.float64(0.044348514347173955), 'nbins': np.float64(0.02479487801344436), 'rsm': np.float64(0.010600921882581065), 'min_samples_split': np.float64(0.0070137875214170385), 'min_samples_leaf': np.float64(0.003459181646764299), 'bootstrap_type': np.float64(0.0013098959925407234)}\n",
      "10/82, ROC AUC: 0.9664, Loss: 0.3427, Time: 2.55\n",
      "20/82, ROC AUC: 0.9705, Loss: 0.2756, Time: 3.64\n",
      "30/82, ROC AUC: 0.9723, Loss: 0.2472, Time: 4.99\n",
      "40/82, ROC AUC: 0.9738, Loss: 0.2308, Time: 6.04\n",
      "50/82, ROC AUC: 0.9750, Loss: 0.2198, Time: 7.26\n",
      "60/82, ROC AUC: 0.9761, Loss: 0.2112, Time: 8.57\n",
      "70/82, ROC AUC: 0.9769, Loss: 0.2055, Time: 9.95\n",
      "80/82, ROC AUC: 0.9775, Loss: 0.2009, Time: 11.25\n"
     ]
    },
    {
     "data": {
      "image/png": "[encoded data removed]",
      "text/plain": [
       "<Figure size 640x480 with 1 Axes>"
      ]
     },
     "metadata": {},
     "output_type": "display_data"
    }
   ],
   "source": [
    "print(\"Best params:\", study.best_params)\n",
    "print(\"Best validation ROC AUC:\", study.best_value)\n",
    "\n",
    "# 2. Важность гиперпараметров\n",
    "from optuna.importance import get_param_importances\n",
    "\n",
    "param_importances = get_param_importances(study)\n",
    "print(\"Hyperparameter importances:\", param_importances)\n",
    "\n",
    "# 3. Сравнение loss-функции для дефолтного и оптимального бустинга\n",
    "import matplotlib.pyplot as plt\n",
    "\n",
    "# дефолтный бустинг\n",
    "default_boost = Boosting(early_stopping_rounds=10)\n",
    "default_boost.fit(X_train, y_train, X_val, y_val)\n",
    "hist_def = default_boost.history[\"validation_loss\"]\n",
    "\n",
    "# бустинг с лучшими параметрами\n",
    "base_model_params_best = {\n",
    "    'max_depth': study.best_params['max_depth'],\n",
    "    'min_samples_split': study.best_params['min_samples_split'],\n",
    "    'min_samples_leaf': study.best_params['min_samples_leaf']\n",
    "}\n",
    "optional_params_best = {\n",
    "    'learning_rate': study.best_params['learning_rate'],\n",
    "    'n_estimators': study.best_params['n_estimators'],\n",
    "    'bagging_temperature': study.best_params['bagging_temperature'],\n",
    "    'bootstrap_type': study.best_params['bootstrap_type'],\n",
    "    'rsm': study.best_params['rsm'],\n",
    "    'quantization_type': study.best_params['quantization_type'],\n",
    "    'nbins': study.best_params['nbins']\n",
    "}\n",
    "best_boost = Boosting(early_stopping_rounds=10, base_model_params=base_model_params_best, **optional_params_best)\n",
    "best_boost.fit(X_train, y_train, X_val, y_val)\n",
    "hist_best = best_boost.history[\"validation_loss\"]\n",
    "\n",
    "plt.plot(hist_def, label=\"default\")\n",
    "plt.plot(hist_best, label=\"optuna-best\")\n",
    "plt.xlabel(\"Iteration\")\n",
    "plt.ylabel(\"Validation Loss\")\n",
    "plt.legend()\n",
    "plt.show()\n"
   ]
  },
  {
   "cell_type": "markdown",
   "metadata": {
    "id": "7HgegfY_oUyW"
   },
   "source": [
    "### 3.2. Глубокая оптимизация (1 балл)\n",
    "\n",
    "Помимо эффективного перебора гиперпараметров, `optuna` предлагает более тонкий контроль над самой процедурой обучения. Улучшите процедуру оптимизации следующим образом:\n",
    "\n",
    "1. Посмотрите, как в `optuna` устроена запись в хранилища, и добавьте это в пайплайн оптимизации. Без указания БД все запуски оптуны сотрутся, как только закончится сессия. Более того, так можно распараллелить процесс оптимизации на несколько машин\n",
    "2. Посмотрите, как можно контролировать процесс обучения бустинга при помощи прунера. У библиотечных имплементаций есть уже готовые, их можно использовать пунктом ниже. Для кастомной модели возьмите что-то из `optuna.pruners`. Идея прунера — не обучать бустинг до конца, если по истории видно, что другие бустинги на этом этапе статистически лучше.\n",
    "3. Добавьте сохранение истории функции потерь и времени обучения в качестве `user_attribute` сразу в `study`. Мы не хотим оптимизировать их напрямую, но они нам понадобится для сравнения моделей в дальнейшем\n",
    "\n",
    "Добавьте хранилище и юзер атрибуты и посмотрите, ускорилась ли оптимизация с добавлением прунера"
   ]
  },
  {
   "cell_type": "code",
   "execution_count": 22,
   "metadata": {
    "id": "pUHcAqkioUyW"
   },
   "outputs": [
    {
     "name": "stderr",
     "output_type": "stream",
     "text": [
      "[I 2025-05-27 00:54:06,876] A new study created in RDB with name: boosting_optimization\n"
     ]
    },
    {
     "name": "stdout",
     "output_type": "stream",
     "text": [
      "10/91, ROC AUC: 0.9584, Loss: 0.4576, Time: 2.32\n",
      "20/91, ROC AUC: 0.9606, Loss: 0.3704, Time: 3.22\n",
      "30/91, ROC AUC: 0.9624, Loss: 0.3248, Time: 4.69\n",
      "40/91, ROC AUC: 0.9641, Loss: 0.2995, Time: 5.87\n",
      "50/91, ROC AUC: 0.9654, Loss: 0.2831, Time: 7.34\n",
      "60/91, ROC AUC: 0.9664, Loss: 0.2694, Time: 8.07\n",
      "70/91, ROC AUC: 0.9673, Loss: 0.2602, Time: 9.16\n",
      "80/91, ROC AUC: 0.9682, Loss: 0.2521, Time: 10.57\n"
     ]
    },
    {
     "name": "stderr",
     "output_type": "stream",
     "text": [
      "[I 2025-05-27 00:55:09,567] Trial 0 finished with value: 0.9393614312522099 and parameters: {'max_depth': 5, 'min_samples_split': 191, 'min_samples_leaf': 74, 'learning_rate': 0.2385234757844708, 'n_estimators': 91, 'bagging_temperature': 0.2403950683025824, 'bootstrap_type': 'Bayesian', 'rsm': 0.8005575058716043, 'quantization_type': 'quantile', 'nbins': 112}. Best is trial 0 with value: 0.9393614312522099.\n"
     ]
    },
    {
     "name": "stdout",
     "output_type": "stream",
     "text": [
      "90/91, ROC AUC: 0.9690, Loss: 0.2460, Time: 11.32\n",
      "10/117, ROC AUC: 0.9516, Loss: 0.6341, Time: 1.78\n"
     ]
    },
    {
     "name": "stderr",
     "output_type": "stream",
     "text": [
      "[I 2025-05-27 00:55:13,625] Trial 1 finished with value: 0.9267057141694065 and parameters: {'max_depth': 4, 'min_samples_split': 38, 'min_samples_leaf': 19, 'learning_rate': 0.05012686302434878, 'n_estimators': 117, 'bagging_temperature': 0.4887505167779042, 'bootstrap_type': 'Bayesian', 'rsm': 0.569746930326021, 'quantization_type': 'quantile', 'nbins': 108}. Best is trial 0 with value: 0.9393614312522099.\n"
     ]
    },
    {
     "name": "stdout",
     "output_type": "stream",
     "text": [
      "Early stopping at iteration 19, best model depth: 10\n",
      "10/123, ROC AUC: 0.9411, Loss: 0.6720, Time: 2.07\n",
      "20/123, ROC AUC: 0.9437, Loss: 0.6542, Time: 3.34\n",
      "30/123, ROC AUC: 0.9444, Loss: 0.6372, Time: 4.84\n",
      "40/123, ROC AUC: 0.9443, Loss: 0.6213, Time: 6.30\n",
      "50/123, ROC AUC: 0.9450, Loss: 0.6064, Time: 7.80\n",
      "60/123, ROC AUC: 0.9452, Loss: 0.5923, Time: 9.11\n",
      "70/123, ROC AUC: 0.9455, Loss: 0.5790, Time: 10.47\n",
      "80/123, ROC AUC: 0.9460, Loss: 0.5664, Time: 11.87\n",
      "90/123, ROC AUC: 0.9464, Loss: 0.5545, Time: 13.33\n",
      "100/123, ROC AUC: 0.9468, Loss: 0.5433, Time: 14.78\n",
      "110/123, ROC AUC: 0.9474, Loss: 0.5327, Time: 16.18\n",
      "120/123, ROC AUC: 0.9480, Loss: 0.5226, Time: 17.54\n"
     ]
    },
    {
     "name": "stderr",
     "output_type": "stream",
     "text": [
      "[I 2025-05-27 00:57:15,339] Trial 2 finished with value: 0.923114253855063 and parameters: {'max_depth': 4, 'min_samples_split': 104, 'min_samples_leaf': 60, 'learning_rate': 0.012790390175145836, 'n_estimators': 123, 'bagging_temperature': 0.2534717113185624, 'bootstrap_type': 'Bayesian', 'rsm': 0.9828160165372797, 'quantization_type': None, 'nbins': 98}. Best is trial 0 with value: 0.9393614312522099.\n"
     ]
    },
    {
     "name": "stdout",
     "output_type": "stream",
     "text": [
      "10/144, ROC AUC: 0.9592, Loss: 0.6748, Time: 2.15\n"
     ]
    },
    {
     "name": "stderr",
     "output_type": "stream",
     "text": [
      "[I 2025-05-27 00:57:19,662] Trial 3 finished with value: 0.9324686530447395 and parameters: {'max_depth': 6, 'min_samples_split': 26, 'min_samples_leaf': 50, 'learning_rate': 0.011998556988857207, 'n_estimators': 144, 'bagging_temperature': 0.33290198344001526, 'bootstrap_type': 'Bernoulli', 'rsm': 0.7600340105889054, 'quantization_type': 'quantile', 'nbins': 107}. Best is trial 0 with value: 0.9393614312522099.\n"
     ]
    },
    {
     "name": "stdout",
     "output_type": "stream",
     "text": [
      "Early stopping at iteration 17, best model depth: 8\n",
      "10/86, ROC AUC: 0.9724, Loss: 0.2538, Time: 2.44\n",
      "20/86, ROC AUC: 0.9761, Loss: 0.2156, Time: 3.29\n",
      "30/86, ROC AUC: 0.9783, Loss: 0.1976, Time: 4.25\n",
      "40/86, ROC AUC: 0.9799, Loss: 0.1870, Time: 5.42\n",
      "50/86, ROC AUC: 0.9809, Loss: 0.1800, Time: 6.57\n"
     ]
    },
    {
     "name": "stderr",
     "output_type": "stream",
     "text": [
      "[I 2025-05-27 00:57:45,332] Trial 4 finished with value: 0.9440887173310409 and parameters: {'max_depth': 10, 'min_samples_split': 180, 'min_samples_leaf': 60, 'learning_rate': 1.3220877067405616, 'n_estimators': 86, 'bagging_temperature': 0.27638457617723067, 'bootstrap_type': 'Bayesian', 'rsm': 0.6943386448447411, 'quantization_type': 'uniform', 'nbins': 59}. Best is trial 4 with value: 0.9440887173310409.\n"
     ]
    },
    {
     "name": "stdout",
     "output_type": "stream",
     "text": [
      "Early stopping at iteration 55, best model depth: 46\n",
      "10/150, ROC AUC: 0.9588, Loss: 0.6672, Time: 2.45\n",
      "20/150, ROC AUC: 0.9593, Loss: 0.6451, Time: 3.63\n"
     ]
    },
    {
     "name": "stderr",
     "output_type": "stream",
     "text": [
      "[I 2025-05-27 00:57:56,490] Trial 5 pruned. \n"
     ]
    },
    {
     "name": "stdout",
     "output_type": "stream",
     "text": [
      "10/103, ROC AUC: 0.9583, Loss: 0.4380, Time: 2.46\n",
      "20/103, ROC AUC: 0.9611, Loss: 0.3542, Time: 3.58\n",
      "30/103, ROC AUC: 0.9630, Loss: 0.3123, Time: 4.73\n",
      "40/103, ROC AUC: 0.9646, Loss: 0.2878, Time: 6.02\n",
      "50/103, ROC AUC: 0.9656, Loss: 0.2722, Time: 7.28\n",
      "60/103, ROC AUC: 0.9666, Loss: 0.2614, Time: 8.55\n",
      "70/103, ROC AUC: 0.9674, Loss: 0.2529, Time: 10.04\n",
      "80/103, ROC AUC: 0.9682, Loss: 0.2461, Time: 11.01\n",
      "90/103, ROC AUC: 0.9689, Loss: 0.2411, Time: 12.25\n",
      "100/103, ROC AUC: 0.9696, Loss: 0.2363, Time: 13.50\n"
     ]
    },
    {
     "name": "stderr",
     "output_type": "stream",
     "text": [
      "[I 2025-05-27 00:59:18,892] Trial 6 finished with value: 0.941280681463531 and parameters: {'max_depth': 5, 'min_samples_split': 25, 'min_samples_leaf': 87, 'learning_rate': 0.27178637804725736, 'n_estimators': 103, 'bagging_temperature': 0.15720251525742127, 'bootstrap_type': 'Bayesian', 'rsm': 0.864803089169032, 'quantization_type': 'uniform', 'nbins': 43}. Best is trial 4 with value: 0.9440887173310409.\n"
     ]
    },
    {
     "name": "stdout",
     "output_type": "stream",
     "text": [
      "10/115, ROC AUC: 0.9680, Loss: 0.3485, Time: 2.11\n",
      "20/115, ROC AUC: 0.9714, Loss: 0.2800, Time: 2.84\n",
      "30/115, ROC AUC: 0.9737, Loss: 0.2461, Time: 3.63\n"
     ]
    },
    {
     "name": "stderr",
     "output_type": "stream",
     "text": [
      "[I 2025-05-27 00:59:30,620] Trial 7 finished with value: 0.9424663941642661 and parameters: {'max_depth': 8, 'min_samples_split': 153, 'min_samples_leaf': 57, 'learning_rate': 0.5943176207886526, 'n_estimators': 115, 'bagging_temperature': 0.5704595464437947, 'bootstrap_type': 'Bernoulli', 'rsm': 0.5539457134966522, 'quantization_type': 'uniform', 'nbins': 81}. Best is trial 4 with value: 0.9440887173310409.\n"
     ]
    },
    {
     "name": "stdout",
     "output_type": "stream",
     "text": [
      "Early stopping at iteration 37, best model depth: 28\n",
      "10/96, ROC AUC: 0.9727, Loss: 0.3074, Time: 2.77\n",
      "20/96, ROC AUC: 0.9766, Loss: 0.2453, Time: 3.95\n",
      "30/96, ROC AUC: 0.9788, Loss: 0.2180, Time: 5.44\n",
      "40/96, ROC AUC: 0.9803, Loss: 0.2021, Time: 7.91\n"
     ]
    },
    {
     "name": "stderr",
     "output_type": "stream",
     "text": [
      "[I 2025-05-27 00:59:57,420] Trial 8 finished with value: 0.9393813860267091 and parameters: {'max_depth': 10, 'min_samples_split': 51, 'min_samples_leaf': 42, 'learning_rate': 0.5477038995623799, 'n_estimators': 96, 'bagging_temperature': 0.1692819188459137, 'bootstrap_type': 'Bernoulli', 'rsm': 0.9648488261712865, 'quantization_type': 'quantile', 'nbins': 109}. Best is trial 4 with value: 0.9440887173310409.\n"
     ]
    },
    {
     "name": "stdout",
     "output_type": "stream",
     "text": [
      "Early stopping at iteration 48, best model depth: 39\n",
      "10/143, ROC AUC: 0.9567, Loss: 0.3245, Time: 2.19\n",
      "20/143, ROC AUC: 0.9627, Loss: 0.2752, Time: 3.08\n"
     ]
    },
    {
     "name": "stderr",
     "output_type": "stream",
     "text": [
      "[I 2025-05-27 01:00:06,805] Trial 9 pruned. \n"
     ]
    },
    {
     "name": "stdout",
     "output_type": "stream",
     "text": [
      "10/81, ROC AUC: 0.9800, Loss: 0.2133, Time: 1.76\n",
      "20/81, ROC AUC: 0.9846, Loss: 0.1753, Time: 2.77\n"
     ]
    },
    {
     "name": "stderr",
     "output_type": "stream",
     "text": [
      "[I 2025-05-27 01:00:12,424] Trial 10 finished with value: 0.937159621433982 and parameters: {'max_depth': 10, 'min_samples_split': 116, 'min_samples_leaf': 1, 'learning_rate': 1.5763398242280116, 'n_estimators': 81, 'bagging_temperature': 0.916898315754266, 'bootstrap_type': 'Bayesian', 'rsm': 0.6626799989856424, 'quantization_type': None, 'nbins': 54}. Best is trial 4 with value: 0.9440887173310409.\n"
     ]
    },
    {
     "name": "stdout",
     "output_type": "stream",
     "text": [
      "Early stopping at iteration 23, best model depth: 14\n",
      "10/129, ROC AUC: 0.9714, Loss: 0.2429, Time: 2.04\n",
      "20/129, ROC AUC: 0.9760, Loss: 0.2083, Time: 2.62\n",
      "30/129, ROC AUC: 0.9782, Loss: 0.1933, Time: 3.46\n"
     ]
    },
    {
     "name": "stderr",
     "output_type": "stream",
     "text": [
      "[I 2025-05-27 01:00:23,109] Trial 11 finished with value: 0.9444886110120023 and parameters: {'max_depth': 8, 'min_samples_split': 150, 'min_samples_leaf': 34, 'learning_rate': 1.9425026627545554, 'n_estimators': 129, 'bagging_temperature': 0.6575805488202393, 'bootstrap_type': 'Bernoulli', 'rsm': 0.5032052771610099, 'quantization_type': 'uniform', 'nbins': 68}. Best is trial 11 with value: 0.9444886110120023.\n"
     ]
    },
    {
     "name": "stdout",
     "output_type": "stream",
     "text": [
      "Early stopping at iteration 36, best model depth: 27\n",
      "10/130, ROC AUC: 0.9730, Loss: 0.2537, Time: 2.03\n",
      "20/130, ROC AUC: 0.9769, Loss: 0.2098, Time: 2.68\n",
      "30/130, ROC AUC: 0.9784, Loss: 0.1954, Time: 3.54\n",
      "40/130, ROC AUC: 0.9794, Loss: 0.1894, Time: 4.30\n",
      "50/130, ROC AUC: 0.9806, Loss: 0.1801, Time: 5.24\n",
      "60/130, ROC AUC: 0.9813, Loss: 0.1761, Time: 5.96\n"
     ]
    },
    {
     "name": "stderr",
     "output_type": "stream",
     "text": [
      "[I 2025-05-27 01:00:48,871] Trial 12 finished with value: 0.9430610464443385 and parameters: {'max_depth': 9, 'min_samples_split': 139, 'min_samples_leaf': 32, 'learning_rate': 1.5972333331756159, 'n_estimators': 130, 'bagging_temperature': 0.6257531637227267, 'bootstrap_type': 'Bernoulli', 'rsm': 0.5073729258954913, 'quantization_type': 'uniform', 'nbins': 63}. Best is trial 11 with value: 0.9444886110120023.\n"
     ]
    },
    {
     "name": "stdout",
     "output_type": "stream",
     "text": [
      "Early stopping at iteration 63, best model depth: 54\n",
      "10/131, ROC AUC: 0.9728, Loss: 0.2287, Time: 2.32\n",
      "20/131, ROC AUC: 0.9767, Loss: 0.2025, Time: 3.04\n"
     ]
    },
    {
     "name": "stderr",
     "output_type": "stream",
     "text": [
      "[I 2025-05-27 01:00:57,930] Trial 13 finished with value: 0.9420924416901535 and parameters: {'max_depth': 8, 'min_samples_split': 163, 'min_samples_leaf': 28, 'learning_rate': 1.9630269779105545, 'n_estimators': 131, 'bagging_temperature': 0.7158491676455533, 'bootstrap_type': 'Bernoulli', 'rsm': 0.6279390160822119, 'quantization_type': 'uniform', 'nbins': 66}. Best is trial 11 with value: 0.9444886110120023.\n"
     ]
    },
    {
     "name": "stdout",
     "output_type": "stream",
     "text": [
      "Early stopping at iteration 29, best model depth: 20\n",
      "10/109, ROC AUC: 0.9645, Loss: 0.5911, Time: 2.31\n"
     ]
    },
    {
     "name": "stderr",
     "output_type": "stream",
     "text": [
      "[I 2025-05-27 01:01:02,744] Trial 14 finished with value: 0.9356203101291234 and parameters: {'max_depth': 9, 'min_samples_split': 72, 'min_samples_leaf': 71, 'learning_rate': 0.07688164947878144, 'n_estimators': 109, 'bagging_temperature': 0.44645419165100886, 'bootstrap_type': 'Bayesian', 'rsm': 0.643954649732532, 'quantization_type': 'uniform', 'nbins': 70}. Best is trial 11 with value: 0.9444886110120023.\n"
     ]
    },
    {
     "name": "stdout",
     "output_type": "stream",
     "text": [
      "Early stopping at iteration 18, best model depth: 9\n",
      "10/80, ROC AUC: 0.9650, Loss: 0.3250, Time: 2.03\n",
      "20/80, ROC AUC: 0.9692, Loss: 0.2659, Time: 2.65\n",
      "30/80, ROC AUC: 0.9715, Loss: 0.2395, Time: 3.47\n",
      "40/80, ROC AUC: 0.9730, Loss: 0.2262, Time: 4.30\n",
      "50/80, ROC AUC: 0.9740, Loss: 0.2174, Time: 5.16\n",
      "60/80, ROC AUC: 0.9749, Loss: 0.2103, Time: 5.91\n",
      "70/80, ROC AUC: 0.9756, Loss: 0.2050, Time: 6.68\n"
     ]
    },
    {
     "name": "stderr",
     "output_type": "stream",
     "text": [
      "[I 2025-05-27 01:01:39,691] Trial 15 finished with value: 0.9434445772102108 and parameters: {'max_depth': 8, 'min_samples_split': 128, 'min_samples_leaf': 100, 'learning_rate': 0.8113973719871701, 'n_estimators': 80, 'bagging_temperature': 0.6755216196437901, 'bootstrap_type': 'Bernoulli', 'rsm': 0.5018861750216916, 'quantization_type': 'uniform', 'nbins': 52}. Best is trial 11 with value: 0.9444886110120023.\n"
     ]
    },
    {
     "name": "stdout",
     "output_type": "stream",
     "text": [
      "10/132, ROC AUC: 0.9709, Loss: 0.4117, Time: 2.65\n",
      "20/132, ROC AUC: 0.9747, Loss: 0.3283, Time: 3.68\n"
     ]
    },
    {
     "name": "stderr",
     "output_type": "stream",
     "text": [
      "[I 2025-05-27 01:01:51,014] Trial 16 pruned. \n"
     ]
    },
    {
     "name": "stdout",
     "output_type": "stream",
     "text": [
      "10/93, ROC AUC: 0.9649, Loss: 0.5456, Time: 1.80\n",
      "20/93, ROC AUC: 0.9670, Loss: 0.4759, Time: 2.71\n"
     ]
    },
    {
     "name": "stderr",
     "output_type": "stream",
     "text": [
      "[I 2025-05-27 01:01:59,554] Trial 17 pruned. \n"
     ]
    },
    {
     "name": "stdout",
     "output_type": "stream",
     "text": [
      "10/106, ROC AUC: 0.9746, Loss: 0.2795, Time: 2.35\n",
      "20/106, ROC AUC: 0.9799, Loss: 0.2172, Time: 3.03\n",
      "30/106, ROC AUC: 0.9818, Loss: 0.1954, Time: 4.02\n",
      "40/106, ROC AUC: 0.9827, Loss: 0.1841, Time: 4.87\n",
      "50/106, ROC AUC: 0.9839, Loss: 0.1743, Time: 5.79\n"
     ]
    },
    {
     "name": "stderr",
     "output_type": "stream",
     "text": [
      "[I 2025-05-27 01:02:26,592] Trial 18 finished with value: 0.9430263251367101 and parameters: {'max_depth': 10, 'min_samples_split': 82, 'min_samples_leaf': 20, 'learning_rate': 1.056228088394169, 'n_estimators': 106, 'bagging_temperature': 0.5545340957741886, 'bootstrap_type': 'Bayesian', 'rsm': 0.6020914931801977, 'quantization_type': 'uniform', 'nbins': 75}. Best is trial 11 with value: 0.9444886110120023.\n"
     ]
    },
    {
     "name": "stdout",
     "output_type": "stream",
     "text": [
      "Early stopping at iteration 60, best model depth: 51\n",
      "10/127, ROC AUC: 0.9670, Loss: 0.3893, Time: 2.50\n",
      "20/127, ROC AUC: 0.9697, Loss: 0.3039, Time: 3.49\n"
     ]
    },
    {
     "name": "stderr",
     "output_type": "stream",
     "text": [
      "[I 2025-05-27 01:02:37,337] Trial 19 pruned. \n"
     ]
    },
    {
     "name": "stdout",
     "output_type": "stream",
     "text": [
      "10/140, ROC AUC: 0.9612, Loss: 0.6494, Time: 1.53\n",
      "20/140, ROC AUC: 0.9626, Loss: 0.6183, Time: 2.33\n"
     ]
    },
    {
     "name": "stderr",
     "output_type": "stream",
     "text": [
      "[I 2025-05-27 01:02:44,476] Trial 20 pruned. \n"
     ]
    },
    {
     "name": "stdout",
     "output_type": "stream",
     "text": [
      "10/80, ROC AUC: 0.9614, Loss: 0.3231, Time: 2.04\n",
      "20/80, ROC AUC: 0.9692, Loss: 0.2549, Time: 2.72\n"
     ]
    },
    {
     "name": "stderr",
     "output_type": "stream",
     "text": [
      "[I 2025-05-27 01:02:52,842] Trial 21 pruned. \n"
     ]
    },
    {
     "name": "stdout",
     "output_type": "stream",
     "text": [
      "10/85, ROC AUC: 0.9661, Loss: 0.2948, Time: 2.00\n",
      "20/85, ROC AUC: 0.9698, Loss: 0.2491, Time: 2.63\n"
     ]
    },
    {
     "name": "stderr",
     "output_type": "stream",
     "text": [
      "[I 2025-05-27 01:03:01,049] Trial 22 pruned. \n"
     ]
    },
    {
     "name": "stdout",
     "output_type": "stream",
     "text": [
      "10/87, ROC AUC: 0.9692, Loss: 0.2402, Time: 2.10\n",
      "20/87, ROC AUC: 0.9730, Loss: 0.2149, Time: 2.77\n",
      "30/87, ROC AUC: 0.9754, Loss: 0.2014, Time: 3.65\n",
      "40/87, ROC AUC: 0.9766, Loss: 0.1947, Time: 4.47\n"
     ]
    },
    {
     "name": "stderr",
     "output_type": "stream",
     "text": [
      "[I 2025-05-27 01:03:16,211] Trial 23 finished with value: 0.944366886887558 and parameters: {'max_depth': 7, 'min_samples_split': 119, 'min_samples_leaf': 89, 'learning_rate': 1.9686730299936057, 'n_estimators': 87, 'bagging_temperature': 0.5018264616505548, 'bootstrap_type': 'Bernoulli', 'rsm': 0.54844292865402, 'quantization_type': 'uniform', 'nbins': 61}. Best is trial 11 with value: 0.9444886110120023.\n"
     ]
    },
    {
     "name": "stdout",
     "output_type": "stream",
     "text": [
      "Early stopping at iteration 44, best model depth: 35\n",
      "10/99, ROC AUC: 0.9695, Loss: 0.2406, Time: 2.17\n",
      "20/99, ROC AUC: 0.9733, Loss: 0.2155, Time: 2.91\n",
      "30/99, ROC AUC: 0.9754, Loss: 0.2015, Time: 3.98\n",
      "40/99, ROC AUC: 0.9765, Loss: 0.1953, Time: 4.91\n",
      "50/99, ROC AUC: 0.9775, Loss: 0.1897, Time: 5.71\n",
      "60/99, ROC AUC: 0.9781, Loss: 0.1863, Time: 6.54\n"
     ]
    },
    {
     "name": "stderr",
     "output_type": "stream",
     "text": [
      "[I 2025-05-27 01:03:46,130] Trial 24 finished with value: 0.944387639853037 and parameters: {'max_depth': 7, 'min_samples_split': 4, 'min_samples_leaf': 89, 'learning_rate': 1.9407709187314608, 'n_estimators': 99, 'bagging_temperature': 0.4738544674222786, 'bootstrap_type': 'Bernoulli', 'rsm': 0.5842057200380679, 'quantization_type': 'uniform', 'nbins': 63}. Best is trial 11 with value: 0.9444886110120023.\n"
     ]
    },
    {
     "name": "stdout",
     "output_type": "stream",
     "text": [
      "Early stopping at iteration 65, best model depth: 56\n",
      "10/97, ROC AUC: 0.9690, Loss: 0.2456, Time: 2.24\n",
      "20/97, ROC AUC: 0.9734, Loss: 0.2151, Time: 2.95\n",
      "30/97, ROC AUC: 0.9755, Loss: 0.2017, Time: 3.89\n"
     ]
    },
    {
     "name": "stderr",
     "output_type": "stream",
     "text": [
      "[I 2025-05-27 01:03:57,623] Trial 25 finished with value: 0.9430630419217886 and parameters: {'max_depth': 7, 'min_samples_split': 7, 'min_samples_leaf': 89, 'learning_rate': 1.9652810004556032, 'n_estimators': 97, 'bagging_temperature': 0.48159945768587076, 'bootstrap_type': 'Bernoulli', 'rsm': 0.5992930203766798, 'quantization_type': 'uniform', 'nbins': 73}. Best is trial 11 with value: 0.9444886110120023.\n"
     ]
    },
    {
     "name": "stdout",
     "output_type": "stream",
     "text": [
      "Early stopping at iteration 35, best model depth: 26\n",
      "10/104, ROC AUC: 0.9617, Loss: 0.4023, Time: 2.04\n",
      "20/104, ROC AUC: 0.9668, Loss: 0.3405, Time: 2.82\n"
     ]
    },
    {
     "name": "stderr",
     "output_type": "stream",
     "text": [
      "[I 2025-05-27 01:04:06,172] Trial 26 pruned. \n"
     ]
    },
    {
     "name": "stdout",
     "output_type": "stream",
     "text": [
      "10/99, ROC AUC: 0.9677, Loss: 0.2684, Time: 2.20\n",
      "20/99, ROC AUC: 0.9718, Loss: 0.2302, Time: 2.98\n"
     ]
    },
    {
     "name": "stderr",
     "output_type": "stream",
     "text": [
      "[I 2025-05-27 01:04:15,306] Trial 27 pruned. \n"
     ]
    },
    {
     "name": "stdout",
     "output_type": "stream",
     "text": [
      "10/120, ROC AUC: 0.9474, Loss: 0.5176, Time: 1.34\n",
      "20/120, ROC AUC: 0.9506, Loss: 0.4444, Time: 2.17\n"
     ]
    },
    {
     "name": "stderr",
     "output_type": "stream",
     "text": [
      "[I 2025-05-27 01:04:21,885] Trial 28 pruned. \n"
     ]
    },
    {
     "name": "stdout",
     "output_type": "stream",
     "text": [
      "10/89, ROC AUC: 0.9604, Loss: 0.3525, Time: 2.21\n",
      "20/89, ROC AUC: 0.9643, Loss: 0.2952, Time: 3.04\n"
     ]
    },
    {
     "name": "stderr",
     "output_type": "stream",
     "text": [
      "[I 2025-05-27 01:04:31,209] Trial 29 pruned. \n"
     ]
    },
    {
     "name": "stdout",
     "output_type": "stream",
     "text": [
      "10/111, ROC AUC: 0.9579, Loss: 0.3460, Time: 1.86\n",
      "20/111, ROC AUC: 0.9673, Loss: 0.2744, Time: 2.67\n"
     ]
    },
    {
     "name": "stderr",
     "output_type": "stream",
     "text": [
      "[I 2025-05-27 01:04:39,295] Trial 30 pruned. \n"
     ]
    },
    {
     "name": "stdout",
     "output_type": "stream",
     "text": [
      "10/87, ROC AUC: 0.9719, Loss: 0.2452, Time: 2.25\n",
      "20/87, ROC AUC: 0.9755, Loss: 0.2132, Time: 3.12\n",
      "30/87, ROC AUC: 0.9772, Loss: 0.1999, Time: 4.07\n",
      "40/87, ROC AUC: 0.9784, Loss: 0.1912, Time: 5.12\n"
     ]
    },
    {
     "name": "stderr",
     "output_type": "stream",
     "text": [
      "[I 2025-05-27 01:04:58,132] Trial 31 finished with value: 0.9441437925086584 and parameters: {'max_depth': 7, 'min_samples_split': 172, 'min_samples_leaf': 33, 'learning_rate': 1.3810829536817912, 'n_estimators': 87, 'bagging_temperature': 0.10128177842310626, 'bootstrap_type': 'Bayesian', 'rsm': 0.6885074506573033, 'quantization_type': 'uniform', 'nbins': 59}. Best is trial 11 with value: 0.9444886110120023.\n"
     ]
    },
    {
     "name": "stdout",
     "output_type": "stream",
     "text": [
      "Early stopping at iteration 47, best model depth: 38\n",
      "10/91, ROC AUC: 0.9704, Loss: 0.2517, Time: 2.06\n",
      "20/91, ROC AUC: 0.9743, Loss: 0.2183, Time: 2.68\n"
     ]
    },
    {
     "name": "stderr",
     "output_type": "stream",
     "text": [
      "[I 2025-05-27 01:05:06,653] Trial 32 pruned. \n"
     ]
    },
    {
     "name": "stdout",
     "output_type": "stream",
     "text": [
      "10/86, ROC AUC: 0.9711, Loss: 0.2534, Time: 2.16\n",
      "20/86, ROC AUC: 0.9760, Loss: 0.2138, Time: 3.12\n",
      "30/86, ROC AUC: 0.9782, Loss: 0.1973, Time: 4.07\n"
     ]
    },
    {
     "name": "stderr",
     "output_type": "stream",
     "text": [
      "[I 2025-05-27 01:05:16,549] Trial 33 finished with value: 0.9437714364165057 and parameters: {'max_depth': 7, 'min_samples_split': 121, 'min_samples_leaf': 21, 'learning_rate': 1.3521937207611614, 'n_estimators': 86, 'bagging_temperature': 0.2031018308843064, 'bootstrap_type': 'Bayesian', 'rsm': 0.6295374226012092, 'quantization_type': 'uniform', 'nbins': 48}. Best is trial 11 with value: 0.9444886110120023.\n"
     ]
    },
    {
     "name": "stdout",
     "output_type": "stream",
     "text": [
      "Early stopping at iteration 31, best model depth: 22\n",
      "10/100, ROC AUC: 0.9711, Loss: 0.2311, Time: 2.51\n",
      "20/100, ROC AUC: 0.9745, Loss: 0.2085, Time: 3.45\n"
     ]
    },
    {
     "name": "stderr",
     "output_type": "stream",
     "text": [
      "[I 2025-05-27 01:05:27,116] Trial 34 pruned. \n"
     ]
    },
    {
     "name": "stdout",
     "output_type": "stream",
     "text": [
      "10/91, ROC AUC: 0.9723, Loss: 0.2940, Time: 1.91\n",
      "20/91, ROC AUC: 0.9762, Loss: 0.2340, Time: 2.74\n",
      "30/91, ROC AUC: 0.9780, Loss: 0.2164, Time: 3.60\n",
      "40/91, ROC AUC: 0.9793, Loss: 0.2009, Time: 4.55\n",
      "50/91, ROC AUC: 0.9803, Loss: 0.1911, Time: 5.35\n"
     ]
    },
    {
     "name": "stderr",
     "output_type": "stream",
     "text": [
      "[I 2025-05-27 01:05:45,954] Trial 35 finished with value: 0.9449551536397907 and parameters: {'max_depth': 8, 'min_samples_split': 192, 'min_samples_leaf': 11, 'learning_rate': 0.8869559896721937, 'n_estimators': 91, 'bagging_temperature': 0.3689495000261952, 'bootstrap_type': 'Bayesian', 'rsm': 0.5780073497041005, 'quantization_type': 'quantile', 'nbins': 68}. Best is trial 35 with value: 0.9449551536397907.\n"
     ]
    },
    {
     "name": "stdout",
     "output_type": "stream",
     "text": [
      "Early stopping at iteration 51, best model depth: 42\n",
      "10/91, ROC AUC: 0.9717, Loss: 0.2946, Time: 2.00\n",
      "20/91, ROC AUC: 0.9757, Loss: 0.2393, Time: 2.66\n"
     ]
    },
    {
     "name": "stderr",
     "output_type": "stream",
     "text": [
      "[I 2025-05-27 01:05:54,280] Trial 36 pruned. \n"
     ]
    },
    {
     "name": "stdout",
     "output_type": "stream",
     "text": [
      "10/137, ROC AUC: 0.9710, Loss: 0.3936, Time: 1.90\n",
      "20/137, ROC AUC: 0.9740, Loss: 0.3167, Time: 2.61\n"
     ]
    },
    {
     "name": "stderr",
     "output_type": "stream",
     "text": [
      "[I 2025-05-27 01:06:00,520] Trial 37 finished with value: 0.9409713824587954 and parameters: {'max_depth': 9, 'min_samples_split': 200, 'min_samples_leaf': 13, 'learning_rate': 0.38799598055974027, 'n_estimators': 137, 'bagging_temperature': 0.4915164192986904, 'bootstrap_type': 'Bayesian', 'rsm': 0.5394985278894912, 'quantization_type': 'quantile', 'nbins': 76}. Best is trial 35 with value: 0.9449551536397907.\n"
     ]
    },
    {
     "name": "stdout",
     "output_type": "stream",
     "text": [
      "Early stopping at iteration 25, best model depth: 16\n",
      "10/123, ROC AUC: 0.9659, Loss: 0.6682, Time: 1.94\n",
      "20/123, ROC AUC: 0.9674, Loss: 0.6475, Time: 2.65\n"
     ]
    },
    {
     "name": "stderr",
     "output_type": "stream",
     "text": [
      "[I 2025-05-27 01:06:08,744] Trial 38 pruned. \n"
     ]
    },
    {
     "name": "stdout",
     "output_type": "stream",
     "text": [
      "10/94, ROC AUC: 0.9489, Loss: 0.5499, Time: 1.86\n",
      "20/94, ROC AUC: 0.9605, Loss: 0.4442, Time: 2.69\n"
     ]
    },
    {
     "name": "stderr",
     "output_type": "stream",
     "text": [
      "[I 2025-05-27 01:06:16,976] Trial 39 pruned. \n"
     ]
    },
    {
     "name": "stdout",
     "output_type": "stream",
     "text": [
      "10/113, ROC AUC: 0.9682, Loss: 0.3167, Time: 2.14\n",
      "20/113, ROC AUC: 0.9720, Loss: 0.2605, Time: 3.02\n"
     ]
    },
    {
     "name": "stderr",
     "output_type": "stream",
     "text": [
      "[I 2025-05-27 01:06:26,299] Trial 40 pruned. \n"
     ]
    },
    {
     "name": "stdout",
     "output_type": "stream",
     "text": [
      "10/86, ROC AUC: 0.9700, Loss: 0.2783, Time: 2.01\n",
      "20/86, ROC AUC: 0.9726, Loss: 0.2423, Time: 2.61\n"
     ]
    },
    {
     "name": "stderr",
     "output_type": "stream",
     "text": [
      "[I 2025-05-27 01:06:34,456] Trial 41 pruned. \n"
     ]
    },
    {
     "name": "stdout",
     "output_type": "stream",
     "text": [
      "10/84, ROC AUC: 0.9751, Loss: 0.2321, Time: 2.11\n",
      "20/84, ROC AUC: 0.9783, Loss: 0.2023, Time: 2.87\n",
      "30/84, ROC AUC: 0.9800, Loss: 0.1883, Time: 3.89\n",
      "40/84, ROC AUC: 0.9812, Loss: 0.1797, Time: 4.90\n",
      "50/84, ROC AUC: 0.9821, Loss: 0.1740, Time: 5.92\n"
     ]
    },
    {
     "name": "stderr",
     "output_type": "stream",
     "text": [
      "[I 2025-05-27 01:06:58,992] Trial 42 finished with value: 0.9439222945117186 and parameters: {'max_depth': 8, 'min_samples_split': 187, 'min_samples_leaf': 14, 'learning_rate': 1.454724218349382, 'n_estimators': 84, 'bagging_temperature': 0.46230023441837437, 'bootstrap_type': 'Bayesian', 'rsm': 0.6756156692768274, 'quantization_type': 'quantile', 'nbins': 61}. Best is trial 35 with value: 0.9449551536397907.\n"
     ]
    },
    {
     "name": "stdout",
     "output_type": "stream",
     "text": [
      "Early stopping at iteration 57, best model depth: 48\n",
      "10/96, ROC AUC: 0.9714, Loss: 0.2350, Time: 2.06\n",
      "20/96, ROC AUC: 0.9750, Loss: 0.2111, Time: 2.75\n"
     ]
    },
    {
     "name": "stderr",
     "output_type": "stream",
     "text": [
      "[I 2025-05-27 01:07:07,573] Trial 43 pruned. \n"
     ]
    },
    {
     "name": "stdout",
     "output_type": "stream",
     "text": [
      "10/88, ROC AUC: 0.9758, Loss: 0.2573, Time: 1.74\n",
      "20/88, ROC AUC: 0.9789, Loss: 0.2151, Time: 2.69\n",
      "30/88, ROC AUC: 0.9808, Loss: 0.1954, Time: 3.71\n",
      "40/88, ROC AUC: 0.9821, Loss: 0.1842, Time: 4.62\n",
      "50/88, ROC AUC: 0.9831, Loss: 0.1759, Time: 5.60\n"
     ]
    },
    {
     "name": "stderr",
     "output_type": "stream",
     "text": [
      "[I 2025-05-27 01:07:30,617] Trial 44 finished with value: 0.9445313142294305 and parameters: {'max_depth': 8, 'min_samples_split': 145, 'min_samples_leaf': 7, 'learning_rate': 0.9614881295458337, 'n_estimators': 88, 'bagging_temperature': 0.3032735992016145, 'bootstrap_type': 'Bayesian', 'rsm': 0.6412443778270481, 'quantization_type': None, 'nbins': 46}. Best is trial 35 with value: 0.9449551536397907.\n"
     ]
    },
    {
     "name": "stdout",
     "output_type": "stream",
     "text": [
      "Early stopping at iteration 57, best model depth: 48\n",
      "10/102, ROC AUC: 0.9792, Loss: 0.2413, Time: 1.73\n",
      "20/102, ROC AUC: 0.9822, Loss: 0.2069, Time: 2.58\n",
      "30/102, ROC AUC: 0.9841, Loss: 0.1842, Time: 3.75\n"
     ]
    },
    {
     "name": "stderr",
     "output_type": "stream",
     "text": [
      "[I 2025-05-27 01:07:40,673] Trial 45 finished with value: 0.9430913777015771 and parameters: {'max_depth': 9, 'min_samples_split': 114, 'min_samples_leaf': 2, 'learning_rate': 0.9858069482490738, 'n_estimators': 102, 'bagging_temperature': 0.3915608428245593, 'bootstrap_type': 'Bayesian', 'rsm': 0.6365477987118833, 'quantization_type': None, 'nbins': 40}. Best is trial 35 with value: 0.9449551536397907.\n"
     ]
    },
    {
     "name": "stdout",
     "output_type": "stream",
     "text": [
      "Early stopping at iteration 34, best model depth: 25\n",
      "10/118, ROC AUC: 0.9730, Loss: 0.3047, Time: 1.66\n",
      "20/118, ROC AUC: 0.9764, Loss: 0.2498, Time: 2.34\n",
      "30/118, ROC AUC: 0.9786, Loss: 0.2215, Time: 3.27\n",
      "40/118, ROC AUC: 0.9801, Loss: 0.2056, Time: 4.14\n",
      "50/118, ROC AUC: 0.9812, Loss: 0.1957, Time: 4.96\n",
      "60/118, ROC AUC: 0.9820, Loss: 0.1879, Time: 5.83\n",
      "70/118, ROC AUC: 0.9827, Loss: 0.1813, Time: 6.87\n"
     ]
    },
    {
     "name": "stderr",
     "output_type": "stream",
     "text": [
      "[I 2025-05-27 01:08:11,384] Trial 46 finished with value: 0.9443980163357766 and parameters: {'max_depth': 8, 'min_samples_split': 144, 'min_samples_leaf': 8, 'learning_rate': 0.6732321480598475, 'n_estimators': 118, 'bagging_temperature': 0.30156110531952346, 'bootstrap_type': 'Bayesian', 'rsm': 0.5595005495933499, 'quantization_type': None, 'nbins': 47}. Best is trial 35 with value: 0.9449551536397907.\n"
     ]
    },
    {
     "name": "stdout",
     "output_type": "stream",
     "text": [
      "Early stopping at iteration 72, best model depth: 63\n",
      "10/125, ROC AUC: 0.9724, Loss: 0.3207, Time: 1.56\n",
      "20/125, ROC AUC: 0.9761, Loss: 0.2586, Time: 2.40\n"
     ]
    },
    {
     "name": "stderr",
     "output_type": "stream",
     "text": [
      "[I 2025-05-27 01:08:18,721] Trial 47 pruned. \n"
     ]
    },
    {
     "name": "stdout",
     "output_type": "stream",
     "text": [
      "10/117, ROC AUC: 0.9735, Loss: 0.3314, Time: 1.66\n",
      "20/117, ROC AUC: 0.9763, Loss: 0.2616, Time: 2.60\n",
      "30/117, ROC AUC: 0.9783, Loss: 0.2309, Time: 3.56\n",
      "40/117, ROC AUC: 0.9797, Loss: 0.2131, Time: 4.47\n",
      "50/117, ROC AUC: 0.9806, Loss: 0.2019, Time: 5.47\n",
      "60/117, ROC AUC: 0.9813, Loss: 0.1941, Time: 6.50\n",
      "70/117, ROC AUC: 0.9819, Loss: 0.1884, Time: 7.37\n",
      "80/117, ROC AUC: 0.9826, Loss: 0.1832, Time: 8.27\n",
      "90/117, ROC AUC: 0.9830, Loss: 0.1794, Time: 9.23\n"
     ]
    },
    {
     "name": "stderr",
     "output_type": "stream",
     "text": [
      "[I 2025-05-27 01:09:10,914] Trial 48 finished with value: 0.9446574284042645 and parameters: {'max_depth': 9, 'min_samples_split': 139, 'min_samples_leaf': 17, 'learning_rate': 0.511928492473238, 'n_estimators': 117, 'bagging_temperature': 0.22430182333867116, 'bootstrap_type': 'Bayesian', 'rsm': 0.6139511404477955, 'quantization_type': None, 'nbins': 32}. Best is trial 35 with value: 0.9449551536397907.\n"
     ]
    },
    {
     "name": "stdout",
     "output_type": "stream",
     "text": [
      "Early stopping at iteration 93, best model depth: 84\n",
      "10/135, ROC AUC: 0.9740, Loss: 0.3225, Time: 2.25\n",
      "20/135, ROC AUC: 0.9776, Loss: 0.2522, Time: 3.54\n"
     ]
    },
    {
     "name": "stderr",
     "output_type": "stream",
     "text": [
      "[I 2025-05-27 01:09:19,576] Trial 49 finished with value: 0.9414814264949918 and parameters: {'max_depth': 9, 'min_samples_split': 144, 'min_samples_leaf': 7, 'learning_rate': 0.48398683862052866, 'n_estimators': 135, 'bagging_temperature': 0.18832633151069358, 'bootstrap_type': 'Bayesian', 'rsm': 0.9105460154288382, 'quantization_type': None, 'nbins': 35}. Best is trial 35 with value: 0.9449551536397907.\n"
     ]
    },
    {
     "name": "stdout",
     "output_type": "stream",
     "text": [
      "Early stopping at iteration 26, best model depth: 17\n"
     ]
    }
   ],
   "source": [
    "from datetime import datetime\n",
    "import optuna\n",
    "import os\n",
    "\n",
    "def objective(trial):\n",
    "\n",
    "    time_then = datetime.now()\n",
    "    common_params = {\n",
    "        'max_depth': trial.suggest_int('max_depth', 3, 10),\n",
    "        'min_samples_split': trial.suggest_int('min_samples_split', 2, 200),\n",
    "        'min_samples_leaf': trial.suggest_int('min_samples_leaf', 1, 100)\n",
    "        }\n",
    "    optional_params = {\n",
    "        'learning_rate': trial.suggest_loguniform('learning_rate', 1e-2, 2.0),\n",
    "        'n_estimators': trial.suggest_int('n_estimators', 80, 150),\n",
    "        'bagging_temperature': trial.suggest_float('bagging_temperature', 0.1, 1.0),\n",
    "        'bootstrap_type': trial.suggest_categorical('bootstrap_type', ['Bernoulli', 'Bayesian']),\n",
    "        'rsm': trial.suggest_float('rsm', 0.5, 1.0),\n",
    "        'quantization_type': trial.suggest_categorical('quantization_type', [None, 'uniform', 'quantile']),\n",
    "        'nbins': trial.suggest_int('nbins', 32, 128)\n",
    "    }\n",
    "        \n",
    "    boosting = Boosting(\n",
    "        early_stopping_rounds=10,\n",
    "        base_model_params=common_params,\n",
    "        **optional_params\n",
    "    )\n",
    "    boosting.fit(X_train, y_train, X_val, y_val, trial=trial)\n",
    "\n",
    "    trial.set_user_attr('time', (datetime.now() - time_then).total_seconds())\n",
    "    trial.set_user_attr('loss_history', boosting.history['validation_loss'])\n",
    "    trial.set_user_attr('roc_history', boosting.history['validation_roc_auc'])\n",
    "\n",
    "    return boosting.score(X_val, y_val)\n",
    "\n",
    "study = optuna.create_study(\n",
    "    storage=f'sqlite:///{os.path.join(os.getcwd(), \"optuna_study.db\")}',\n",
    "    load_if_exists=True,\n",
    "    study_name='boosting_optimization',\n",
    "    pruner=optuna.pruners.MedianPruner(n_startup_trials=5, n_warmup_steps=30, interval_steps=1),\n",
    "    direction='maximize', sampler=optuna.samplers.TPESampler(seed=42)\n",
    "    )\n",
    "study.optimize(objective, n_trials=50)"
   ]
  },
  {
   "cell_type": "code",
   "execution_count": 25,
   "metadata": {},
   "outputs": [
    {
     "name": "stdout",
     "output_type": "stream",
     "text": [
      "Best params: {'max_depth': 8, 'min_samples_split': 192, 'min_samples_leaf': 11, 'learning_rate': 0.8869559896721937, 'n_estimators': 91, 'bagging_temperature': 0.3689495000261952, 'bootstrap_type': 'Bayesian', 'rsm': 0.5780073497041005, 'quantization_type': 'quantile', 'nbins': 68}\n",
      "Best validation ROC AUC: 0.9449551536397907\n",
      "Hyperparameter importances: {'learning_rate': np.float64(0.6165189933473562), 'max_depth': np.float64(0.13318943467878874), 'rsm': np.float64(0.0831287676740284), 'nbins': np.float64(0.06510619739243945), 'bagging_temperature': np.float64(0.05227740460963389), 'min_samples_split': np.float64(0.023456158773371483), 'quantization_type': np.float64(0.010833630118662318), 'n_estimators': np.float64(0.00989688487035252), 'min_samples_leaf': np.float64(0.00484537002639526), 'bootstrap_type': np.float64(0.0007471585089717356)}\n",
      "10/100, ROC AUC: 0.9547, Loss: 0.3076, Time: 1.44\n",
      "20/100, ROC AUC: 0.9609, Loss: 0.2685, Time: 2.39\n",
      "30/100, ROC AUC: 0.9645, Loss: 0.2499, Time: 3.43\n",
      "40/100, ROC AUC: 0.9669, Loss: 0.2381, Time: 4.65\n",
      "50/100, ROC AUC: 0.9687, Loss: 0.2301, Time: 5.63\n",
      "60/100, ROC AUC: 0.9701, Loss: 0.2237, Time: 6.61\n",
      "70/100, ROC AUC: 0.9712, Loss: 0.2185, Time: 7.70\n",
      "80/100, ROC AUC: 0.9721, Loss: 0.2143, Time: 8.76\n",
      "Early stopping at iteration 86, best model depth: 77\n",
      "10/91, ROC AUC: 0.9708, Loss: 0.3057, Time: 1.91\n",
      "20/91, ROC AUC: 0.9757, Loss: 0.2393, Time: 2.65\n",
      "30/91, ROC AUC: 0.9782, Loss: 0.2136, Time: 3.60\n",
      "40/91, ROC AUC: 0.9794, Loss: 0.2004, Time: 4.51\n",
      "50/91, ROC AUC: 0.9805, Loss: 0.1902, Time: 5.49\n",
      "Early stopping at iteration 52, best model depth: 43\n"
     ]
    },
    {
     "data": {
      "image/png": "[encoded data removed]",
      "text/plain": [
       "<Figure size 640x480 with 1 Axes>"
      ]
     },
     "metadata": {},
     "output_type": "display_data"
    }
   ],
   "source": [
    "print(\"Best params:\", study.best_params)\n",
    "print(\"Best validation ROC AUC:\", study.best_value)\n",
    "\n",
    "from optuna.importance import get_param_importances\n",
    "\n",
    "param_importances = get_param_importances(study)\n",
    "print(\"Hyperparameter importances:\", param_importances)\n",
    "\n",
    "import matplotlib.pyplot as plt\n",
    "\n",
    "default_boost = Boosting(early_stopping_rounds=10, learning_rate=1., n_estimators=100, base_model_params={'max_depth': 3, 'min_samples_split': 10, 'min_samples_leaf': 5})\n",
    "default_boost.fit(X_train, y_train, X_val, y_val)\n",
    "hist_def = default_boost.history[\"validation_loss\"]\n",
    "\n",
    "base_model_params_best = {\n",
    "    'max_depth': study.best_params['max_depth'],\n",
    "    'min_samples_split': study.best_params['min_samples_split'],\n",
    "    'min_samples_leaf': study.best_params['min_samples_leaf']\n",
    "}\n",
    "optional_params_best = {\n",
    "    'learning_rate': study.best_params['learning_rate'],\n",
    "    'n_estimators': study.best_params['n_estimators'],\n",
    "    'bagging_temperature': study.best_params['bagging_temperature'],\n",
    "    'bootstrap_type': study.best_params['bootstrap_type'],\n",
    "    'rsm': study.best_params['rsm'],\n",
    "    'quantization_type': study.best_params['quantization_type'],\n",
    "    'nbins': study.best_params['nbins']\n",
    "}\n",
    "best_boost = Boosting(early_stopping_rounds=10, base_model_params=base_model_params_best, **optional_params_best)\n",
    "best_boost.fit(X_train, y_train, X_val, y_val)\n",
    "hist_best = best_boost.history[\"validation_loss\"]\n",
    "\n",
    "plt.plot(hist_def, label=\"default\")\n",
    "plt.plot(hist_best, label=\"optuna-best\")\n",
    "plt.xlabel(\"Iteration\")\n",
    "plt.ylabel(\"Validation Loss\")\n",
    "plt.legend()\n",
    "plt.show()\n"
   ]
  },
  {
   "cell_type": "markdown",
   "metadata": {
    "id": "5otyFtBkoUyW"
   },
   "source": [
    "### 3.3. Готовые реализации (1 балл)\n",
    "\n",
    "Библиотек для бустингов существует много, но активно используются лишь три. Ваша задача — попробовать их в деле, посмотреть на их уникальные фишки и понять, что вам нравится больше всего\n",
    "\n",
    "Возьмите любую из популярных библиотек: <font color='lightblue'>`xgboost`</font>, <font color='lightgreen'>`lightgbm`</font>, <font color='palegoldenrod'>`catboost`</font>.\n",
    "Ваша задача — взять одну из них, подобрать те же оптимальные параметры, что и выше, плюс что-то, что вам понравилось в них больше всего (может быть абсолютно любая фишка из пунктов выше или что-то, что вы найдете сами, не обязательно эксклюзивное), и сравнить две оптимизированные модели по\n",
    "- динамике функции потерь (на обучающей и на валидационной выборке)\n",
    "- времени обучения"
   ]
  },
  {
   "cell_type": "code",
   "execution_count": 11,
   "metadata": {
    "id": "nEaspH2NoUyW"
   },
   "outputs": [
    {
     "name": "stderr",
     "output_type": "stream",
     "text": [
      "[I 2025-05-27 02:07:37,497] A new study created in RDB with name: lgb_optimization\n",
      "[I 2025-05-27 02:07:44,160] Trial 0 finished with value: 0.945939323118085 and parameters: {'learning_rate': 0.05611516415334506, 'num_leaves': 245, 'max_depth': 8, 'n_estimators': 140}. Best is trial 0 with value: 0.945939323118085.\n",
      "[I 2025-05-27 02:07:47,887] Trial 1 finished with value: 0.9352782852942092 and parameters: {'learning_rate': 0.020513382630874502, 'num_leaves': 66, 'max_depth': 3, 'n_estimators': 180}. Best is trial 0 with value: 0.945939323118085.\n",
      "[I 2025-05-27 02:07:51,857] Trial 2 finished with value: 0.9475305168366414 and parameters: {'learning_rate': 0.1593052261624101, 'num_leaves': 191, 'max_depth': 3, 'n_estimators': 196}. Best is trial 2 with value: 0.9475305168366414.\n",
      "[I 2025-05-27 02:07:53,088] Trial 3 finished with value: 0.9443138071873904 and parameters: {'learning_rate': 0.46225890010208287, 'num_leaves': 78, 'max_depth': 4, 'n_estimators': 77}. Best is trial 2 with value: 0.9475305168366414.\n",
      "[I 2025-05-27 02:07:55,305] Trial 4 finished with value: 0.9425226666283535 and parameters: {'learning_rate': 0.04059611610484305, 'num_leaves': 149, 'max_depth': 6, 'n_estimators': 93}. Best is trial 2 with value: 0.9475305168366414.\n",
      "[I 2025-05-27 02:07:57,298] Trial 5 finished with value: 0.9465064378093488 and parameters: {'learning_rate': 0.16738085788752127, 'num_leaves': 62, 'max_depth': 5, 'n_estimators': 105}. Best is trial 2 with value: 0.9475305168366414.\n",
      "[I 2025-05-27 02:07:57,644] Trial 6 pruned. \n",
      "[I 2025-05-27 02:07:59,457] Trial 7 finished with value: 0.9454911388828359 and parameters: {'learning_rate': 0.15304852121831466, 'num_leaves': 41, 'max_depth': 7, 'n_estimators': 75}. Best is trial 2 with value: 0.9475305168366414.\n",
      "[I 2025-05-27 02:08:00,682] Trial 8 pruned. \n",
      "[I 2025-05-27 02:08:01,231] Trial 9 pruned. \n",
      "[I 2025-05-27 02:08:02,478] Trial 10 pruned. \n",
      "[I 2025-05-27 02:08:06,973] Trial 11 finished with value: 0.9467431014349079 and parameters: {'learning_rate': 0.21276622723560154, 'num_leaves': 108, 'max_depth': 5, 'n_estimators': 155}. Best is trial 2 with value: 0.9475305168366414.\n",
      "[I 2025-05-27 02:08:10,613] Trial 12 finished with value: 0.944132617834939 and parameters: {'learning_rate': 0.2967159996859728, 'num_leaves': 116, 'max_depth': 5, 'n_estimators': 155}. Best is trial 2 with value: 0.9475305168366414.\n",
      "[I 2025-05-27 02:08:13,708] Trial 13 pruned. \n",
      "[I 2025-05-27 02:08:14,155] Trial 14 pruned. \n",
      "[I 2025-05-27 02:08:14,789] Trial 15 pruned. \n",
      "[I 2025-05-27 02:08:15,580] Trial 16 pruned. \n",
      "[I 2025-05-27 02:08:15,942] Trial 17 pruned. \n",
      "[I 2025-05-27 02:08:17,335] Trial 18 pruned. \n",
      "[I 2025-05-27 02:08:17,847] Trial 19 pruned. \n",
      "[I 2025-05-27 02:08:22,041] Trial 20 finished with value: 0.9472627237628639 and parameters: {'learning_rate': 0.18288104180760964, 'num_leaves': 128, 'max_depth': 5, 'n_estimators': 169}. Best is trial 2 with value: 0.9475305168366414.\n",
      "[I 2025-05-27 02:08:22,497] Trial 21 pruned. \n",
      "[I 2025-05-27 02:08:22,992] Trial 22 pruned. \n",
      "[I 2025-05-27 02:08:23,322] Trial 23 pruned. \n",
      "[I 2025-05-27 02:08:23,695] Trial 24 pruned. \n",
      "[I 2025-05-27 02:08:27,616] Trial 25 pruned. \n",
      "[I 2025-05-27 02:08:28,504] Trial 26 pruned. \n",
      "[I 2025-05-27 02:08:29,004] Trial 27 pruned. \n",
      "[I 2025-05-27 02:08:29,616] Trial 28 pruned. \n",
      "[I 2025-05-27 02:08:30,641] Trial 29 pruned. \n",
      "[I 2025-05-27 02:08:31,253] Trial 30 pruned. \n",
      "[I 2025-05-27 02:08:31,733] Trial 31 pruned. \n",
      "[I 2025-05-27 02:08:32,137] Trial 32 pruned. \n",
      "[I 2025-05-27 02:08:32,464] Trial 33 pruned. \n",
      "[I 2025-05-27 02:08:35,681] Trial 34 finished with value: 0.9450820660056048 and parameters: {'learning_rate': 0.24899652149944546, 'num_leaves': 66, 'max_depth': 6, 'n_estimators': 125}. Best is trial 2 with value: 0.9475305168366414.\n",
      "[I 2025-05-27 02:08:36,047] Trial 35 pruned. \n",
      "[I 2025-05-27 02:08:36,479] Trial 36 pruned. \n",
      "[I 2025-05-27 02:08:36,999] Trial 37 pruned. \n",
      "[I 2025-05-27 02:08:37,328] Trial 38 pruned. \n",
      "[I 2025-05-27 02:08:38,001] Trial 39 pruned. \n",
      "[I 2025-05-27 02:08:38,353] Trial 40 pruned. \n",
      "[I 2025-05-27 02:08:39,418] Trial 41 pruned. \n",
      "[I 2025-05-27 02:08:40,253] Trial 42 pruned. \n",
      "[I 2025-05-27 02:08:41,291] Trial 43 pruned. \n",
      "[I 2025-05-27 02:08:42,114] Trial 44 pruned. \n",
      "[I 2025-05-27 02:08:42,586] Trial 45 pruned. \n",
      "[I 2025-05-27 02:08:47,761] Trial 46 pruned. \n",
      "[I 2025-05-27 02:08:48,135] Trial 47 pruned. \n",
      "[I 2025-05-27 02:08:48,659] Trial 48 pruned. \n",
      "[I 2025-05-27 02:08:48,992] Trial 49 pruned. \n"
     ]
    },
    {
     "name": "stdout",
     "output_type": "stream",
     "text": [
      "Best AUC: 0.9475305168366414\n",
      "Best params: {'learning_rate': 0.1593052261624101, 'num_leaves': 191, 'max_depth': 3, 'n_estimators': 196}\n"
     ]
    }
   ],
   "source": [
    "import lightgbm as lgb\n",
    "\n",
    "from datetime import datetime\n",
    "from sklearn.metrics import roc_auc_score\n",
    "import optuna\n",
    "import os\n",
    "\n",
    "def objective(trial):\n",
    "\n",
    "    time_then = datetime.now()\n",
    "    params = {\n",
    "        \"objective\": \"binary\",\n",
    "        \"metric\": \"auc\",\n",
    "        \"learning_rate\": trial.suggest_loguniform(\"learning_rate\", 1e-2, 1.0),\n",
    "        \"num_leaves\": trial.suggest_int(\"num_leaves\", 31, 256),\n",
    "        \"max_depth\": trial.suggest_int(\"max_depth\", 3, 10),\n",
    "        \"verbose\": -1,\n",
    "        # … другие параметры …\n",
    "    }\n",
    "    dtrain = lgb.Dataset(X_train, label=y_train, free_raw_data=False)\n",
    "    dvalid = lgb.Dataset(X_val,   label=y_val, free_raw_data=False)\n",
    "    boosting = None\n",
    "    n_rounds = trial.suggest_int(\"n_estimators\", 50, 200)\n",
    "    for i in range(n_rounds):\n",
    "        boosting = lgb.train(\n",
    "            params,\n",
    "            dtrain,\n",
    "            num_boost_round=1,\n",
    "            init_model=boosting,\n",
    "            valid_sets=[dvalid],\n",
    "            # verbose_eval=False,\n",
    "        )\n",
    "        preds = boosting.predict(X_val)\n",
    "        val_auc = roc_auc_score(y_val, preds)\n",
    "        trial.report(val_auc, i)\n",
    "        if trial.should_prune():\n",
    "            raise optuna.exceptions.TrialPruned()\n",
    "    return val_auc\n",
    "\n",
    "study = optuna.create_study(\n",
    "    storage=f'sqlite:///{os.path.join(os.getcwd(), \"optuna_study.db\")}',\n",
    "    load_if_exists=True,\n",
    "    study_name='lgb_optimization',\n",
    "    pruner=optuna.pruners.MedianPruner(n_startup_trials=5, n_warmup_steps=30, interval_steps=1),\n",
    "    direction='maximize', sampler=optuna.samplers.TPESampler(seed=42)\n",
    "    )\n",
    "study.optimize(objective, n_trials=50)\n",
    "\n",
    "print('Best AUC:', study.best_value)\n",
    "print('Best params:', study.best_params)\n"
   ]
  },
  {
   "cell_type": "code",
   "execution_count": 12,
   "metadata": {},
   "outputs": [
    {
     "data": {
      "application/vnd.plotly.v1+json": {
       "config": {
        "plotlyServerURL": "https://plot.ly"
       },
       "data": [
        {
         "cliponaxis": false,
         "hovertemplate": [
          "max_depth (IntDistribution): 0.06858541597134991<extra></extra>",
          "num_leaves (IntDistribution): 0.08538343892612306<extra></extra>",
          "n_estimators (IntDistribution): 0.3280754824506593<extra></extra>",
          "learning_rate (FloatDistribution): 0.5179556626518678<extra></extra>"
         ],
         "name": "Objective Value",
         "orientation": "h",
         "text": [
          "0.07",
          "0.09",
          "0.33",
          "0.52"
         ],
         "textposition": "outside",
         "type": "bar",
         "x": [
          0.06858541597134991,
          0.08538343892612306,
          0.3280754824506593,
          0.5179556626518678
         ],
         "y": [
          "max_depth",
          "num_leaves",
          "n_estimators",
          "learning_rate"
         ]
        }
       ],
       "layout": {
        "template": {
         "data": {
          "bar": [
           {
            "error_x": {
             "color": "#2a3f5f"
            },
            "error_y": {
             "color": "#2a3f5f"
            },
            "marker": {
             "line": {
              "color": "#E5ECF6",
              "width": 0.5
             },
             "pattern": {
              "fillmode": "overlay",
              "size": 10,
              "solidity": 0.2
             }
            },
            "type": "bar"
           }
          ],
          "barpolar": [
           {
            "marker": {
             "line": {
              "color": "#E5ECF6",
              "width": 0.5
             },
             "pattern": {
              "fillmode": "overlay",
              "size": 10,
              "solidity": 0.2
             }
            },
            "type": "barpolar"
           }
          ],
          "carpet": [
           {
            "aaxis": {
             "endlinecolor": "#2a3f5f",
             "gridcolor": "white",
             "linecolor": "white",
             "minorgridcolor": "white",
             "startlinecolor": "#2a3f5f"
            },
            "baxis": {
             "endlinecolor": "#2a3f5f",
             "gridcolor": "white",
             "linecolor": "white",
             "minorgridcolor": "white",
             "startlinecolor": "#2a3f5f"
            },
            "type": "carpet"
           }
          ],
          "choropleth": [
           {
            "colorbar": {
             "outlinewidth": 0,
             "ticks": ""
            },
            "type": "choropleth"
           }
          ],
          "contour": [
           {
            "colorbar": {
             "outlinewidth": 0,
             "ticks": ""
            },
            "colorscale": [
             [
              0,
              "#0d0887"
             ],
             [
              0.1111111111111111,
              "#46039f"
             ],
             [
              0.2222222222222222,
              "#7201a8"
             ],
             [
              0.3333333333333333,
              "#9c179e"
             ],
             [
              0.4444444444444444,
              "#bd3786"
             ],
             [
              0.5555555555555556,
              "#d8576b"
             ],
             [
              0.6666666666666666,
              "#ed7953"
             ],
             [
              0.7777777777777778,
              "#fb9f3a"
             ],
             [
              0.8888888888888888,
              "#fdca26"
             ],
             [
              1,
              "#f0f921"
             ]
            ],
            "type": "contour"
           }
          ],
          "contourcarpet": [
           {
            "colorbar": {
             "outlinewidth": 0,
             "ticks": ""
            },
            "type": "contourcarpet"
           }
          ],
          "heatmap": [
           {
            "colorbar": {
             "outlinewidth": 0,
             "ticks": ""
            },
            "colorscale": [
             [
              0,
              "#0d0887"
             ],
             [
              0.1111111111111111,
              "#46039f"
             ],
             [
              0.2222222222222222,
              "#7201a8"
             ],
             [
              0.3333333333333333,
              "#9c179e"
             ],
             [
              0.4444444444444444,
              "#bd3786"
             ],
             [
              0.5555555555555556,
              "#d8576b"
             ],
             [
              0.6666666666666666,
              "#ed7953"
             ],
             [
              0.7777777777777778,
              "#fb9f3a"
             ],
             [
              0.8888888888888888,
              "#fdca26"
             ],
             [
              1,
              "#f0f921"
             ]
            ],
            "type": "heatmap"
           }
          ],
          "histogram": [
           {
            "marker": {
             "pattern": {
              "fillmode": "overlay",
              "size": 10,
              "solidity": 0.2
             }
            },
            "type": "histogram"
           }
          ],
          "histogram2d": [
           {
            "colorbar": {
             "outlinewidth": 0,
             "ticks": ""
            },
            "colorscale": [
             [
              0,
              "#0d0887"
             ],
             [
              0.1111111111111111,
              "#46039f"
             ],
             [
              0.2222222222222222,
              "#7201a8"
             ],
             [
              0.3333333333333333,
              "#9c179e"
             ],
             [
              0.4444444444444444,
              "#bd3786"
             ],
             [
              0.5555555555555556,
              "#d8576b"
             ],
             [
              0.6666666666666666,
              "#ed7953"
             ],
             [
              0.7777777777777778,
              "#fb9f3a"
             ],
             [
              0.8888888888888888,
              "#fdca26"
             ],
             [
              1,
              "#f0f921"
             ]
            ],
            "type": "histogram2d"
           }
          ],
          "histogram2dcontour": [
           {
            "colorbar": {
             "outlinewidth": 0,
             "ticks": ""
            },
            "colorscale": [
             [
              0,
              "#0d0887"
             ],
             [
              0.1111111111111111,
              "#46039f"
             ],
             [
              0.2222222222222222,
              "#7201a8"
             ],
             [
              0.3333333333333333,
              "#9c179e"
             ],
             [
              0.4444444444444444,
              "#bd3786"
             ],
             [
              0.5555555555555556,
              "#d8576b"
             ],
             [
              0.6666666666666666,
              "#ed7953"
             ],
             [
              0.7777777777777778,
              "#fb9f3a"
             ],
             [
              0.8888888888888888,
              "#fdca26"
             ],
             [
              1,
              "#f0f921"
             ]
            ],
            "type": "histogram2dcontour"
           }
          ],
          "mesh3d": [
           {
            "colorbar": {
             "outlinewidth": 0,
             "ticks": ""
            },
            "type": "mesh3d"
           }
          ],
          "parcoords": [
           {
            "line": {
             "colorbar": {
              "outlinewidth": 0,
              "ticks": ""
             }
            },
            "type": "parcoords"
           }
          ],
          "pie": [
           {
            "automargin": true,
            "type": "pie"
           }
          ],
          "scatter": [
           {
            "fillpattern": {
             "fillmode": "overlay",
             "size": 10,
             "solidity": 0.2
            },
            "type": "scatter"
           }
          ],
          "scatter3d": [
           {
            "line": {
             "colorbar": {
              "outlinewidth": 0,
              "ticks": ""
             }
            },
            "marker": {
             "colorbar": {
              "outlinewidth": 0,
              "ticks": ""
             }
            },
            "type": "scatter3d"
           }
          ],
          "scattercarpet": [
           {
            "marker": {
             "colorbar": {
              "outlinewidth": 0,
              "ticks": ""
             }
            },
            "type": "scattercarpet"
           }
          ],
          "scattergeo": [
           {
            "marker": {
             "colorbar": {
              "outlinewidth": 0,
              "ticks": ""
             }
            },
            "type": "scattergeo"
           }
          ],
          "scattergl": [
           {
            "marker": {
             "colorbar": {
              "outlinewidth": 0,
              "ticks": ""
             }
            },
            "type": "scattergl"
           }
          ],
          "scattermap": [
           {
            "marker": {
             "colorbar": {
              "outlinewidth": 0,
              "ticks": ""
             }
            },
            "type": "scattermap"
           }
          ],
          "scattermapbox": [
           {
            "marker": {
             "colorbar": {
              "outlinewidth": 0,
              "ticks": ""
             }
            },
            "type": "scattermapbox"
           }
          ],
          "scatterpolar": [
           {
            "marker": {
             "colorbar": {
              "outlinewidth": 0,
              "ticks": ""
             }
            },
            "type": "scatterpolar"
           }
          ],
          "scatterpolargl": [
           {
            "marker": {
             "colorbar": {
              "outlinewidth": 0,
              "ticks": ""
             }
            },
            "type": "scatterpolargl"
           }
          ],
          "scatterternary": [
           {
            "marker": {
             "colorbar": {
              "outlinewidth": 0,
              "ticks": ""
             }
            },
            "type": "scatterternary"
           }
          ],
          "surface": [
           {
            "colorbar": {
             "outlinewidth": 0,
             "ticks": ""
            },
            "colorscale": [
             [
              0,
              "#0d0887"
             ],
             [
              0.1111111111111111,
              "#46039f"
             ],
             [
              0.2222222222222222,
              "#7201a8"
             ],
             [
              0.3333333333333333,
              "#9c179e"
             ],
             [
              0.4444444444444444,
              "#bd3786"
             ],
             [
              0.5555555555555556,
              "#d8576b"
             ],
             [
              0.6666666666666666,
              "#ed7953"
             ],
             [
              0.7777777777777778,
              "#fb9f3a"
             ],
             [
              0.8888888888888888,
              "#fdca26"
             ],
             [
              1,
              "#f0f921"
             ]
            ],
            "type": "surface"
           }
          ],
          "table": [
           {
            "cells": {
             "fill": {
              "color": "#EBF0F8"
             },
             "line": {
              "color": "white"
             }
            },
            "header": {
             "fill": {
              "color": "#C8D4E3"
             },
             "line": {
              "color": "white"
             }
            },
            "type": "table"
           }
          ]
         },
         "layout": {
          "annotationdefaults": {
           "arrowcolor": "#2a3f5f",
           "arrowhead": 0,
           "arrowwidth": 1
          },
          "autotypenumbers": "strict",
          "coloraxis": {
           "colorbar": {
            "outlinewidth": 0,
            "ticks": ""
           }
          },
          "colorscale": {
           "diverging": [
            [
             0,
             "#8e0152"
            ],
            [
             0.1,
             "#c51b7d"
            ],
            [
             0.2,
             "#de77ae"
            ],
            [
             0.3,
             "#f1b6da"
            ],
            [
             0.4,
             "#fde0ef"
            ],
            [
             0.5,
             "#f7f7f7"
            ],
            [
             0.6,
             "#e6f5d0"
            ],
            [
             0.7,
             "#b8e186"
            ],
            [
             0.8,
             "#7fbc41"
            ],
            [
             0.9,
             "#4d9221"
            ],
            [
             1,
             "#276419"
            ]
           ],
           "sequential": [
            [
             0,
             "#0d0887"
            ],
            [
             0.1111111111111111,
             "#46039f"
            ],
            [
             0.2222222222222222,
             "#7201a8"
            ],
            [
             0.3333333333333333,
             "#9c179e"
            ],
            [
             0.4444444444444444,
             "#bd3786"
            ],
            [
             0.5555555555555556,
             "#d8576b"
            ],
            [
             0.6666666666666666,
             "#ed7953"
            ],
            [
             0.7777777777777778,
             "#fb9f3a"
            ],
            [
             0.8888888888888888,
             "#fdca26"
            ],
            [
             1,
             "#f0f921"
            ]
           ],
           "sequentialminus": [
            [
             0,
             "#0d0887"
            ],
            [
             0.1111111111111111,
             "#46039f"
            ],
            [
             0.2222222222222222,
             "#7201a8"
            ],
            [
             0.3333333333333333,
             "#9c179e"
            ],
            [
             0.4444444444444444,
             "#bd3786"
            ],
            [
             0.5555555555555556,
             "#d8576b"
            ],
            [
             0.6666666666666666,
             "#ed7953"
            ],
            [
             0.7777777777777778,
             "#fb9f3a"
            ],
            [
             0.8888888888888888,
             "#fdca26"
            ],
            [
             1,
             "#f0f921"
            ]
           ]
          },
          "colorway": [
           "#636efa",
           "#EF553B",
           "#00cc96",
           "#ab63fa",
           "#FFA15A",
           "#19d3f3",
           "#FF6692",
           "#B6E880",
           "#FF97FF",
           "#FECB52"
          ],
          "font": {
           "color": "#2a3f5f"
          },
          "geo": {
           "bgcolor": "white",
           "lakecolor": "white",
           "landcolor": "#E5ECF6",
           "showlakes": true,
           "showland": true,
           "subunitcolor": "white"
          },
          "hoverlabel": {
           "align": "left"
          },
          "hovermode": "closest",
          "mapbox": {
           "style": "light"
          },
          "paper_bgcolor": "white",
          "plot_bgcolor": "#E5ECF6",
          "polar": {
           "angularaxis": {
            "gridcolor": "white",
            "linecolor": "white",
            "ticks": ""
           },
           "bgcolor": "#E5ECF6",
           "radialaxis": {
            "gridcolor": "white",
            "linecolor": "white",
            "ticks": ""
           }
          },
          "scene": {
           "xaxis": {
            "backgroundcolor": "#E5ECF6",
            "gridcolor": "white",
            "gridwidth": 2,
            "linecolor": "white",
            "showbackground": true,
            "ticks": "",
            "zerolinecolor": "white"
           },
           "yaxis": {
            "backgroundcolor": "#E5ECF6",
            "gridcolor": "white",
            "gridwidth": 2,
            "linecolor": "white",
            "showbackground": true,
            "ticks": "",
            "zerolinecolor": "white"
           },
           "zaxis": {
            "backgroundcolor": "#E5ECF6",
            "gridcolor": "white",
            "gridwidth": 2,
            "linecolor": "white",
            "showbackground": true,
            "ticks": "",
            "zerolinecolor": "white"
           }
          },
          "shapedefaults": {
           "line": {
            "color": "#2a3f5f"
           }
          },
          "ternary": {
           "aaxis": {
            "gridcolor": "white",
            "linecolor": "white",
            "ticks": ""
           },
           "baxis": {
            "gridcolor": "white",
            "linecolor": "white",
            "ticks": ""
           },
           "bgcolor": "#E5ECF6",
           "caxis": {
            "gridcolor": "white",
            "linecolor": "white",
            "ticks": ""
           }
          },
          "title": {
           "x": 0.05
          },
          "xaxis": {
           "automargin": true,
           "gridcolor": "white",
           "linecolor": "white",
           "ticks": "",
           "title": {
            "standoff": 15
           },
           "zerolinecolor": "white",
           "zerolinewidth": 2
          },
          "yaxis": {
           "automargin": true,
           "gridcolor": "white",
           "linecolor": "white",
           "ticks": "",
           "title": {
            "standoff": 15
           },
           "zerolinecolor": "white",
           "zerolinewidth": 2
          }
         }
        },
        "title": {
         "text": "Hyperparameter Importances"
        },
        "xaxis": {
         "title": {
          "text": "Hyperparameter Importance"
         }
        },
        "yaxis": {
         "title": {
          "text": "Hyperparameter"
         }
        }
       }
      }
     },
     "metadata": {},
     "output_type": "display_data"
    },
    {
     "data": {
      "application/vnd.plotly.v1+json": {
       "config": {
        "plotlyServerURL": "https://plot.ly"
       },
       "data": [
        {
         "mode": "markers",
         "name": "Objective Value",
         "type": "scatter",
         "x": [
          0,
          1,
          2,
          3,
          4,
          5,
          7,
          11,
          12,
          20,
          34
         ],
         "y": [
          0.945939323118085,
          0.9352782852942092,
          0.9475305168366414,
          0.9443138071873904,
          0.9425226666283535,
          0.9465064378093488,
          0.9454911388828359,
          0.9467431014349079,
          0.944132617834939,
          0.9472627237628639,
          0.9450820660056048
         ]
        },
        {
         "mode": "lines",
         "name": "Best Value",
         "type": "scatter",
         "x": [
          0,
          1,
          2,
          3,
          4,
          5,
          6,
          7,
          8,
          9,
          10,
          11,
          12,
          13,
          14,
          15,
          16,
          17,
          18,
          19,
          20,
          21,
          22,
          23,
          24,
          25,
          26,
          27,
          28,
          29,
          30,
          31,
          32,
          33,
          34,
          35,
          36,
          37,
          38,
          39,
          40,
          41,
          42,
          43,
          44,
          45,
          46,
          47,
          48,
          49
         ],
         "y": [
          0.945939323118085,
          0.945939323118085,
          0.9475305168366414,
          0.9475305168366414,
          0.9475305168366414,
          0.9475305168366414,
          0.9475305168366414,
          0.9475305168366414,
          0.9475305168366414,
          0.9475305168366414,
          0.9475305168366414,
          0.9475305168366414,
          0.9475305168366414,
          0.9475305168366414,
          0.9475305168366414,
          0.9475305168366414,
          0.9475305168366414,
          0.9475305168366414,
          0.9475305168366414,
          0.9475305168366414,
          0.9475305168366414,
          0.9475305168366414,
          0.9475305168366414,
          0.9475305168366414,
          0.9475305168366414,
          0.9475305168366414,
          0.9475305168366414,
          0.9475305168366414,
          0.9475305168366414,
          0.9475305168366414,
          0.9475305168366414,
          0.9475305168366414,
          0.9475305168366414,
          0.9475305168366414,
          0.9475305168366414,
          0.9475305168366414,
          0.9475305168366414,
          0.9475305168366414,
          0.9475305168366414,
          0.9475305168366414,
          0.9475305168366414,
          0.9475305168366414,
          0.9475305168366414,
          0.9475305168366414,
          0.9475305168366414,
          0.9475305168366414,
          0.9475305168366414,
          0.9475305168366414,
          0.9475305168366414,
          0.9475305168366414
         ]
        },
        {
         "marker": {
          "color": "#cccccc"
         },
         "mode": "markers",
         "name": "Infeasible Trial",
         "showlegend": false,
         "type": "scatter",
         "x": [],
         "y": []
        }
       ],
       "layout": {
        "template": {
         "data": {
          "bar": [
           {
            "error_x": {
             "color": "#2a3f5f"
            },
            "error_y": {
             "color": "#2a3f5f"
            },
            "marker": {
             "line": {
              "color": "#E5ECF6",
              "width": 0.5
             },
             "pattern": {
              "fillmode": "overlay",
              "size": 10,
              "solidity": 0.2
             }
            },
            "type": "bar"
           }
          ],
          "barpolar": [
           {
            "marker": {
             "line": {
              "color": "#E5ECF6",
              "width": 0.5
             },
             "pattern": {
              "fillmode": "overlay",
              "size": 10,
              "solidity": 0.2
             }
            },
            "type": "barpolar"
           }
          ],
          "carpet": [
           {
            "aaxis": {
             "endlinecolor": "#2a3f5f",
             "gridcolor": "white",
             "linecolor": "white",
             "minorgridcolor": "white",
             "startlinecolor": "#2a3f5f"
            },
            "baxis": {
             "endlinecolor": "#2a3f5f",
             "gridcolor": "white",
             "linecolor": "white",
             "minorgridcolor": "white",
             "startlinecolor": "#2a3f5f"
            },
            "type": "carpet"
           }
          ],
          "choropleth": [
           {
            "colorbar": {
             "outlinewidth": 0,
             "ticks": ""
            },
            "type": "choropleth"
           }
          ],
          "contour": [
           {
            "colorbar": {
             "outlinewidth": 0,
             "ticks": ""
            },
            "colorscale": [
             [
              0,
              "#0d0887"
             ],
             [
              0.1111111111111111,
              "#46039f"
             ],
             [
              0.2222222222222222,
              "#7201a8"
             ],
             [
              0.3333333333333333,
              "#9c179e"
             ],
             [
              0.4444444444444444,
              "#bd3786"
             ],
             [
              0.5555555555555556,
              "#d8576b"
             ],
             [
              0.6666666666666666,
              "#ed7953"
             ],
             [
              0.7777777777777778,
              "#fb9f3a"
             ],
             [
              0.8888888888888888,
              "#fdca26"
             ],
             [
              1,
              "#f0f921"
             ]
            ],
            "type": "contour"
           }
          ],
          "contourcarpet": [
           {
            "colorbar": {
             "outlinewidth": 0,
             "ticks": ""
            },
            "type": "contourcarpet"
           }
          ],
          "heatmap": [
           {
            "colorbar": {
             "outlinewidth": 0,
             "ticks": ""
            },
            "colorscale": [
             [
              0,
              "#0d0887"
             ],
             [
              0.1111111111111111,
              "#46039f"
             ],
             [
              0.2222222222222222,
              "#7201a8"
             ],
             [
              0.3333333333333333,
              "#9c179e"
             ],
             [
              0.4444444444444444,
              "#bd3786"
             ],
             [
              0.5555555555555556,
              "#d8576b"
             ],
             [
              0.6666666666666666,
              "#ed7953"
             ],
             [
              0.7777777777777778,
              "#fb9f3a"
             ],
             [
              0.8888888888888888,
              "#fdca26"
             ],
             [
              1,
              "#f0f921"
             ]
            ],
            "type": "heatmap"
           }
          ],
          "histogram": [
           {
            "marker": {
             "pattern": {
              "fillmode": "overlay",
              "size": 10,
              "solidity": 0.2
             }
            },
            "type": "histogram"
           }
          ],
          "histogram2d": [
           {
            "colorbar": {
             "outlinewidth": 0,
             "ticks": ""
            },
            "colorscale": [
             [
              0,
              "#0d0887"
             ],
             [
              0.1111111111111111,
              "#46039f"
             ],
             [
              0.2222222222222222,
              "#7201a8"
             ],
             [
              0.3333333333333333,
              "#9c179e"
             ],
             [
              0.4444444444444444,
              "#bd3786"
             ],
             [
              0.5555555555555556,
              "#d8576b"
             ],
             [
              0.6666666666666666,
              "#ed7953"
             ],
             [
              0.7777777777777778,
              "#fb9f3a"
             ],
             [
              0.8888888888888888,
              "#fdca26"
             ],
             [
              1,
              "#f0f921"
             ]
            ],
            "type": "histogram2d"
           }
          ],
          "histogram2dcontour": [
           {
            "colorbar": {
             "outlinewidth": 0,
             "ticks": ""
            },
            "colorscale": [
             [
              0,
              "#0d0887"
             ],
             [
              0.1111111111111111,
              "#46039f"
             ],
             [
              0.2222222222222222,
              "#7201a8"
             ],
             [
              0.3333333333333333,
              "#9c179e"
             ],
             [
              0.4444444444444444,
              "#bd3786"
             ],
             [
              0.5555555555555556,
              "#d8576b"
             ],
             [
              0.6666666666666666,
              "#ed7953"
             ],
             [
              0.7777777777777778,
              "#fb9f3a"
             ],
             [
              0.8888888888888888,
              "#fdca26"
             ],
             [
              1,
              "#f0f921"
             ]
            ],
            "type": "histogram2dcontour"
           }
          ],
          "mesh3d": [
           {
            "colorbar": {
             "outlinewidth": 0,
             "ticks": ""
            },
            "type": "mesh3d"
           }
          ],
          "parcoords": [
           {
            "line": {
             "colorbar": {
              "outlinewidth": 0,
              "ticks": ""
             }
            },
            "type": "parcoords"
           }
          ],
          "pie": [
           {
            "automargin": true,
            "type": "pie"
           }
          ],
          "scatter": [
           {
            "fillpattern": {
             "fillmode": "overlay",
             "size": 10,
             "solidity": 0.2
            },
            "type": "scatter"
           }
          ],
          "scatter3d": [
           {
            "line": {
             "colorbar": {
              "outlinewidth": 0,
              "ticks": ""
             }
            },
            "marker": {
             "colorbar": {
              "outlinewidth": 0,
              "ticks": ""
             }
            },
            "type": "scatter3d"
           }
          ],
          "scattercarpet": [
           {
            "marker": {
             "colorbar": {
              "outlinewidth": 0,
              "ticks": ""
             }
            },
            "type": "scattercarpet"
           }
          ],
          "scattergeo": [
           {
            "marker": {
             "colorbar": {
              "outlinewidth": 0,
              "ticks": ""
             }
            },
            "type": "scattergeo"
           }
          ],
          "scattergl": [
           {
            "marker": {
             "colorbar": {
              "outlinewidth": 0,
              "ticks": ""
             }
            },
            "type": "scattergl"
           }
          ],
          "scattermap": [
           {
            "marker": {
             "colorbar": {
              "outlinewidth": 0,
              "ticks": ""
             }
            },
            "type": "scattermap"
           }
          ],
          "scattermapbox": [
           {
            "marker": {
             "colorbar": {
              "outlinewidth": 0,
              "ticks": ""
             }
            },
            "type": "scattermapbox"
           }
          ],
          "scatterpolar": [
           {
            "marker": {
             "colorbar": {
              "outlinewidth": 0,
              "ticks": ""
             }
            },
            "type": "scatterpolar"
           }
          ],
          "scatterpolargl": [
           {
            "marker": {
             "colorbar": {
              "outlinewidth": 0,
              "ticks": ""
             }
            },
            "type": "scatterpolargl"
           }
          ],
          "scatterternary": [
           {
            "marker": {
             "colorbar": {
              "outlinewidth": 0,
              "ticks": ""
             }
            },
            "type": "scatterternary"
           }
          ],
          "surface": [
           {
            "colorbar": {
             "outlinewidth": 0,
             "ticks": ""
            },
            "colorscale": [
             [
              0,
              "#0d0887"
             ],
             [
              0.1111111111111111,
              "#46039f"
             ],
             [
              0.2222222222222222,
              "#7201a8"
             ],
             [
              0.3333333333333333,
              "#9c179e"
             ],
             [
              0.4444444444444444,
              "#bd3786"
             ],
             [
              0.5555555555555556,
              "#d8576b"
             ],
             [
              0.6666666666666666,
              "#ed7953"
             ],
             [
              0.7777777777777778,
              "#fb9f3a"
             ],
             [
              0.8888888888888888,
              "#fdca26"
             ],
             [
              1,
              "#f0f921"
             ]
            ],
            "type": "surface"
           }
          ],
          "table": [
           {
            "cells": {
             "fill": {
              "color": "#EBF0F8"
             },
             "line": {
              "color": "white"
             }
            },
            "header": {
             "fill": {
              "color": "#C8D4E3"
             },
             "line": {
              "color": "white"
             }
            },
            "type": "table"
           }
          ]
         },
         "layout": {
          "annotationdefaults": {
           "arrowcolor": "#2a3f5f",
           "arrowhead": 0,
           "arrowwidth": 1
          },
          "autotypenumbers": "strict",
          "coloraxis": {
           "colorbar": {
            "outlinewidth": 0,
            "ticks": ""
           }
          },
          "colorscale": {
           "diverging": [
            [
             0,
             "#8e0152"
            ],
            [
             0.1,
             "#c51b7d"
            ],
            [
             0.2,
             "#de77ae"
            ],
            [
             0.3,
             "#f1b6da"
            ],
            [
             0.4,
             "#fde0ef"
            ],
            [
             0.5,
             "#f7f7f7"
            ],
            [
             0.6,
             "#e6f5d0"
            ],
            [
             0.7,
             "#b8e186"
            ],
            [
             0.8,
             "#7fbc41"
            ],
            [
             0.9,
             "#4d9221"
            ],
            [
             1,
             "#276419"
            ]
           ],
           "sequential": [
            [
             0,
             "#0d0887"
            ],
            [
             0.1111111111111111,
             "#46039f"
            ],
            [
             0.2222222222222222,
             "#7201a8"
            ],
            [
             0.3333333333333333,
             "#9c179e"
            ],
            [
             0.4444444444444444,
             "#bd3786"
            ],
            [
             0.5555555555555556,
             "#d8576b"
            ],
            [
             0.6666666666666666,
             "#ed7953"
            ],
            [
             0.7777777777777778,
             "#fb9f3a"
            ],
            [
             0.8888888888888888,
             "#fdca26"
            ],
            [
             1,
             "#f0f921"
            ]
           ],
           "sequentialminus": [
            [
             0,
             "#0d0887"
            ],
            [
             0.1111111111111111,
             "#46039f"
            ],
            [
             0.2222222222222222,
             "#7201a8"
            ],
            [
             0.3333333333333333,
             "#9c179e"
            ],
            [
             0.4444444444444444,
             "#bd3786"
            ],
            [
             0.5555555555555556,
             "#d8576b"
            ],
            [
             0.6666666666666666,
             "#ed7953"
            ],
            [
             0.7777777777777778,
             "#fb9f3a"
            ],
            [
             0.8888888888888888,
             "#fdca26"
            ],
            [
             1,
             "#f0f921"
            ]
           ]
          },
          "colorway": [
           "#636efa",
           "#EF553B",
           "#00cc96",
           "#ab63fa",
           "#FFA15A",
           "#19d3f3",
           "#FF6692",
           "#B6E880",
           "#FF97FF",
           "#FECB52"
          ],
          "font": {
           "color": "#2a3f5f"
          },
          "geo": {
           "bgcolor": "white",
           "lakecolor": "white",
           "landcolor": "#E5ECF6",
           "showlakes": true,
           "showland": true,
           "subunitcolor": "white"
          },
          "hoverlabel": {
           "align": "left"
          },
          "hovermode": "closest",
          "mapbox": {
           "style": "light"
          },
          "paper_bgcolor": "white",
          "plot_bgcolor": "#E5ECF6",
          "polar": {
           "angularaxis": {
            "gridcolor": "white",
            "linecolor": "white",
            "ticks": ""
           },
           "bgcolor": "#E5ECF6",
           "radialaxis": {
            "gridcolor": "white",
            "linecolor": "white",
            "ticks": ""
           }
          },
          "scene": {
           "xaxis": {
            "backgroundcolor": "#E5ECF6",
            "gridcolor": "white",
            "gridwidth": 2,
            "linecolor": "white",
            "showbackground": true,
            "ticks": "",
            "zerolinecolor": "white"
           },
           "yaxis": {
            "backgroundcolor": "#E5ECF6",
            "gridcolor": "white",
            "gridwidth": 2,
            "linecolor": "white",
            "showbackground": true,
            "ticks": "",
            "zerolinecolor": "white"
           },
           "zaxis": {
            "backgroundcolor": "#E5ECF6",
            "gridcolor": "white",
            "gridwidth": 2,
            "linecolor": "white",
            "showbackground": true,
            "ticks": "",
            "zerolinecolor": "white"
           }
          },
          "shapedefaults": {
           "line": {
            "color": "#2a3f5f"
           }
          },
          "ternary": {
           "aaxis": {
            "gridcolor": "white",
            "linecolor": "white",
            "ticks": ""
           },
           "baxis": {
            "gridcolor": "white",
            "linecolor": "white",
            "ticks": ""
           },
           "bgcolor": "#E5ECF6",
           "caxis": {
            "gridcolor": "white",
            "linecolor": "white",
            "ticks": ""
           }
          },
          "title": {
           "x": 0.05
          },
          "xaxis": {
           "automargin": true,
           "gridcolor": "white",
           "linecolor": "white",
           "ticks": "",
           "title": {
            "standoff": 15
           },
           "zerolinecolor": "white",
           "zerolinewidth": 2
          },
          "yaxis": {
           "automargin": true,
           "gridcolor": "white",
           "linecolor": "white",
           "ticks": "",
           "title": {
            "standoff": 15
           },
           "zerolinecolor": "white",
           "zerolinewidth": 2
          }
         }
        },
        "title": {
         "text": "Optimization History Plot"
        },
        "xaxis": {
         "title": {
          "text": "Trial"
         }
        },
        "yaxis": {
         "title": {
          "text": "Objective Value"
         }
        }
       }
      }
     },
     "metadata": {},
     "output_type": "display_data"
    },
    {
     "data": {
      "application/vnd.plotly.v1+json": {
       "config": {
        "plotlyServerURL": "https://plot.ly"
       },
       "data": [
        {
         "marker": {
          "color": [
           0,
           1,
           2,
           3,
           4,
           5,
           7,
           11,
           12,
           20,
           34
          ],
          "colorbar": {
           "title": {
            "text": "Trial"
           },
           "x": 1,
           "xpad": 40
          },
          "colorscale": [
           [
            0,
            "rgb(247,251,255)"
           ],
           [
            0.125,
            "rgb(222,235,247)"
           ],
           [
            0.25,
            "rgb(198,219,239)"
           ],
           [
            0.375,
            "rgb(158,202,225)"
           ],
           [
            0.5,
            "rgb(107,174,214)"
           ],
           [
            0.625,
            "rgb(66,146,198)"
           ],
           [
            0.75,
            "rgb(33,113,181)"
           ],
           [
            0.875,
            "rgb(8,81,156)"
           ],
           [
            1,
            "rgb(8,48,107)"
           ]
          ],
          "line": {
           "color": "Grey",
           "width": 0.5
          },
          "showscale": true
         },
         "mode": "markers",
         "name": "Feasible Trial",
         "showlegend": false,
         "type": "scatter",
         "x": [
          0.05611516415334506,
          0.020513382630874502,
          0.1593052261624101,
          0.46225890010208287,
          0.04059611610484305,
          0.16738085788752127,
          0.15304852121831466,
          0.21276622723560154,
          0.2967159996859728,
          0.18288104180760964,
          0.24899652149944546
         ],
         "xaxis": "x",
         "y": [
          0.945939323118085,
          0.9352782852942092,
          0.9475305168366414,
          0.9443138071873904,
          0.9425226666283535,
          0.9465064378093488,
          0.9454911388828359,
          0.9467431014349079,
          0.944132617834939,
          0.9472627237628639,
          0.9450820660056048
         ],
         "yaxis": "y"
        },
        {
         "marker": {
          "color": [
           0,
           1,
           2,
           3,
           4,
           5,
           7,
           11,
           12,
           20,
           34
          ],
          "colorbar": {
           "title": {
            "text": "Trial"
           },
           "x": 1,
           "xpad": 40
          },
          "colorscale": [
           [
            0,
            "rgb(247,251,255)"
           ],
           [
            0.125,
            "rgb(222,235,247)"
           ],
           [
            0.25,
            "rgb(198,219,239)"
           ],
           [
            0.375,
            "rgb(158,202,225)"
           ],
           [
            0.5,
            "rgb(107,174,214)"
           ],
           [
            0.625,
            "rgb(66,146,198)"
           ],
           [
            0.75,
            "rgb(33,113,181)"
           ],
           [
            0.875,
            "rgb(8,81,156)"
           ],
           [
            1,
            "rgb(8,48,107)"
           ]
          ],
          "line": {
           "color": "Grey",
           "width": 0.5
          },
          "showscale": false
         },
         "mode": "markers",
         "name": "Feasible Trial",
         "showlegend": false,
         "type": "scatter",
         "x": [
          8,
          3,
          3,
          4,
          6,
          5,
          7,
          5,
          5,
          5,
          6
         ],
         "xaxis": "x2",
         "y": [
          0.945939323118085,
          0.9352782852942092,
          0.9475305168366414,
          0.9443138071873904,
          0.9425226666283535,
          0.9465064378093488,
          0.9454911388828359,
          0.9467431014349079,
          0.944132617834939,
          0.9472627237628639,
          0.9450820660056048
         ],
         "yaxis": "y2"
        },
        {
         "marker": {
          "color": [
           0,
           1,
           2,
           3,
           4,
           5,
           7,
           11,
           12,
           20,
           34
          ],
          "colorbar": {
           "title": {
            "text": "Trial"
           },
           "x": 1,
           "xpad": 40
          },
          "colorscale": [
           [
            0,
            "rgb(247,251,255)"
           ],
           [
            0.125,
            "rgb(222,235,247)"
           ],
           [
            0.25,
            "rgb(198,219,239)"
           ],
           [
            0.375,
            "rgb(158,202,225)"
           ],
           [
            0.5,
            "rgb(107,174,214)"
           ],
           [
            0.625,
            "rgb(66,146,198)"
           ],
           [
            0.75,
            "rgb(33,113,181)"
           ],
           [
            0.875,
            "rgb(8,81,156)"
           ],
           [
            1,
            "rgb(8,48,107)"
           ]
          ],
          "line": {
           "color": "Grey",
           "width": 0.5
          },
          "showscale": false
         },
         "mode": "markers",
         "name": "Feasible Trial",
         "showlegend": false,
         "type": "scatter",
         "x": [
          140,
          180,
          196,
          77,
          93,
          105,
          75,
          155,
          155,
          169,
          125
         ],
         "xaxis": "x3",
         "y": [
          0.945939323118085,
          0.9352782852942092,
          0.9475305168366414,
          0.9443138071873904,
          0.9425226666283535,
          0.9465064378093488,
          0.9454911388828359,
          0.9467431014349079,
          0.944132617834939,
          0.9472627237628639,
          0.9450820660056048
         ],
         "yaxis": "y3"
        },
        {
         "marker": {
          "color": [
           0,
           1,
           2,
           3,
           4,
           5,
           7,
           11,
           12,
           20,
           34
          ],
          "colorbar": {
           "title": {
            "text": "Trial"
           },
           "x": 1,
           "xpad": 40
          },
          "colorscale": [
           [
            0,
            "rgb(247,251,255)"
           ],
           [
            0.125,
            "rgb(222,235,247)"
           ],
           [
            0.25,
            "rgb(198,219,239)"
           ],
           [
            0.375,
            "rgb(158,202,225)"
           ],
           [
            0.5,
            "rgb(107,174,214)"
           ],
           [
            0.625,
            "rgb(66,146,198)"
           ],
           [
            0.75,
            "rgb(33,113,181)"
           ],
           [
            0.875,
            "rgb(8,81,156)"
           ],
           [
            1,
            "rgb(8,48,107)"
           ]
          ],
          "line": {
           "color": "Grey",
           "width": 0.5
          },
          "showscale": false
         },
         "mode": "markers",
         "name": "Feasible Trial",
         "showlegend": false,
         "type": "scatter",
         "x": [
          245,
          66,
          191,
          78,
          149,
          62,
          41,
          108,
          116,
          128,
          66
         ],
         "xaxis": "x4",
         "y": [
          0.945939323118085,
          0.9352782852942092,
          0.9475305168366414,
          0.9443138071873904,
          0.9425226666283535,
          0.9465064378093488,
          0.9454911388828359,
          0.9467431014349079,
          0.944132617834939,
          0.9472627237628639,
          0.9450820660056048
         ],
         "yaxis": "y4"
        }
       ],
       "layout": {
        "template": {
         "data": {
          "bar": [
           {
            "error_x": {
             "color": "#2a3f5f"
            },
            "error_y": {
             "color": "#2a3f5f"
            },
            "marker": {
             "line": {
              "color": "#E5ECF6",
              "width": 0.5
             },
             "pattern": {
              "fillmode": "overlay",
              "size": 10,
              "solidity": 0.2
             }
            },
            "type": "bar"
           }
          ],
          "barpolar": [
           {
            "marker": {
             "line": {
              "color": "#E5ECF6",
              "width": 0.5
             },
             "pattern": {
              "fillmode": "overlay",
              "size": 10,
              "solidity": 0.2
             }
            },
            "type": "barpolar"
           }
          ],
          "carpet": [
           {
            "aaxis": {
             "endlinecolor": "#2a3f5f",
             "gridcolor": "white",
             "linecolor": "white",
             "minorgridcolor": "white",
             "startlinecolor": "#2a3f5f"
            },
            "baxis": {
             "endlinecolor": "#2a3f5f",
             "gridcolor": "white",
             "linecolor": "white",
             "minorgridcolor": "white",
             "startlinecolor": "#2a3f5f"
            },
            "type": "carpet"
           }
          ],
          "choropleth": [
           {
            "colorbar": {
             "outlinewidth": 0,
             "ticks": ""
            },
            "type": "choropleth"
           }
          ],
          "contour": [
           {
            "colorbar": {
             "outlinewidth": 0,
             "ticks": ""
            },
            "colorscale": [
             [
              0,
              "#0d0887"
             ],
             [
              0.1111111111111111,
              "#46039f"
             ],
             [
              0.2222222222222222,
              "#7201a8"
             ],
             [
              0.3333333333333333,
              "#9c179e"
             ],
             [
              0.4444444444444444,
              "#bd3786"
             ],
             [
              0.5555555555555556,
              "#d8576b"
             ],
             [
              0.6666666666666666,
              "#ed7953"
             ],
             [
              0.7777777777777778,
              "#fb9f3a"
             ],
             [
              0.8888888888888888,
              "#fdca26"
             ],
             [
              1,
              "#f0f921"
             ]
            ],
            "type": "contour"
           }
          ],
          "contourcarpet": [
           {
            "colorbar": {
             "outlinewidth": 0,
             "ticks": ""
            },
            "type": "contourcarpet"
           }
          ],
          "heatmap": [
           {
            "colorbar": {
             "outlinewidth": 0,
             "ticks": ""
            },
            "colorscale": [
             [
              0,
              "#0d0887"
             ],
             [
              0.1111111111111111,
              "#46039f"
             ],
             [
              0.2222222222222222,
              "#7201a8"
             ],
             [
              0.3333333333333333,
              "#9c179e"
             ],
             [
              0.4444444444444444,
              "#bd3786"
             ],
             [
              0.5555555555555556,
              "#d8576b"
             ],
             [
              0.6666666666666666,
              "#ed7953"
             ],
             [
              0.7777777777777778,
              "#fb9f3a"
             ],
             [
              0.8888888888888888,
              "#fdca26"
             ],
             [
              1,
              "#f0f921"
             ]
            ],
            "type": "heatmap"
           }
          ],
          "histogram": [
           {
            "marker": {
             "pattern": {
              "fillmode": "overlay",
              "size": 10,
              "solidity": 0.2
             }
            },
            "type": "histogram"
           }
          ],
          "histogram2d": [
           {
            "colorbar": {
             "outlinewidth": 0,
             "ticks": ""
            },
            "colorscale": [
             [
              0,
              "#0d0887"
             ],
             [
              0.1111111111111111,
              "#46039f"
             ],
             [
              0.2222222222222222,
              "#7201a8"
             ],
             [
              0.3333333333333333,
              "#9c179e"
             ],
             [
              0.4444444444444444,
              "#bd3786"
             ],
             [
              0.5555555555555556,
              "#d8576b"
             ],
             [
              0.6666666666666666,
              "#ed7953"
             ],
             [
              0.7777777777777778,
              "#fb9f3a"
             ],
             [
              0.8888888888888888,
              "#fdca26"
             ],
             [
              1,
              "#f0f921"
             ]
            ],
            "type": "histogram2d"
           }
          ],
          "histogram2dcontour": [
           {
            "colorbar": {
             "outlinewidth": 0,
             "ticks": ""
            },
            "colorscale": [
             [
              0,
              "#0d0887"
             ],
             [
              0.1111111111111111,
              "#46039f"
             ],
             [
              0.2222222222222222,
              "#7201a8"
             ],
             [
              0.3333333333333333,
              "#9c179e"
             ],
             [
              0.4444444444444444,
              "#bd3786"
             ],
             [
              0.5555555555555556,
              "#d8576b"
             ],
             [
              0.6666666666666666,
              "#ed7953"
             ],
             [
              0.7777777777777778,
              "#fb9f3a"
             ],
             [
              0.8888888888888888,
              "#fdca26"
             ],
             [
              1,
              "#f0f921"
             ]
            ],
            "type": "histogram2dcontour"
           }
          ],
          "mesh3d": [
           {
            "colorbar": {
             "outlinewidth": 0,
             "ticks": ""
            },
            "type": "mesh3d"
           }
          ],
          "parcoords": [
           {
            "line": {
             "colorbar": {
              "outlinewidth": 0,
              "ticks": ""
             }
            },
            "type": "parcoords"
           }
          ],
          "pie": [
           {
            "automargin": true,
            "type": "pie"
           }
          ],
          "scatter": [
           {
            "fillpattern": {
             "fillmode": "overlay",
             "size": 10,
             "solidity": 0.2
            },
            "type": "scatter"
           }
          ],
          "scatter3d": [
           {
            "line": {
             "colorbar": {
              "outlinewidth": 0,
              "ticks": ""
             }
            },
            "marker": {
             "colorbar": {
              "outlinewidth": 0,
              "ticks": ""
             }
            },
            "type": "scatter3d"
           }
          ],
          "scattercarpet": [
           {
            "marker": {
             "colorbar": {
              "outlinewidth": 0,
              "ticks": ""
             }
            },
            "type": "scattercarpet"
           }
          ],
          "scattergeo": [
           {
            "marker": {
             "colorbar": {
              "outlinewidth": 0,
              "ticks": ""
             }
            },
            "type": "scattergeo"
           }
          ],
          "scattergl": [
           {
            "marker": {
             "colorbar": {
              "outlinewidth": 0,
              "ticks": ""
             }
            },
            "type": "scattergl"
           }
          ],
          "scattermap": [
           {
            "marker": {
             "colorbar": {
              "outlinewidth": 0,
              "ticks": ""
             }
            },
            "type": "scattermap"
           }
          ],
          "scattermapbox": [
           {
            "marker": {
             "colorbar": {
              "outlinewidth": 0,
              "ticks": ""
             }
            },
            "type": "scattermapbox"
           }
          ],
          "scatterpolar": [
           {
            "marker": {
             "colorbar": {
              "outlinewidth": 0,
              "ticks": ""
             }
            },
            "type": "scatterpolar"
           }
          ],
          "scatterpolargl": [
           {
            "marker": {
             "colorbar": {
              "outlinewidth": 0,
              "ticks": ""
             }
            },
            "type": "scatterpolargl"
           }
          ],
          "scatterternary": [
           {
            "marker": {
             "colorbar": {
              "outlinewidth": 0,
              "ticks": ""
             }
            },
            "type": "scatterternary"
           }
          ],
          "surface": [
           {
            "colorbar": {
             "outlinewidth": 0,
             "ticks": ""
            },
            "colorscale": [
             [
              0,
              "#0d0887"
             ],
             [
              0.1111111111111111,
              "#46039f"
             ],
             [
              0.2222222222222222,
              "#7201a8"
             ],
             [
              0.3333333333333333,
              "#9c179e"
             ],
             [
              0.4444444444444444,
              "#bd3786"
             ],
             [
              0.5555555555555556,
              "#d8576b"
             ],
             [
              0.6666666666666666,
              "#ed7953"
             ],
             [
              0.7777777777777778,
              "#fb9f3a"
             ],
             [
              0.8888888888888888,
              "#fdca26"
             ],
             [
              1,
              "#f0f921"
             ]
            ],
            "type": "surface"
           }
          ],
          "table": [
           {
            "cells": {
             "fill": {
              "color": "#EBF0F8"
             },
             "line": {
              "color": "white"
             }
            },
            "header": {
             "fill": {
              "color": "#C8D4E3"
             },
             "line": {
              "color": "white"
             }
            },
            "type": "table"
           }
          ]
         },
         "layout": {
          "annotationdefaults": {
           "arrowcolor": "#2a3f5f",
           "arrowhead": 0,
           "arrowwidth": 1
          },
          "autotypenumbers": "strict",
          "coloraxis": {
           "colorbar": {
            "outlinewidth": 0,
            "ticks": ""
           }
          },
          "colorscale": {
           "diverging": [
            [
             0,
             "#8e0152"
            ],
            [
             0.1,
             "#c51b7d"
            ],
            [
             0.2,
             "#de77ae"
            ],
            [
             0.3,
             "#f1b6da"
            ],
            [
             0.4,
             "#fde0ef"
            ],
            [
             0.5,
             "#f7f7f7"
            ],
            [
             0.6,
             "#e6f5d0"
            ],
            [
             0.7,
             "#b8e186"
            ],
            [
             0.8,
             "#7fbc41"
            ],
            [
             0.9,
             "#4d9221"
            ],
            [
             1,
             "#276419"
            ]
           ],
           "sequential": [
            [
             0,
             "#0d0887"
            ],
            [
             0.1111111111111111,
             "#46039f"
            ],
            [
             0.2222222222222222,
             "#7201a8"
            ],
            [
             0.3333333333333333,
             "#9c179e"
            ],
            [
             0.4444444444444444,
             "#bd3786"
            ],
            [
             0.5555555555555556,
             "#d8576b"
            ],
            [
             0.6666666666666666,
             "#ed7953"
            ],
            [
             0.7777777777777778,
             "#fb9f3a"
            ],
            [
             0.8888888888888888,
             "#fdca26"
            ],
            [
             1,
             "#f0f921"
            ]
           ],
           "sequentialminus": [
            [
             0,
             "#0d0887"
            ],
            [
             0.1111111111111111,
             "#46039f"
            ],
            [
             0.2222222222222222,
             "#7201a8"
            ],
            [
             0.3333333333333333,
             "#9c179e"
            ],
            [
             0.4444444444444444,
             "#bd3786"
            ],
            [
             0.5555555555555556,
             "#d8576b"
            ],
            [
             0.6666666666666666,
             "#ed7953"
            ],
            [
             0.7777777777777778,
             "#fb9f3a"
            ],
            [
             0.8888888888888888,
             "#fdca26"
            ],
            [
             1,
             "#f0f921"
            ]
           ]
          },
          "colorway": [
           "#636efa",
           "#EF553B",
           "#00cc96",
           "#ab63fa",
           "#FFA15A",
           "#19d3f3",
           "#FF6692",
           "#B6E880",
           "#FF97FF",
           "#FECB52"
          ],
          "font": {
           "color": "#2a3f5f"
          },
          "geo": {
           "bgcolor": "white",
           "lakecolor": "white",
           "landcolor": "#E5ECF6",
           "showlakes": true,
           "showland": true,
           "subunitcolor": "white"
          },
          "hoverlabel": {
           "align": "left"
          },
          "hovermode": "closest",
          "mapbox": {
           "style": "light"
          },
          "paper_bgcolor": "white",
          "plot_bgcolor": "#E5ECF6",
          "polar": {
           "angularaxis": {
            "gridcolor": "white",
            "linecolor": "white",
            "ticks": ""
           },
           "bgcolor": "#E5ECF6",
           "radialaxis": {
            "gridcolor": "white",
            "linecolor": "white",
            "ticks": ""
           }
          },
          "scene": {
           "xaxis": {
            "backgroundcolor": "#E5ECF6",
            "gridcolor": "white",
            "gridwidth": 2,
            "linecolor": "white",
            "showbackground": true,
            "ticks": "",
            "zerolinecolor": "white"
           },
           "yaxis": {
            "backgroundcolor": "#E5ECF6",
            "gridcolor": "white",
            "gridwidth": 2,
            "linecolor": "white",
            "showbackground": true,
            "ticks": "",
            "zerolinecolor": "white"
           },
           "zaxis": {
            "backgroundcolor": "#E5ECF6",
            "gridcolor": "white",
            "gridwidth": 2,
            "linecolor": "white",
            "showbackground": true,
            "ticks": "",
            "zerolinecolor": "white"
           }
          },
          "shapedefaults": {
           "line": {
            "color": "#2a3f5f"
           }
          },
          "ternary": {
           "aaxis": {
            "gridcolor": "white",
            "linecolor": "white",
            "ticks": ""
           },
           "baxis": {
            "gridcolor": "white",
            "linecolor": "white",
            "ticks": ""
           },
           "bgcolor": "#E5ECF6",
           "caxis": {
            "gridcolor": "white",
            "linecolor": "white",
            "ticks": ""
           }
          },
          "title": {
           "x": 0.05
          },
          "xaxis": {
           "automargin": true,
           "gridcolor": "white",
           "linecolor": "white",
           "ticks": "",
           "title": {
            "standoff": 15
           },
           "zerolinecolor": "white",
           "zerolinewidth": 2
          },
          "yaxis": {
           "automargin": true,
           "gridcolor": "white",
           "linecolor": "white",
           "ticks": "",
           "title": {
            "standoff": 15
           },
           "zerolinecolor": "white",
           "zerolinewidth": 2
          }
         }
        },
        "title": {
         "text": "Slice Plot"
        },
        "width": 1200,
        "xaxis": {
         "anchor": "y",
         "domain": [
          0,
          0.2125
         ],
         "title": {
          "text": "learning_rate"
         },
         "type": "log"
        },
        "xaxis2": {
         "anchor": "y2",
         "domain": [
          0.2625,
          0.475
         ],
         "title": {
          "text": "max_depth"
         }
        },
        "xaxis3": {
         "anchor": "y3",
         "domain": [
          0.525,
          0.7375
         ],
         "title": {
          "text": "n_estimators"
         }
        },
        "xaxis4": {
         "anchor": "y4",
         "domain": [
          0.7875,
          1
         ],
         "title": {
          "text": "num_leaves"
         }
        },
        "yaxis": {
         "anchor": "x",
         "domain": [
          0,
          1
         ],
         "title": {
          "text": "Objective Value"
         }
        },
        "yaxis2": {
         "anchor": "x2",
         "domain": [
          0,
          1
         ],
         "matches": "y",
         "showticklabels": false
        },
        "yaxis3": {
         "anchor": "x3",
         "domain": [
          0,
          1
         ],
         "matches": "y",
         "showticklabels": false
        },
        "yaxis4": {
         "anchor": "x4",
         "domain": [
          0,
          1
         ],
         "matches": "y",
         "showticklabels": false
        }
       }
      }
     },
     "metadata": {},
     "output_type": "display_data"
    },
    {
     "data": {
      "application/vnd.plotly.v1+json": {
       "config": {
        "plotlyServerURL": "https://plot.ly"
       },
       "data": [
        {
         "dimensions": [
          {
           "label": "Objective Value",
           "range": [
            0.9352782852942092,
            0.9475305168366414
           ],
           "values": [
            0.945939323118085,
            0.9352782852942092,
            0.9475305168366414,
            0.9443138071873904,
            0.9425226666283535,
            0.9465064378093488,
            0.9454911388828359,
            0.9467431014349079,
            0.944132617834939,
            0.9472627237628639,
            0.9450820660056048
           ]
          },
          {
           "label": "learning_rate",
           "range": [
            -1.6879627191151267,
            -0.33511471839915646
           ],
           "ticktext": [
            "0.0205",
            "0.1",
            "0.462"
           ],
           "tickvals": [
            -1.6879627191151267,
            -1,
            -0.33511471839915646
           ],
           "values": [
            -1.2509197623052748,
            -1.6879627191151267,
            -0.7977699765135824,
            -0.33511471839915646,
            -1.3915155140809246,
            -0.776294210555241,
            -0.815170862275915,
            -0.6720973072474814,
            -0.527659034781964,
            -0.7378313129220692,
            -0.6038067199891968
           ]
          },
          {
           "label": "max_depth",
           "range": [
            3,
            8
           ],
           "values": [
            8,
            3,
            3,
            4,
            6,
            5,
            7,
            5,
            5,
            5,
            6
           ]
          },
          {
           "label": "n_estimators",
           "range": [
            75,
            196
           ],
           "values": [
            140,
            180,
            196,
            77,
            93,
            105,
            75,
            155,
            155,
            169,
            125
           ]
          },
          {
           "label": "num_leaves",
           "range": [
            41,
            245
           ],
           "values": [
            245,
            66,
            191,
            78,
            149,
            62,
            41,
            108,
            116,
            128,
            66
           ]
          }
         ],
         "labelangle": 30,
         "labelside": "bottom",
         "line": {
          "color": [
           0.945939323118085,
           0.9352782852942092,
           0.9475305168366414,
           0.9443138071873904,
           0.9425226666283535,
           0.9465064378093488,
           0.9454911388828359,
           0.9467431014349079,
           0.944132617834939,
           0.9472627237628639,
           0.9450820660056048
          ],
          "colorbar": {
           "title": {
            "text": "Objective Value"
           }
          },
          "colorscale": [
           [
            0,
            "rgb(247,251,255)"
           ],
           [
            0.125,
            "rgb(222,235,247)"
           ],
           [
            0.25,
            "rgb(198,219,239)"
           ],
           [
            0.375,
            "rgb(158,202,225)"
           ],
           [
            0.5,
            "rgb(107,174,214)"
           ],
           [
            0.625,
            "rgb(66,146,198)"
           ],
           [
            0.75,
            "rgb(33,113,181)"
           ],
           [
            0.875,
            "rgb(8,81,156)"
           ],
           [
            1,
            "rgb(8,48,107)"
           ]
          ],
          "reversescale": false,
          "showscale": true
         },
         "type": "parcoords"
        }
       ],
       "layout": {
        "template": {
         "data": {
          "bar": [
           {
            "error_x": {
             "color": "#2a3f5f"
            },
            "error_y": {
             "color": "#2a3f5f"
            },
            "marker": {
             "line": {
              "color": "#E5ECF6",
              "width": 0.5
             },
             "pattern": {
              "fillmode": "overlay",
              "size": 10,
              "solidity": 0.2
             }
            },
            "type": "bar"
           }
          ],
          "barpolar": [
           {
            "marker": {
             "line": {
              "color": "#E5ECF6",
              "width": 0.5
             },
             "pattern": {
              "fillmode": "overlay",
              "size": 10,
              "solidity": 0.2
             }
            },
            "type": "barpolar"
           }
          ],
          "carpet": [
           {
            "aaxis": {
             "endlinecolor": "#2a3f5f",
             "gridcolor": "white",
             "linecolor": "white",
             "minorgridcolor": "white",
             "startlinecolor": "#2a3f5f"
            },
            "baxis": {
             "endlinecolor": "#2a3f5f",
             "gridcolor": "white",
             "linecolor": "white",
             "minorgridcolor": "white",
             "startlinecolor": "#2a3f5f"
            },
            "type": "carpet"
           }
          ],
          "choropleth": [
           {
            "colorbar": {
             "outlinewidth": 0,
             "ticks": ""
            },
            "type": "choropleth"
           }
          ],
          "contour": [
           {
            "colorbar": {
             "outlinewidth": 0,
             "ticks": ""
            },
            "colorscale": [
             [
              0,
              "#0d0887"
             ],
             [
              0.1111111111111111,
              "#46039f"
             ],
             [
              0.2222222222222222,
              "#7201a8"
             ],
             [
              0.3333333333333333,
              "#9c179e"
             ],
             [
              0.4444444444444444,
              "#bd3786"
             ],
             [
              0.5555555555555556,
              "#d8576b"
             ],
             [
              0.6666666666666666,
              "#ed7953"
             ],
             [
              0.7777777777777778,
              "#fb9f3a"
             ],
             [
              0.8888888888888888,
              "#fdca26"
             ],
             [
              1,
              "#f0f921"
             ]
            ],
            "type": "contour"
           }
          ],
          "contourcarpet": [
           {
            "colorbar": {
             "outlinewidth": 0,
             "ticks": ""
            },
            "type": "contourcarpet"
           }
          ],
          "heatmap": [
           {
            "colorbar": {
             "outlinewidth": 0,
             "ticks": ""
            },
            "colorscale": [
             [
              0,
              "#0d0887"
             ],
             [
              0.1111111111111111,
              "#46039f"
             ],
             [
              0.2222222222222222,
              "#7201a8"
             ],
             [
              0.3333333333333333,
              "#9c179e"
             ],
             [
              0.4444444444444444,
              "#bd3786"
             ],
             [
              0.5555555555555556,
              "#d8576b"
             ],
             [
              0.6666666666666666,
              "#ed7953"
             ],
             [
              0.7777777777777778,
              "#fb9f3a"
             ],
             [
              0.8888888888888888,
              "#fdca26"
             ],
             [
              1,
              "#f0f921"
             ]
            ],
            "type": "heatmap"
           }
          ],
          "histogram": [
           {
            "marker": {
             "pattern": {
              "fillmode": "overlay",
              "size": 10,
              "solidity": 0.2
             }
            },
            "type": "histogram"
           }
          ],
          "histogram2d": [
           {
            "colorbar": {
             "outlinewidth": 0,
             "ticks": ""
            },
            "colorscale": [
             [
              0,
              "#0d0887"
             ],
             [
              0.1111111111111111,
              "#46039f"
             ],
             [
              0.2222222222222222,
              "#7201a8"
             ],
             [
              0.3333333333333333,
              "#9c179e"
             ],
             [
              0.4444444444444444,
              "#bd3786"
             ],
             [
              0.5555555555555556,
              "#d8576b"
             ],
             [
              0.6666666666666666,
              "#ed7953"
             ],
             [
              0.7777777777777778,
              "#fb9f3a"
             ],
             [
              0.8888888888888888,
              "#fdca26"
             ],
             [
              1,
              "#f0f921"
             ]
            ],
            "type": "histogram2d"
           }
          ],
          "histogram2dcontour": [
           {
            "colorbar": {
             "outlinewidth": 0,
             "ticks": ""
            },
            "colorscale": [
             [
              0,
              "#0d0887"
             ],
             [
              0.1111111111111111,
              "#46039f"
             ],
             [
              0.2222222222222222,
              "#7201a8"
             ],
             [
              0.3333333333333333,
              "#9c179e"
             ],
             [
              0.4444444444444444,
              "#bd3786"
             ],
             [
              0.5555555555555556,
              "#d8576b"
             ],
             [
              0.6666666666666666,
              "#ed7953"
             ],
             [
              0.7777777777777778,
              "#fb9f3a"
             ],
             [
              0.8888888888888888,
              "#fdca26"
             ],
             [
              1,
              "#f0f921"
             ]
            ],
            "type": "histogram2dcontour"
           }
          ],
          "mesh3d": [
           {
            "colorbar": {
             "outlinewidth": 0,
             "ticks": ""
            },
            "type": "mesh3d"
           }
          ],
          "parcoords": [
           {
            "line": {
             "colorbar": {
              "outlinewidth": 0,
              "ticks": ""
             }
            },
            "type": "parcoords"
           }
          ],
          "pie": [
           {
            "automargin": true,
            "type": "pie"
           }
          ],
          "scatter": [
           {
            "fillpattern": {
             "fillmode": "overlay",
             "size": 10,
             "solidity": 0.2
            },
            "type": "scatter"
           }
          ],
          "scatter3d": [
           {
            "line": {
             "colorbar": {
              "outlinewidth": 0,
              "ticks": ""
             }
            },
            "marker": {
             "colorbar": {
              "outlinewidth": 0,
              "ticks": ""
             }
            },
            "type": "scatter3d"
           }
          ],
          "scattercarpet": [
           {
            "marker": {
             "colorbar": {
              "outlinewidth": 0,
              "ticks": ""
             }
            },
            "type": "scattercarpet"
           }
          ],
          "scattergeo": [
           {
            "marker": {
             "colorbar": {
              "outlinewidth": 0,
              "ticks": ""
             }
            },
            "type": "scattergeo"
           }
          ],
          "scattergl": [
           {
            "marker": {
             "colorbar": {
              "outlinewidth": 0,
              "ticks": ""
             }
            },
            "type": "scattergl"
           }
          ],
          "scattermap": [
           {
            "marker": {
             "colorbar": {
              "outlinewidth": 0,
              "ticks": ""
             }
            },
            "type": "scattermap"
           }
          ],
          "scattermapbox": [
           {
            "marker": {
             "colorbar": {
              "outlinewidth": 0,
              "ticks": ""
             }
            },
            "type": "scattermapbox"
           }
          ],
          "scatterpolar": [
           {
            "marker": {
             "colorbar": {
              "outlinewidth": 0,
              "ticks": ""
             }
            },
            "type": "scatterpolar"
           }
          ],
          "scatterpolargl": [
           {
            "marker": {
             "colorbar": {
              "outlinewidth": 0,
              "ticks": ""
             }
            },
            "type": "scatterpolargl"
           }
          ],
          "scatterternary": [
           {
            "marker": {
             "colorbar": {
              "outlinewidth": 0,
              "ticks": ""
             }
            },
            "type": "scatterternary"
           }
          ],
          "surface": [
           {
            "colorbar": {
             "outlinewidth": 0,
             "ticks": ""
            },
            "colorscale": [
             [
              0,
              "#0d0887"
             ],
             [
              0.1111111111111111,
              "#46039f"
             ],
             [
              0.2222222222222222,
              "#7201a8"
             ],
             [
              0.3333333333333333,
              "#9c179e"
             ],
             [
              0.4444444444444444,
              "#bd3786"
             ],
             [
              0.5555555555555556,
              "#d8576b"
             ],
             [
              0.6666666666666666,
              "#ed7953"
             ],
             [
              0.7777777777777778,
              "#fb9f3a"
             ],
             [
              0.8888888888888888,
              "#fdca26"
             ],
             [
              1,
              "#f0f921"
             ]
            ],
            "type": "surface"
           }
          ],
          "table": [
           {
            "cells": {
             "fill": {
              "color": "#EBF0F8"
             },
             "line": {
              "color": "white"
             }
            },
            "header": {
             "fill": {
              "color": "#C8D4E3"
             },
             "line": {
              "color": "white"
             }
            },
            "type": "table"
           }
          ]
         },
         "layout": {
          "annotationdefaults": {
           "arrowcolor": "#2a3f5f",
           "arrowhead": 0,
           "arrowwidth": 1
          },
          "autotypenumbers": "strict",
          "coloraxis": {
           "colorbar": {
            "outlinewidth": 0,
            "ticks": ""
           }
          },
          "colorscale": {
           "diverging": [
            [
             0,
             "#8e0152"
            ],
            [
             0.1,
             "#c51b7d"
            ],
            [
             0.2,
             "#de77ae"
            ],
            [
             0.3,
             "#f1b6da"
            ],
            [
             0.4,
             "#fde0ef"
            ],
            [
             0.5,
             "#f7f7f7"
            ],
            [
             0.6,
             "#e6f5d0"
            ],
            [
             0.7,
             "#b8e186"
            ],
            [
             0.8,
             "#7fbc41"
            ],
            [
             0.9,
             "#4d9221"
            ],
            [
             1,
             "#276419"
            ]
           ],
           "sequential": [
            [
             0,
             "#0d0887"
            ],
            [
             0.1111111111111111,
             "#46039f"
            ],
            [
             0.2222222222222222,
             "#7201a8"
            ],
            [
             0.3333333333333333,
             "#9c179e"
            ],
            [
             0.4444444444444444,
             "#bd3786"
            ],
            [
             0.5555555555555556,
             "#d8576b"
            ],
            [
             0.6666666666666666,
             "#ed7953"
            ],
            [
             0.7777777777777778,
             "#fb9f3a"
            ],
            [
             0.8888888888888888,
             "#fdca26"
            ],
            [
             1,
             "#f0f921"
            ]
           ],
           "sequentialminus": [
            [
             0,
             "#0d0887"
            ],
            [
             0.1111111111111111,
             "#46039f"
            ],
            [
             0.2222222222222222,
             "#7201a8"
            ],
            [
             0.3333333333333333,
             "#9c179e"
            ],
            [
             0.4444444444444444,
             "#bd3786"
            ],
            [
             0.5555555555555556,
             "#d8576b"
            ],
            [
             0.6666666666666666,
             "#ed7953"
            ],
            [
             0.7777777777777778,
             "#fb9f3a"
            ],
            [
             0.8888888888888888,
             "#fdca26"
            ],
            [
             1,
             "#f0f921"
            ]
           ]
          },
          "colorway": [
           "#636efa",
           "#EF553B",
           "#00cc96",
           "#ab63fa",
           "#FFA15A",
           "#19d3f3",
           "#FF6692",
           "#B6E880",
           "#FF97FF",
           "#FECB52"
          ],
          "font": {
           "color": "#2a3f5f"
          },
          "geo": {
           "bgcolor": "white",
           "lakecolor": "white",
           "landcolor": "#E5ECF6",
           "showlakes": true,
           "showland": true,
           "subunitcolor": "white"
          },
          "hoverlabel": {
           "align": "left"
          },
          "hovermode": "closest",
          "mapbox": {
           "style": "light"
          },
          "paper_bgcolor": "white",
          "plot_bgcolor": "#E5ECF6",
          "polar": {
           "angularaxis": {
            "gridcolor": "white",
            "linecolor": "white",
            "ticks": ""
           },
           "bgcolor": "#E5ECF6",
           "radialaxis": {
            "gridcolor": "white",
            "linecolor": "white",
            "ticks": ""
           }
          },
          "scene": {
           "xaxis": {
            "backgroundcolor": "#E5ECF6",
            "gridcolor": "white",
            "gridwidth": 2,
            "linecolor": "white",
            "showbackground": true,
            "ticks": "",
            "zerolinecolor": "white"
           },
           "yaxis": {
            "backgroundcolor": "#E5ECF6",
            "gridcolor": "white",
            "gridwidth": 2,
            "linecolor": "white",
            "showbackground": true,
            "ticks": "",
            "zerolinecolor": "white"
           },
           "zaxis": {
            "backgroundcolor": "#E5ECF6",
            "gridcolor": "white",
            "gridwidth": 2,
            "linecolor": "white",
            "showbackground": true,
            "ticks": "",
            "zerolinecolor": "white"
           }
          },
          "shapedefaults": {
           "line": {
            "color": "#2a3f5f"
           }
          },
          "ternary": {
           "aaxis": {
            "gridcolor": "white",
            "linecolor": "white",
            "ticks": ""
           },
           "baxis": {
            "gridcolor": "white",
            "linecolor": "white",
            "ticks": ""
           },
           "bgcolor": "#E5ECF6",
           "caxis": {
            "gridcolor": "white",
            "linecolor": "white",
            "ticks": ""
           }
          },
          "title": {
           "x": 0.05
          },
          "xaxis": {
           "automargin": true,
           "gridcolor": "white",
           "linecolor": "white",
           "ticks": "",
           "title": {
            "standoff": 15
           },
           "zerolinecolor": "white",
           "zerolinewidth": 2
          },
          "yaxis": {
           "automargin": true,
           "gridcolor": "white",
           "linecolor": "white",
           "ticks": "",
           "title": {
            "standoff": 15
           },
           "zerolinecolor": "white",
           "zerolinewidth": 2
          }
         }
        },
        "title": {
         "text": "Parallel Coordinate Plot"
        }
       }
      }
     },
     "metadata": {},
     "output_type": "display_data"
    }
   ],
   "source": [
    "import matplotlib.pyplot as plt\n",
    "import optuna.visualization as vis\n",
    "# Визуализация важности гиперпараметров\n",
    "fig = vis.plot_param_importances(study)\n",
    "fig.show()\n",
    "# Визуализация зависимости между гиперпараметрами и целевой метрикой\n",
    "fig = vis.plot_optimization_history(study)\n",
    "fig.show()\n",
    "# Визуализация зависимости между гиперпараметрами и целевой метрикой\n",
    "fig = vis.plot_slice(study)\n",
    "fig.show()\n",
    "# Визуализация зависимости между гиперпараметрами и целевой метрикой\n",
    "fig = vis.plot_parallel_coordinate(study)\n",
    "fig.show()"
   ]
  },
  {
   "cell_type": "markdown",
   "metadata": {
    "id": "0PVp7CgjoUyX"
   },
   "source": [
    "<font color='plum'>**Вопрос:** Какая архитектура вам нравится больше всего и почему?</font>\n",
    "\n",
    "<font color='plum'>**Ответ**: ... </font>"
   ]
  },
  {
   "cell_type": "markdown",
   "metadata": {
    "id": "VSOceQUzoUyX"
   },
   "source": [
    "### Бонус. Random Forest (0.5 балла)\n",
    "\n",
    "Если очень захотеть, оптуна может оптимизировать все, что угодно, даже нейросети. Давайте противопоставим бустингу его злейшего врага — алгоритм Random Forest.\n",
    "\n",
    "Возьмите реализацию случайного леса из <font color='lightgreen'>`lightgbm`</font>. Посмотрите, какие там есть гиперпараметры, переберите что-либо из них вместе с `max_depth` и `n_estimators`.\n",
    "\n",
    "Сравните его качество и динамику функции потерь (на обучающей и на валидационной выборке) с таковыми у бустинга и сделайте вывод, а нужен ли Random Forest?"
   ]
  },
  {
   "cell_type": "code",
   "execution_count": null,
   "metadata": {
    "id": "dgVsaIZXoUya"
   },
   "outputs": [],
   "source": [
    "# *𖣂♱𖠰𖣂↟*𖠰ᨒ↟*𖥧˚"
   ]
  },
  {
   "cell_type": "markdown",
   "metadata": {
    "id": "4_dPeCFvoUya",
    "pycharm": {
     "name": "#%% md\n"
    }
   },
   "source": [
    "### 3.4. Бустинг и вероятности (0.5 балла)\n",
    "\n",
    "С качеством мы более-менее разобрались, но что насчет вероятностей? Постройте калибровочную кривую для вашей лучшей модели бустинга. Насколько хорошо бустинг оценивает вероятности?"
   ]
  },
  {
   "cell_type": "code",
   "execution_count": 20,
   "metadata": {
    "id": "L7G-nV7ioUya",
    "pycharm": {
     "name": "#%%\n"
    }
   },
   "outputs": [
    {
     "data": {
      "image/png": "[encoded data removed]",
      "text/plain": [
       "<Figure size 640x480 with 1 Axes>"
      ]
     },
     "metadata": {},
     "output_type": "display_data"
    }
   ],
   "source": [
    "from sklearn.calibration import calibration_curve, CalibrationDisplay\n",
    "\n",
    "params = study.best_params\n",
    "dtrain = lgb.Dataset(X_train, label=y_train, free_raw_data=False)\n",
    "dvalid = lgb.Dataset(X_val, label=y_val, free_raw_data=False)\n",
    "\n",
    "boosting = lgb.train(\n",
    "    params,\n",
    "    dtrain,\n",
    "    valid_sets=[dvalid],\n",
    ")\n",
    "preds = boosting.predict(X_val)\n",
    "y_prob_boosting = boosting.predict(X_test, num_iteration=boosting.best_iteration)\n",
    "\n",
    "disp = CalibrationDisplay.from_predictions(y_test, np.clip(y_prob_boosting, 0, 1))\n",
    "# disp.plot()\n"
   ]
  },
  {
   "cell_type": "markdown",
   "metadata": {
    "id": "-_bQbOIdw9Ia"
   },
   "source": [
    "\n",
    "Постройте также калибровочную кривую для логистической регрессии, сравните их между собой. Проанализируйте полученные результаты."
   ]
  },
  {
   "cell_type": "code",
   "execution_count": 27,
   "metadata": {
    "id": "gZq3sd3Lw-R6"
   },
   "outputs": [
    {
     "data": {
      "image/png": "[encoded data removed]",
      "text/plain": [
       "<Figure size 1000x600 with 1 Axes>"
      ]
     },
     "metadata": {},
     "output_type": "display_data"
    },
    {
     "name": "stdout",
     "output_type": "stream",
     "text": [
      "Boosting ROC-AUC: 0.9376, average precision: 0.9616\n",
      "Logistic ROC-AUC: 0.9377, average precision: 0.9639\n"
     ]
    }
   ],
   "source": [
    "from sklearn.calibration import calibration_curve, CalibrationDisplay\n",
    "from sklearn.linear_model import LogisticRegression\n",
    "from sklearn.metrics import roc_auc_score, average_precision_score\n",
    "\n",
    "params = study.best_params\n",
    "dtrain = lgb.Dataset(X_train, label=y_train, free_raw_data=False)\n",
    "dvalid = lgb.Dataset(X_val, label=y_val, free_raw_data=False)\n",
    "\n",
    "boosting = lgb.train(\n",
    "    params,\n",
    "    dtrain,\n",
    "    valid_sets=[dvalid],\n",
    ")\n",
    "preds = boosting.predict(X_val)\n",
    "y_prob_boosting = boosting.predict(X_test, num_iteration=boosting.best_iteration)\n",
    "\n",
    "y_prob_logistic = LogisticRegression(max_iter=1000).fit(X_train, y_train).predict_proba(X_test)[:, 1]\n",
    "\n",
    "fig,ax = plt.subplots(figsize=(10, 6))\n",
    "disp_boost = CalibrationDisplay.from_predictions(y_test, np.clip(y_prob_boosting, 0, 1), name='Boosting', ax=ax)\n",
    "disp_plot = CalibrationDisplay.from_predictions(y_test, np.clip(y_prob_logistic, 0, 1), name='Logistic', ax=ax)\n",
    "plt.title('Calibration Curves')\n",
    "plt.show()\n",
    "\n",
    "print(f'Boosting ROC-AUC: {roc_auc_score(y_test, y_prob_boosting):.4f}, average precision: {average_precision_score(y_test, y_prob_boosting):.4f}')\n",
    "print(f'Logistic ROC-AUC: {roc_auc_score(y_test, y_prob_logistic):.4f}, average precision: {average_precision_score(y_test, y_prob_logistic):.4f}')\n"
   ]
  },
  {
   "cell_type": "markdown",
   "metadata": {
    "collapsed": false,
    "id": "uFVT_nokoUyb",
    "jupyter": {
     "outputs_hidden": false
    },
    "pycharm": {
     "name": "#%% md\n"
    }
   },
   "source": [
    "## Социализационный бонус. Новогоднее 🎆 (0.5 балла)\n",
    "\n",
    "Сфотографируйтесь с наряженной новогодней или рождественской ёлкой! Приложите фотографию, опишите свои впечатления, чего вы ждете от нового 2025 года?"
   ]
  },
  {
   "cell_type": "markdown",
   "metadata": {
    "id": "W2Ur9BXYoUyb"
   },
   "source": [
    "# *𖣂♱𖠰𖣂↟*𖠰ᨒ↟*𖥧˚*𖣂♱𖠰𖣂↟*𖠰ᨒ↟*𖥧˚*𖣂♱𖠰𖣂↟*𖠰ᨒ↟*𖥧˚*𖣂♱𖠰𖣂↟*𖠰ᨒ↟*𖥧˚*𖣂♱𖠰𖣂↟*𖠰ᨒ↟*𖥧˚"
   ]
  }
 ],
 "metadata": {
  "colab": {
   "provenance": []
  },
  "kernelspec": {
   "display_name": "Python 3",
   "language": "python",
   "name": "python3"
  },
  "language_info": {
   "codemirror_mode": {
    "name": "ipython",
    "version": 3
   },
   "file_extension": ".py",
   "mimetype": "text/x-python",
   "name": "python",
   "nbconvert_exporter": "python",
   "pygments_lexer": "ipython3",
   "version": "3.9.6"
  },
  "nbTranslate": {
   "displayLangs": [
    "*"
   ],
   "hotkey": "alt-t",
   "langInMainMenu": true,
   "sourceLang": "en",
   "targetLang": "fr",
   "useGoogleTranslate": true
  },
  "toc": {
   "base_numbering": 1,
   "nav_menu": {
    "height": "210px",
    "width": "492px"
   },
   "number_sections": false,
   "sideBar": true,
   "skip_h1_title": false,
   "title_cell": "Table of Contents",
   "title_sidebar": "Contents",
   "toc_cell": false,
   "toc_position": {},
   "toc_section_display": true,
   "toc_window_display": true
  },
  "varInspector": {
   "cols": {
    "lenName": 16,
    "lenType": 16,
    "lenVar": 40
   },
   "kernels_config": {
    "python": {
     "delete_cmd_postfix": "",
     "delete_cmd_prefix": "del ",
     "library": "var_list.py",
     "varRefreshCmd": "print(var_dic_list())"
    },
    "r": {
     "delete_cmd_postfix": ") ",
     "delete_cmd_prefix": "rm(",
     "library": "var_list.r",
     "varRefreshCmd": "cat(var_dic_list()) "
    }
   },
   "types_to_exclude": [
    "module",
    "function",
    "builtin_function_or_method",
    "instance",
    "_Feature"
   ],
   "window_display": false
  }
 },
 "nbformat": 4,
 "nbformat_minor": 4
}
